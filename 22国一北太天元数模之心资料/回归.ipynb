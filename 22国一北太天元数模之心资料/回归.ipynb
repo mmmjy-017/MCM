{
 "cells": [
  {
   "cell_type": "markdown",
   "id": "aa39c4f1",
   "metadata": {
    "pycharm": {
     "name": "#%% md\n"
    }
   },
   "source": [
    "# 八、回归分析\n",
    "本章介绍**多元线性回归分析**、**岭回归**、**LASSO回归**和**Logistic回归**及其Python实现。"
   ]
  },
  {
   "cell_type": "markdown",
   "id": "dfdb6584",
   "metadata": {
    "pycharm": {
     "name": "#%% md\n"
    }
   },
   "source": [
    "## （〇）拟合与回归的区别"
   ]
  },
  {
   "cell_type": "markdown",
   "id": "b2d25db9",
   "metadata": {
    "pycharm": {
     "name": "#%% md\n"
    }
   },
   "source": [
    "## （一）多元线性回回归分析\n",
    "**本质：** 拟合参数向量$\\boldsymbol{\\beta}$，使得$\\|\\boldsymbol{X} \\boldsymbol{\\beta}-\\boldsymbol{Y}\\|_{2}^{2}$达到最小值"
   ]
  },
  {
   "cell_type": "markdown",
   "id": "09b02160",
   "metadata": {
    "pycharm": {
     "name": "#%% md\n"
    }
   },
   "source": [
    "### 1.多元线性回归模型\n",
    "\n",
    "多元回归分析是研究**随机变量**之间**相关关系**的一种统计方法。通过对变量实际观测的分析、计算，建立**一个变量**与**另一组变量**的定量关系即回归方程，经统计检验认为回归效果显著后，可用于预测与控制。\n",
    "设随机变量 $y$ 与变量 $x_{1}, x_{2}, \\cdots, x_{m}$ 有关，则其 $m$ 元线性回归模型为\n",
    "\\begin{equation}\n",
    "y=\\beta_{0}+\\beta_{1} x_{1}+\\cdots+\\beta_{m} x_{m}+\\varepsilon,\n",
    "\\tag{(1)}\n",
    "\\end{equation}\n",
    "式中，$\\varepsilon$ 是随机误差服从正态分布 $N\\left(0, \\sigma^{2}\\right), \\beta_{0}, \\beta_{1}, \\cdots, \\beta_{m}$ 为回归系数。\n",
    "回归分析的主要步骤是:\n",
    "1. 由观测值确定参数 (回归系数) $\\beta_{0}, \\beta_{1}, \\cdots, \\beta_{m}$ 的 估计值 $b_{0}, b_{1}, \\cdots, b_{m}$；\n",
    "2. 对**线性关系**、**自变量**的显著性进行统计检验；\n",
    "3. 利用回归方程进行预测.\n",
    "#### （1）回归系数的最小二乘估计\n",
    "对 $y$ 及 $x_{1}, x_{2}, \\cdots, x_{m}$ 作 $n$ 次抽样得到 $n$ 组数据 $\\left(y_{i}, x_{i 1}, \\cdots, x_{i m}\\right), i=1, \\cdots, n$, $n>m$, 代入(1)，有\n",
    "\\begin{equation}\n",
    "y_{i}=\\beta_{0}+\\beta_{1} x_{i 1}+\\cdots+\\beta_{m} x_{i m}+\\varepsilon_{i}\n",
    "\\tag{(2)}\n",
    "\\end{equation}\n",
    "式中，$\\varepsilon_{i}(i=1,2, \\cdots, n)$ 是服从正态分布 $N\\left(0, \\sigma^{2}\\right)$ 的 $n$ 个**相互独立同分布**的随机变量。\n",
    "记\n",
    "$$\n",
    "\\boldsymbol{X}=\\left[\\begin{array}{ccccc}\n",
    "1 & x_{11} & x_{12} & \\cdots & x_{1 m} \\\\\n",
    "1 & x_{21} & x_{22} & \\cdots & x_{2 m} \\\\\n",
    "\\vdots & \\vdots & \\vdots & & \\vdots \\\\\n",
    "1 & x_{n 1} & x_{n 2} & \\cdots & x_{n m}\n",
    "\\end{array}\\right], \\quad \\boldsymbol{Y}=\\left[\\begin{array}{c}\n",
    "y_{1} \\\\\n",
    "y_{2} \\\\\n",
    "\\vdots \\\\\n",
    "y_{n}\n",
    "\\end{array}\\right]\n",
    "$$\n",
    "$$\n",
    "\\boldsymbol{\\varepsilon}=\\left[\\varepsilon_{1}, \\varepsilon_{2}, \\cdots, \\varepsilon_{n}\\right]^{\\mathrm{T}}, \\quad \\boldsymbol{\\beta}=\\left[\\beta_{0}, \\beta_{1}, \\cdots, \\beta_{m}\\right]^{\\mathrm{T}} .\n",
    "$$\n",
    "式(2)可以表示为\n",
    "$$\n",
    "\\left\\{\\begin{array}{l}\n",
    "\\boldsymbol{Y}=\\boldsymbol{X} \\boldsymbol{\\beta}+\\boldsymbol{\\varepsilon} \\\\\n",
    "\\varepsilon \\sim N\\left(0, \\sigma^{2} \\boldsymbol{E}_{n}\\right)\n",
    "\\end{array}\\right.\n",
    "$$\n",
    "其中，$\\boldsymbol{E}_{n}$ 为 $n$ 阶单位矩阵.\n",
    "模型(1)中的参数 $\\beta_{0}, \\beta_{1}, \\cdots, \\beta_{m}$ 用最小二乘法估计，即应选取估计值 $b_{j}$，使当 $\\beta_{j}=b_{j}, j=0,1,2, \\cdots, m$ 时，误差平方和\n",
    "$$\n",
    "Q=\\sum_{i=1}^{n} \\varepsilon_{i}^{2}=\\sum_{i=1}^{n}\\left(y_{i}-\\beta_{0}-\\beta_{1} x_{i 1}-\\cdots-\\beta_{m} x_{i m}\\right)^{2}\n",
    "$$\n",
    "达到最小。为此，令\n",
    "$$\n",
    "\\frac{\\partial Q}{\\partial \\beta_{j}}=0, \\quad j=0,1,2, \\cdots, m\n",
    "$$\n",
    "得\n",
    "$$\n",
    "\\left\\{\\begin{array}{l}\n",
    "\\frac{\\partial Q}{\\partial \\beta_{0}}=-2 \\sum_{i=1}^{n}\\left(y_{i}-\\beta_{0}-\\beta_{1} x_{i 1}-\\cdots-\\beta_{m} x_{i m}\\right)=0, \\\\\n",
    "\\frac{\\partial Q}{\\partial \\beta_{j}}=-2 \\sum_{i=1}^{n}\\left(y_{i}-\\beta_{0}-\\beta_{1} x_{i 1}-\\cdots-\\beta_{m} x_{i m}\\right) x_{i j}=0, \\quad j=1,2, \\cdots, m .\n",
    "\\end{array}\\right.\n",
    "$$\n",
    "经整理化为以下正规方程组\n",
    "$$\n",
    "\\left\\{\\begin{array}{c}\n",
    "\\beta_{0} n+\\beta_{1} \\sum_{i=1}^{n} x_{i 1}+\\beta_{2} \\sum_{i=1}^{n} x_{i 2}+\\cdots+\\beta_{m} \\sum_{i=1}^{n} x_{i m}=\\sum_{i=1}^{n} y_{i} \\\\\n",
    "\\beta_{0} \\sum_{i=1}^{n} x_{i 1}+\\beta_{1} \\sum_{i=1}^{n} x_{i 1}^{2}+\\beta_{2} \\sum_{i=1}^{n} x_{i 1} x_{i 2}+\\cdots+\\beta_{m} \\sum_{i=1}^{n} x_{i 1} x_{i m}=\\sum_{i=1}^{n} x_{i 1} y_{i} \\\\\n",
    "\\ldots \\cdots \\\\\n",
    "\\beta_{0} \\sum_{i=1}^{n} x_{i m}+\\beta_{1} \\sum_{i=1}^{n} x_{i 1} x_{i m}+\\beta_{2} \\sum_{i=1}^{n} x_{i 2} x_{i m}+\\cdots+\\beta_{m} \\sum_{i=1}^{n} x_{i m}^{2}=\\sum_{i=1}^{n} x_{i m} y_{i}\n",
    "\\end{array}\\right.\n",
    "$$\n",
    "正规方程组的矩阵形式为\n",
    "\\begin{equation}\n",
    "\\boldsymbol{X}^{\\mathrm{T}} \\boldsymbol{X} \\boldsymbol{\\beta}=\\boldsymbol{X}^{\\mathrm{T}} \\boldsymbol{Y}\n",
    "\\tag{(3)}\n",
    "\\end{equation}\n",
    "当矩阵 $\\boldsymbol{X}$ 列满秩时，$\\boldsymbol{X}^{\\mathrm{T}} \\boldsymbol{X}$ 为可逆方阵，式(3)的解为\n",
    "$$\n",
    "\\hat{\\boldsymbol{\\beta}}=\\left(\\boldsymbol{X}^{\\mathrm{T}} \\boldsymbol{X}\\right)^{-1} \\boldsymbol{X}^{\\mathrm{T}} \\boldsymbol{Y}\n",
    "$$\n",
    "将 $\\hat{\\boldsymbol{\\beta}}=\\left[b_{0}, b_{1}, \\cdots, b_{m}\\right]$ 代入(1)，得到 $y$ 的估计值\n",
    "$$\n",
    "\\hat{y}=b_{0}+b_{1} x_{1}+\\cdots+b_{m} x_{m}\n",
    "$$\n",
    "而这组数据的拟合值为 $\\hat{Y}=X \\hat{\\boldsymbol{\\beta}}$，拟合误差 $e=Y-\\hat{Y}$ 称为残差，可作为随机误差 $\\varepsilon$ 的估计，而\n",
    "\\begin{equation}\n",
    "\\mathrm{SSE} = ||e||_2^2 = \\sum_{i=1}^{n} e_{i}^{2}=\\sum_{i=1}^{n}\\left(y_{i}-\\hat{y}_{i}\\right)^{2}\n",
    "\\tag{(4)}\n",
    "\\end{equation}\n",
    "为残差平方和 (或剩余平方和)。\n"
   ]
  },
  {
   "cell_type": "markdown",
   "id": "17d4f568",
   "metadata": {
    "pycharm": {
     "name": "#%% md\n"
    }
   },
   "source": [
    "#### （2）回归方程和回归系数的检验\n",
    "**SSE**: The sum of squares due to error\n",
    "**SST**: Total sum of squares\n",
    "**SSR**: Sum of squares of the regression\n",
    "前面是在假定随机变量 $y$ 与变量 $x_{1}, x_{2}, \\cdots, x_{m}$ 具有线性关系的条件下建立线性回归方程的，但变量 $y$ 与变量 $x_{1}, x_{2}, \\cdots, x_{m}$ 是否有线性关系？所有的变量 $x_{1}, x_{2}, \\cdots, x_{m}$ 对变量 $y$ 是否都有影响？需要做**统计检验**。\n",
    "对总平方和 $\\mathrm{SST}=\\sum_{i=1}^{n}\\left(y_{i}-\\bar{y}\\right)^{2}$ 进行分解，有\n",
    "\\begin{equation}\n",
    "\\mathrm{SST}=\\mathrm{SSE}+\\mathrm{SSR}\n",
    "\\tag{(5)}\n",
    "\\end{equation}\n",
    "其中，SSE是由(4)定义的残差平方和，反映随机误差对 $y$ 的影响；$\\mathrm{SSR}=\\sum_{i=1}^{n}$ $\\left(\\hat{y}_{i}-\\bar{y}\\right)^{2}$ 称为回归平方和，反映自变量对 $y$ 的影响，这里$\\bar{y}=\\frac{1}{n} \\sum_{i=1}^{n} y_{i}, \\hat{y}_{i}=b_{0}+$ $b_{1} x_{i 1}+\\cdots+b_{m} x_{i m}$。上面的分解中利用了正规方程组，其中 SST 的自由度 $\\mathrm{df}_{T}=$ $n-1, \\mathrm{SSE}$ 的自由度 $\\mathrm{df}_{E}=n-m-1, \\mathrm{SSR}$ 的自由度 $\\mathrm{df}_{R}=m$。\n",
    "因变量 $y$ 与自变量 $x_{1}, \\cdots, x_{m}$ 之间是否存在如式(1)所示的线性关系是需要检验的。显然，如果所有的 $\\left|\\hat{\\beta}_{j}\\right|(j=1, \\cdots, m)$ 都很小，$y$ 与 $x_{1}, \\cdots, x_{m}$ 的线性关系就不明显，所以可令原假设为\n",
    "$$\n",
    "H_{0}: \\beta_{1}=\\beta_{2}=\\cdots=\\beta_{m}=0\n",
    "$$\n",
    "当 $H_{0}$ 成立时由分解式(5)定义的 SSR, SSE 满足\n",
    "$$\n",
    "F=\\frac{\\mathrm{SSR} / m}{\\operatorname{SSE} /(n-m-1)} \\sim F(m, n-m-1)\n",
    "$$\n",
    "对显著性水平 $\\alpha$，有上 $\\alpha$ 分位数 $F_{\\alpha}(m, n-m-1)$，若 $F>F_{\\alpha}(m, n-m-1)$，回归方程效果显著；若 $F<F_{\\alpha}(m, n-m-1)$，回归方程效果不显著。\n",
    "**注：** 当 $y$ 与 $x_{1}, \\cdots, x_{m}$ 的线性关系不明显时，可能存在**非线性关系**，如平方关系。\n",
    "当上面的 $H_{0}$ 被拒绝时，$\\beta_{j}$ 不全为零，但是不排除其中若干个等于零。所以应进一步作如下 $m+1$ 个检验 $(j=0,1, \\cdots, m)$：\n",
    "$$\n",
    "H_{0}^{(j)}: \\beta_{j}=0 \\quad(j=0,1, \\cdots, m)\n",
    "$$\n",
    "当 $H_{0}^{(j)}$ 为真时，统计量\n",
    "$$\n",
    "t_{j}=\\frac{b_{j} / \\sqrt{c_{j j}}}{\\sqrt{\\operatorname{SSE} /(n-m-1)}} \\sim t(n-m-1)\n",
    "$$\n",
    "其中，$c_{j j}$ 是 $\\left(\\boldsymbol{X}^{\\mathrm{T}} \\boldsymbol{X}\\right)^{-1}$ 中的第 $(j, j)$ 元素。\n",
    "对给定的 $\\alpha$，若 $\\left|t_{j}\\right|>t_{\\alpha / 2}(n-m-1)(j=1,2, \\cdots, m)$，拒绝 $H_{0}^{(j)}, x_{j}$ 的作用显著；否则，接受 $H_{0}^{(j)}, x_{j}$ 的作用不显著，去掉变量 $x_{j}$ 重新建立回归方程。\n",
    "还有一些衡量 $y$ 与 $x_{1}, \\cdots, x_{m}$ 相关程度的指标，如用回归平方和在总平方和中的比值定义复判定系数（也称拟合优度）\n",
    "$$\n",
    "R^{2}=\\frac{\\mathrm{SSR}}{\\mathrm{SST}} .\n",
    "$$\n",
    "$R=\\sqrt{R^{2}}$ 称为复相关系数，$R$ 越大，$y$ 与 $x_{1}, \\cdots, x_{m}$ 相关关系越密切，通常，$R$ 大于 $0.8$ (或 $0.9)$ 才认为相关关系成立。\n"
   ]
  },
  {
   "cell_type": "markdown",
   "id": "4ece74f5",
   "metadata": {
    "pycharm": {
     "name": "#%% md\n"
    }
   },
   "source": [
    "#### （3）回归方程的预测\n",
    "对于给定的 $x_{1}^{(0)}, x_{2}^{(0)}, \\cdots, x_{m}^{(0)}$，代入回归方程，得到\n",
    "$$\n",
    "\\hat{y}_{0}=b_{0}+b_{1} x_{1}^{(0)}+b_{2} x_{2}^{(0)}+\\cdots+b_{m} x_{m}^{(0)}\n",
    "$$\n",
    "用 $\\hat{y}_{0}$ 作为 $y$ 在点 $x_{1}^{(0)}, x_{2}^{(0)}, \\cdots, x_{m}^{(0)}$ 的预测值。\n",
    "也可以进行区间估计，记 $s=\\sqrt{\\frac{\\mathrm{SSE}}{n-m-1}}, \\boldsymbol{x}_{0}=\\left[1, x_{1}^{(0)}, x_{2}^{(0)}, \\cdots, x_{m}^{(0)}\\right]$，则 $y_{0}$ 的置信度为 $1-\\alpha$ 的预测区间为\n",
    "$$\n",
    "\\begin{aligned}\n",
    "&\\left(\\hat{y}_{0}-t_{1-\\alpha / 2}(n-m-1) s \\sqrt{1+\\boldsymbol{x}_{0}^{\\mathrm{T}}\\left(\\boldsymbol{X}^{\\mathrm{T}} \\boldsymbol{X}\\right)^{-1} \\boldsymbol{x}_{0}},\\right. \\\\\n",
    "&\\left.\\hat{y}_{0}+t_{1-\\alpha / 2}(n-m-1) s \\sqrt{1+\\boldsymbol{x}_{0}^{\\mathrm{T}}\\left(\\boldsymbol{X}^{\\mathrm{T}} \\boldsymbol{X}\\right)^{-1} \\boldsymbol{x}_{0}}\\right) .\n",
    "\\end{aligned}\n",
    "$$\n",
    "当 $n$ 较大时，有 $y_{0}$ 的近似预测区间：$95 \\%$ 的预测区间为 $\\left(\\hat{y}_{0}-2 s, \\hat{y}_{0}+2 s\\right), 98 \\%$ 的预测区间为 $\\left(\\hat{y}_{0}-3 s, \\hat{y}_{0}+3 s\\right)$。"
   ]
  },
  {
   "cell_type": "markdown",
   "id": "7312446f",
   "metadata": {
    "pycharm": {
     "name": "#%% md\n"
    }
   },
   "source": [
    "### 2.Python求解线性回归分析"
   ]
  },
  {
   "cell_type": "markdown",
   "id": "d7803bfc",
   "metadata": {
    "pycharm": {
     "name": "#%% md\n"
    }
   },
   "source": [
    "#### （1）利用模块sklearn_linear_model中的函数LinearRegression求解\n",
    "利用模块sklearn_linear_model中的函数LinearRegression求解可以求解多元线性回归问题，但模型检验只有一个指标$R^2$，需要用户编程实现模型的其他统计检验。\n",
    "构建并拟合模型的函数调用格式为 LinearRegression().fit(x,y)\n",
    "其中，$x$为自变量观测值矩阵（不包括全部元素为1的第一列），$y$为因变量的观察值向量。\n",
    "\n",
    "**例：** 水泥凝固时放出的热量 $y$ 与水泥中两种主要化学成分 $x_{1}, x_{2}$ 有关，今测得一组数据如下表所示，试确定一个线性回归模型 $y=a_{0}+a_{1} x_{1}+a_{2} x_{2}$。\n",
    "\n",
    "表 $\\quad x_{1}, x_{2}, y$ 的观测值\n",
    "\n",
    "\\begin{array}{cccc||cccc}\n",
    "\\hline 序号 & x_{1} & x_{2} & y & 序号 & x_{1} & x_{2} & y \\\\\n",
    "\\hline 1 & 7 & 26 & 78.5 & 8 & 1 & 31 & 72.5 \\\\\n",
    "2 & 1 & 29 & 74.3 & 9 & 2 & 54 & 93.1 \\\\\n",
    "3 & 11 & 56 & 104.3 & 10 & 21 & 47 & 115.9 \\\\\n",
    "4 & 11 & 31 & 87.6 & 11 & 1 & 40 & 83.8 \\\\\n",
    "5 & 7 & 52 & 95.9 & 12 & 11 & 66 & 113.3 \\\\\n",
    "6 & 11 & 55 & 109.2 & 13 & 10 & 68 & 109.4 \\\\\n",
    "7 & 3 & 71 & 102.7 & & & & \\\\\n",
    "\\hline\n",
    "\\end{array}\n",
    "**解** 求得的回归模型为\n",
    "$$\n",
    "y=52.5773+1.4683 x_{1}+0.6623 x_{2}\n",
    "$$\n",
    "模型的复判定系数（也称为拟合优度）$R^{2}=0.9787$，拟合效果很好。"
   ]
  },
  {
   "cell_type": "code",
   "execution_count": null,
   "id": "9294382f",
   "metadata": {
    "pycharm": {
     "name": "#%%\n"
    }
   },
   "outputs": [
    {
     "name": "stdout",
     "output_type": "stream",
     "text": [
      "b0=52.5773 \n",
      "b1=1.4683 \n",
      "b2=0.6623\n",
      "拟合优度R^2=0.9787\n"
     ]
    }
   ],
   "source": [
    "import numpy as np\n",
    "from sklearn.linear_model import LinearRegression\n",
    "\n",
    "a = np.array([[7, 26, 78.5],\n",
    "              [1, 29, 74.3],\n",
    "              [11, 56, 104.3],\n",
    "              [11, 31, 87.6],\n",
    "              [7, 52, 95.9],\n",
    "              [11, 55, 109.2],\n",
    "              [3, 71, 102.7],\n",
    "              [1, 31, 72.5],\n",
    "              [2, 54, 93.1],\n",
    "              [21, 47, 115.9],\n",
    "              [1, 40, 83.8],\n",
    "              [11, 66, 113.3],\n",
    "              [10, 68, 109.4]\n",
    "])\n",
    "\n",
    "model = LinearRegression().fit(a[:, :2], a[:, 2]) # 构建并拟合模型\n",
    "y = model.predict(a[:, :2]) # 求预测值\n",
    "b0 = model.intercept_\n",
    "b = model.coef_ # 输出回归系数\n",
    "R2 = model.score(a[:, :2], a[:, 2]) # 计算R^2\n",
    "print(\"b0=%.4f \\nb1=%.4f \\nb2=%.4f\"%(b0, b[0], b[1]))\n",
    "print(\"拟合优度R^2=%.4f\"%R2)"
   ]
  },
  {
   "cell_type": "markdown",
   "id": "a3a69e38",
   "metadata": {
    "pycharm": {
     "name": "#%% md\n"
    }
   },
   "source": [
    "#### （2）利用statsmodels库求解"
   ]
  },
  {
   "cell_type": "markdown",
   "id": "8b966525",
   "metadata": {
    "pycharm": {
     "name": "#%% md\n"
    }
   },
   "source": [
    "statsmodels可以使用两种模式求解回归分析模型，一种是基于公式的模式，另一种是基于数组的模式。\n",
    "1. 基于公式构建并拟合模型的调用格式为\n",
    "import statsmodels.api as sm\n",
    "sm.formula.ols(formula, data=df)\n",
    "其中，formula为引号括起来的公式，df为数据框或字典格式的数据。\n",
    "2. 基于数组构建并拟合模型的调用格式为\n",
    "import statsmodels.api as sm\n",
    "sm.OLS(y,X).fit()\n",
    "其中，y为因变量的观察值向量，X为自变量观测值矩阵再添加第一列全部元素为1得到的增广阵。"
   ]
  },
  {
   "cell_type": "code",
   "execution_count": null,
   "id": "f70dcf85",
   "metadata": {
    "pycharm": {
     "name": "#%%\n"
    }
   },
   "outputs": [
    {
     "name": "stdout",
     "output_type": "stream",
     "text": [
      "                            OLS Regression Results                            \n",
      "==============================================================================\n",
      "Dep. Variable:                      y   R-squared:                       0.979\n",
      "Model:                            OLS   Adj. R-squared:                  0.974\n",
      "Method:                 Least Squares   F-statistic:                     229.5\n",
      "Date:                Wed, 09 Aug 2023   Prob (F-statistic):           4.41e-09\n",
      "Time:                        13:43:36   Log-Likelihood:                -28.156\n",
      "No. Observations:                  13   AIC:                             62.31\n",
      "Df Residuals:                      10   BIC:                             64.01\n",
      "Df Model:                           2                                         \n",
      "Covariance Type:            nonrobust                                         \n",
      "==============================================================================\n",
      "                 coef    std err          t      P>|t|      [0.025      0.975]\n",
      "------------------------------------------------------------------------------\n",
      "Intercept     52.5773      2.286     22.998      0.000      47.483      57.671\n",
      "x1             1.4683      0.121     12.105      0.000       1.198       1.739\n",
      "x2             0.6623      0.046     14.442      0.000       0.560       0.764\n",
      "==============================================================================\n",
      "Omnibus:                        1.509   Durbin-Watson:                   1.922\n",
      "Prob(Omnibus):                  0.470   Jarque-Bera (JB):                1.104\n",
      "Skew:                           0.503   Prob(JB):                        0.576\n",
      "Kurtosis:                       1.987   Cond. No.                         175.\n",
      "==============================================================================\n",
      "\n",
      "Notes:\n",
      "[1] Standard Errors assume that the covariance matrix of the errors is correctly specified. \n",
      "------------\n",
      "\n",
      "0      80.074002\n",
      "1      73.250919\n",
      "2     105.814740\n",
      "3      89.258477\n",
      "4      97.292515\n",
      "5     105.152489\n",
      "6     104.002051\n",
      "7      74.575420\n",
      "8      91.275487\n",
      "9     114.537543\n",
      "10     80.535674\n",
      "11    112.437244\n",
      "12    112.293440\n",
      "dtype: float64\n"
     ]
    },
    {
     "name": "stderr",
     "output_type": "stream",
     "text": [
      "d:\\programme\\python\\lib\\site-packages\\scipy\\stats\\stats.py:1542: UserWarning: kurtosistest only valid for n>=20 ... continuing anyway, n=13\n",
      "  \"anyway, n=%i\" % int(n))\n"
     ]
    }
   ],
   "source": [
    "# 用statsmodels库基于公式求解上例\n",
    "import statsmodels.api as sm\n",
    "import numpy as np\n",
    "\n",
    "a = np.array([[7, 26, 78.5],\n",
    "              [1, 29, 74.3],\n",
    "              [11, 56, 104.3],\n",
    "              [11, 31, 87.6],\n",
    "              [7, 52, 95.9],\n",
    "              [11, 55, 109.2],\n",
    "              [3, 71, 102.7],\n",
    "              [1, 31, 72.5],\n",
    "              [2, 54, 93.1],\n",
    "              [21, 47, 115.9],\n",
    "              [1, 40, 83.8],\n",
    "              [11, 66, 113.3],\n",
    "              [10, 68, 109.4]\n",
    "])\n",
    "\n",
    "d = {'x1': a[:, 0], 'x2': a[:, 1], 'y': a[:, 2]}\n",
    "model = sm.formula.ols('y~x1+x2', d).fit() # 构建并拟合模型\n",
    "print(model.summary(), '\\n------------\\n') # 显示模型所有信息\n",
    "ypred = model.predict({'x1': a[:, 0], 'x2': a[:, 1]}) # 计算预测值\n",
    "print(ypred) # 输出预测值"
   ]
  },
  {
   "cell_type": "code",
   "execution_count": null,
   "id": "5ca84130",
   "metadata": {
    "pycharm": {
     "name": "#%%\n"
    }
   },
   "outputs": [
    {
     "name": "stdout",
     "output_type": "stream",
     "text": [
      "X= [[ 1.  7. 26.]\n",
      " [ 1.  1. 29.]\n",
      " [ 1. 11. 56.]\n",
      " [ 1. 11. 31.]\n",
      " [ 1.  7. 52.]\n",
      " [ 1. 11. 55.]\n",
      " [ 1.  3. 71.]\n",
      " [ 1.  1. 31.]\n",
      " [ 1.  2. 54.]\n",
      " [ 1. 21. 47.]\n",
      " [ 1.  1. 40.]\n",
      " [ 1. 11. 66.]\n",
      " [ 1. 10. 68.]]\n",
      "[52.57734888  1.46830574  0.66225049] \n",
      "-----------\n",
      "\n",
      "                 Results: Ordinary least squares\n",
      "=================================================================\n",
      "Model:              OLS              Adj. R-squared:     0.974   \n",
      "Dependent Variable: y                AIC:                62.3124 \n",
      "Date:               2023-08-09 13:43 BIC:                64.0072 \n",
      "No. Observations:   13               Log-Likelihood:     -28.156 \n",
      "Df Model:           2                F-statistic:        229.5   \n",
      "Df Residuals:       10               Prob (F-statistic): 4.41e-09\n",
      "R-squared:          0.979            Scale:              5.7904  \n",
      "-------------------------------------------------------------------\n",
      "           Coef.    Std.Err.      t      P>|t|     [0.025    0.975]\n",
      "-------------------------------------------------------------------\n",
      "const     52.5773     2.2862   22.9980   0.0000   47.4834   57.6713\n",
      "x1         1.4683     0.1213   12.1047   0.0000    1.1980    1.7386\n",
      "x2         0.6623     0.0459   14.4424   0.0000    0.5601    0.7644\n",
      "-----------------------------------------------------------------\n",
      "Omnibus:              1.509        Durbin-Watson:           1.922\n",
      "Prob(Omnibus):        0.470        Jarque-Bera (JB):        1.104\n",
      "Skew:                 0.503        Prob(JB):                0.576\n",
      "Kurtosis:             1.987        Condition No.:           175  \n",
      "=================================================================\n"
     ]
    },
    {
     "name": "stderr",
     "output_type": "stream",
     "text": [
      "d:\\programme\\python\\lib\\site-packages\\scipy\\stats\\stats.py:1542: UserWarning: kurtosistest only valid for n>=20 ... continuing anyway, n=13\n",
      "  \"anyway, n=%i\" % int(n))\n"
     ]
    }
   ],
   "source": [
    "# 用statsmodels库基于数组求解上例\n",
    "import statsmodels.api as sm\n",
    "import numpy as np\n",
    "\n",
    "a = np.array([[7, 26, 78.5],\n",
    "              [1, 29, 74.3],\n",
    "              [11, 56, 104.3],\n",
    "              [11, 31, 87.6],\n",
    "              [7, 52, 95.9],\n",
    "              [11, 55, 109.2],\n",
    "              [3, 71, 102.7],\n",
    "              [1, 31, 72.5],\n",
    "              [2, 54, 93.1],\n",
    "              [21, 47, 115.9],\n",
    "              [1, 40, 83.8],\n",
    "              [11, 66, 113.3],\n",
    "              [10, 68, 109.4]\n",
    "])\n",
    "\n",
    "X = sm.add_constant(a[:, :2]) # 增加第一列全部元素为1得到增广矩阵\n",
    "print('X=', X)\n",
    "model = sm.OLS(a[:, 2], X).fit() # 构建并拟合模型\n",
    "print(model.params, '\\n-----------\\n') # 提取所有回归系数\n",
    "y = model.predict(X) # 求已知自变量值的预测值\n",
    "print(model.summary2()) # 输出模型的所有结果"
   ]
  },
  {
   "cell_type": "markdown",
   "id": "2b2c890b",
   "metadata": {
    "pycharm": {
     "name": "#%% md\n"
    }
   },
   "source": [
    "## （二）线性回归模型的正则化\n",
    "对于多元线性回归，当$\\boldsymbol{X}^{\\mathrm{T}} \\boldsymbol{X}$不是满秩矩阵时存在多个解析解，它们都是能使得均方误差最小化，常见的作法是引入**正则化项**，**岭回归**和**LASSO回归**是目前最为流行的两种线性回归正则化方法。"
   ]
  },
  {
   "cell_type": "markdown",
   "id": "bd2fddc6",
   "metadata": {
    "pycharm": {
     "name": "#%% md\n"
    }
   },
   "source": [
    "### 1.多重共线性关系\n",
    "从理论上说，在讨论多元线性回归模型时，一般要求设计矩阵$\\boldsymbol{X}$中的列向量之间不存在线性关系。当$\\boldsymbol{X}$的列向量之间有较强的线性相关性时，即解释变量$x_{1}, x_{2}, \\cdots, x_{m}$之间出现严重的**多重共线性**，这时设计矩阵$\\boldsymbol{X}$将呈**病态**。在这种情况下，用普通最小二乘法估计模型参数，往往参数估计**方差太大**，使普通最小二乘法的效果变得很不理想。为了解决这一问题，统计学家从模型和数据的角度考虑，提出了很多改进方法，下面要介绍的**岭回归**和**LASSO回归**是其中的两种方法。\n",
    "**例** 下表是Malinvand于1966年提出的研究法国经济问题的一组数据。所考虑的因变量为进口总额$y$，三个解释变量分别为: 国内总产值$x_{1}$、储存量$x_{2}$、总消费量$x_{3}$ (单位均为10亿法郎)。\n",
    "\n",
    "表$\\quad 1949 \\sim 1959$ 年法国进口总额与相关变量的数据\n",
    "\n",
    "\\begin{array}{ccccc||ccccc}\n",
    "\\hline 年份 & x_{1} & x_{2} & x_{3} & y & 年份 & x_{1} & x_{2} & x_{3} & y \\\\\n",
    "\\hline 1949 & 149.3 & 4.2 & 108.1 & 15.9 & 1955 & 202.1 & 2.1 & 146.0 & 22.7 \\\\\n",
    "1950 & 171.5 & 4.1 & 114.8 & 16.4 & 1956 & 212.4 & 5.6 & 154.1 & 26.5 \\\\\n",
    "1951 & 175.5 & 3.1 & 123.2 & 19.0 & 1957 & 226.1 & 5.0 & 162.3 & 28.1 \\\\\n",
    "1952 & 180.8 & 3.1 & 126.9 & 19.1 & 1958 & 231.9 & 5.1 & 164.3 & 27.6 \\\\\n",
    "1953 & 190.7 & 1.1 & 132.1 & 18.8 & 1959 & 239.0 & 0.7 & 167.6 & 26.3 \\\\\n",
    "1954 & 202.1 & 2.2 & 137.7 & 20.4 & & & & & \\\\\n",
    "\\hline\n",
    "\\end{array}\n",
    "对于上述问题，可以直接用普通的最小二乘估计建立 $y$ 关于三个解释变量 $x_{1}, x_{2}$ 和 $x_{3}$ 的回归方程为\n",
    "$$\n",
    "y=-8.6203-0.0742 x_{1}+0.5104 x_{2}+0.3116 x_{3}\n",
    "$$\n",
    "并且模型的**统计检验指标都相当好**，但是 $x_{1}$ 的系数为负，这不符合经济意义，因为法国是一个原材料进口国，当国内总产值 $x_{1}$ 增加时，进口总额 $y$ 也应该增加，所以该系数的符号应该为正。其原因就是三个自变量 $x_{1}, x_{2}$ 和 $x_{3}$ 之间存在**多重共线性**。 $x_{1}, x_{2}$ 和 $x_{3}$ 三者的相关系数矩阵\n",
    "$$\n",
    "\\boldsymbol{R}=\\left[\\begin{array}{ccc}\n",
    "1 & -0.0329 & 0.9869 \\\\\n",
    "-0.0329 & 1 & 0.0357 \\\\\n",
    "0.9869 & 0.0357 & 1\n",
    "\\end{array}\\right],\n",
    "$$\n",
    "由此可知 $x_{1}$ 与 $x_{3}$ 间的相关系数高达 $0.9869$，这说明 $x_{1}$ 与 $x_{3}$ 基本线性相关，若将 $x_{3}$ 看作因变量，$x_{1}$ 看作解释变量，那么 $x_{3}$ 关于 $x_{1}$ 的一元线性回归方程为\n",
    "$$\n",
    "x_{3}=-4.9632+0.7297 x_{1}\n",
    "$$\n",
    "这说明当$x_1$变化时，$x_3$不可能保持一个常数，因此对回归系数的解释就复杂了，不能仅从其符号上做解释，$x_1$和$x_3$之间存在着多重共线性关系。"
   ]
  },
  {
   "cell_type": "code",
   "execution_count": null,
   "id": "07bd496d",
   "metadata": {
    "pycharm": {
     "name": "#%%\n"
    }
   },
   "outputs": [
    {
     "name": "stdout",
     "output_type": "stream",
     "text": [
      "                            OLS Regression Results                            \n",
      "==============================================================================\n",
      "Dep. Variable:                      y   R-squared:                       0.996\n",
      "Model:                            OLS   Adj. R-squared:                  0.994\n",
      "Method:                 Least Squares   F-statistic:                     542.0\n",
      "Date:                Wed, 09 Aug 2023   Prob (F-statistic):           1.20e-08\n",
      "Time:                        13:44:23   Log-Likelihood:                -1.7480\n",
      "No. Observations:                  11   AIC:                             11.50\n",
      "Df Residuals:                       7   BIC:                             13.09\n",
      "Df Model:                           3                                         \n",
      "Covariance Type:            nonrobust                                         \n",
      "==============================================================================\n",
      "                 coef    std err          t      P>|t|      [0.025      0.975]\n",
      "------------------------------------------------------------------------------\n",
      "const         -8.6203      0.897     -9.611      0.000     -10.741      -6.499\n",
      "x1            -0.0742      0.028     -2.691      0.031      -0.139      -0.009\n",
      "x2             0.5104      0.075      6.781      0.000       0.332       0.688\n",
      "x3             0.3116      0.037      8.357      0.000       0.223       0.400\n",
      "==============================================================================\n",
      "Omnibus:                        5.258   Durbin-Watson:                   2.400\n",
      "Prob(Omnibus):                  0.072   Jarque-Bera (JB):                2.250\n",
      "Skew:                           1.080   Prob(JB):                        0.325\n",
      "Kurtosis:                       3.495   Cond. No.                     2.05e+03\n",
      "==============================================================================\n",
      "\n",
      "Notes:\n",
      "[1] Standard Errors assume that the covariance matrix of the errors is correctly specified.\n",
      "[2] The condition number is large, 2.05e+03. This might indicate that there are\n",
      "strong multicollinearity or other numerical problems.\n",
      "------------------------------------------------------------ \n",
      "相关系数矩阵：\n",
      " [[ 1.         -0.03291436  0.98690551]\n",
      " [-0.03291436  1.          0.03567322]\n",
      " [ 0.98690551  0.03567322  1.        ]]\n",
      "------------------------------------------------------------ \n",
      "x3关于x1的一元线性回归方程：x3 = -4.9632 + 0.7297*x1\n"
     ]
    },
    {
     "name": "stderr",
     "output_type": "stream",
     "text": [
      "d:\\programme\\python\\lib\\site-packages\\scipy\\stats\\stats.py:1542: UserWarning: kurtosistest only valid for n>=20 ... continuing anyway, n=11\n",
      "  \"anyway, n=%i\" % int(n))\n"
     ]
    }
   ],
   "source": [
    "import numpy as np\n",
    "import statsmodels.api as sm\n",
    "\n",
    "a = np.array([[149.3, 4.2, 108.1, 15.9],\n",
    "              [171.5, 4.1, 114.8, 16.4],\n",
    "              [175.5, 3.1, 123.2, 19.0],\n",
    "              [180.8, 3.1, 126.9, 19.1],\n",
    "              [190.7, 1.1, 132.1, 18.8],\n",
    "              [202.1, 2.2, 137.7, 20.4],\n",
    "              [202.1, 2.1, 146.0, 22.7],\n",
    "              [212.4, 5.6, 154.1, 26.5],\n",
    "              [226.1, 5.0, 162.3, 28.1],\n",
    "              [231.9, 5.1, 164.3, 27.6],\n",
    "              [239.0, 0.7, 167.6, 26.3]\n",
    "])\n",
    "\n",
    "x = a[:, :3] # 提取自变量观测矩阵\n",
    "X = sm.add_constant(x) # 增加第一列全部元素为1得到增广矩阵\n",
    "model = sm.OLS(a[:, -1], X).fit() # 构建并拟合模型\n",
    "b = model.params # 提取所有回归系数\n",
    "y = model.predict(X) # 求已知自变量值的预测值\n",
    "print(model.summary()) # 输出模型的所有结果\n",
    "\n",
    "print('-'*60, \"\\n相关系数矩阵：\\n\", np.corrcoef(x.T))\n",
    "\n",
    "X1 = sm.add_constant(a[:, 0])\n",
    "model1 = sm.OLS(a[:, 2], X1).fit()\n",
    "print('-'*60, \"\\nx3关于x1的一元线性回归方程：x3 = {:.5} + {:.4}*x1\".format(model1.params[0], model1.params[1]))"
   ]
  },
  {
   "cell_type": "markdown",
   "id": "9bd5e7bc",
   "metadata": {
    "pycharm": {
     "name": "#%% md\n"
    }
   },
   "source": [
    "“多重共线性”一词由R. Frisch在19134年提出的，它原指模型的解释变量间存在线性关系。在实际经济问题中，由于经济变量本身的性质，多重共线性是存在于计量经济学模型中的一个普遍的问题，产生多重共线性的原因一般有以下三种情况：\n",
    "(1) 许多**经济变量**之间存在着相关关系，有着共同的变化趋势。例如，国民经济发展使国民增加了收入，随之消费、储蓄和投资出现了共同增长。当这些变量同时进入模型后就会带来多重共线性问题。如果采用其中的两个作为解释变量，就可能产生多重共线性问题。\n",
    "(2) 在回归模型中使用**滞后解释变量**，也可能产生多重共线性问题。由于经济变量的现期值和各滞后期值往往高度相关。因此使用滞后解释变量所形成的分布滞后模型就存在一定程度的多重共线性。\n",
    "(3) **样本数据**也会引起多重共线性问题。根据回归模型的假设，解释变量是非随机变量，由于收集的数据过窄而造成某些解释变量似乎有相同或相反的变化趋势，也就是说解释变量即使在总体上不存在线性关系，其样本也可能是线性相关的。在此意义上说，多重共线性是一种样本现象。\n",
    "一般地，关于多重共线性关系，给出如下定义：\n",
    "**定义：** 当设计矩阵$\\boldsymbol{X}$的列向量间具有近似的线性相关时，即存在不全为0的常数$c_{0}, c_{1}, \\cdots, c_{m}$，使得 $c_{0}+c_{1} x_{1}+\\cdots+c_{m} x_{m} \\approx 0$，称各自变量之间有**多重共线性关系**。"
   ]
  },
  {
   "cell_type": "markdown",
   "id": "dc2c6f44",
   "metadata": {
    "pycharm": {
     "name": "#%% md\n"
    }
   },
   "source": [
    "### 2.岭回归\n",
    "**本质：** 选择合适的参数$k \\geqslant 0$，拟合参数向量$\\boldsymbol{\\beta}$，使得$\\|\\boldsymbol{X} \\boldsymbol{\\beta}-\\boldsymbol{Y}\\|_{2}^{2}+k\\|\\boldsymbol{\\beta}\\|_{2}^{2}$达到最小值，解决了$\\boldsymbol{X}^{\\mathrm{T}} \\boldsymbol{X}$不可逆的问题。"
   ]
  },
  {
   "cell_type": "markdown",
   "id": "29251ace",
   "metadata": {
    "pycharm": {
     "name": "#%% md\n"
    }
   },
   "source": [
    "#### （1）岭估计的定义及性质\n",
    "岭估计提出的想法很自然。当$x_{1}, x_{2}, \\cdots, x_{m}$间存在多重共线性关系时，也就是$\\left|\\boldsymbol{X}^{\\mathrm{T}} \\boldsymbol{X}\\right| \\approx 0$，设想给$\\boldsymbol{X}^{\\mathrm{T}} \\boldsymbol{X}$加上一个**正常数矩阵**$k \\boldsymbol{I}(k>0)$，那么$\\left(\\boldsymbol{X}^{\\mathrm{T}} \\boldsymbol{X}+k \\boldsymbol{I}\\right)$接近奇异的可能性要比$\\boldsymbol{X}^{\\mathrm{T}} \\boldsymbol{X}$接近奇异的可能性小得多，因此用\n",
    "\\begin{equation}\n",
    "\\hat{\\boldsymbol{\\beta}}(k)=\\left(\\boldsymbol{X}^{\\mathrm{T}} \\boldsymbol{X}+k \\boldsymbol{I}\\right)^{-1} \\boldsymbol{X}^{\\mathrm{T}} \\boldsymbol{Y}\n",
    "\\tag{(6)}\n",
    "\\end{equation}\n",
    "作为$\\beta$的估计应该比用最小二乘估计稳定。为此，给出岭估计的如下定义：\n",
    "**定义：** 设$0 \\leqslant k<+\\infty$，满足(6)式的$\\hat{\\boldsymbol{\\beta}}(k)$称为$\\boldsymbol{\\beta}$的岭估计。由$\\boldsymbol{\\beta}$的岭估计建立的回归方程称为**岭回归方程**。其中$k$称为**岭参数**。对于回归系数$\\hat{\\boldsymbol{\\beta}}(k)=\\left[b_{0}(k), b_{1}(k), \\cdots, b_{m}(k)\\right]^{\\mathrm{T}}$的分量$b_{j}(k)(j \\geqslant 1)$来说，在直角坐标系$\\left(k, b_{j}(k)\\right)$的图像是$m$条曲线，称为**岭迹**。\n",
    "当$k=0$时，$\\hat{\\boldsymbol{\\beta}}(0)$即为原来的最小二乘估计。\n",
    "下面介绍岭估计的一些**重要性质**。\n",
    "性质1: 岭估计不再是**无偏估计**。即$E(\\hat{\\boldsymbol{\\beta}}(k)) \\neq \\boldsymbol{\\beta}$。\n",
    "性质2: 岭估计是**压缩估计**。即$\\|\\hat{\\boldsymbol{\\beta}}(k)\\| \\leqslant\\|\\hat{\\boldsymbol{\\beta}}\\|$。\n",
    "#### （2）岭参数 $k$ 的选择\n",
    "岭参数$k$的选择有很多种方法，这里只介绍两种容易理解的方法。\n",
    "##### a)岭迹法\n",
    "观察岭迹曲线，原则上应该选取使$\\hat{\\boldsymbol{\\beta}}(k)$**稳定的最小$k$值**，同时残差平方和也不增加太多。\n",
    "##### b)均方误差法\n",
    "岭估计的均方误差$\\operatorname{mse}(\\hat{\\boldsymbol{\\beta}}(k))=E\\|\\hat{\\boldsymbol{\\beta}}(k)-\\boldsymbol{\\beta}\\|^{2}$是$k$的函数，可以证明它能在某处取得最小值。计算并观察$\\operatorname{mse}(\\hat{\\boldsymbol{\\beta}}(k))$，开始它将下降，到达最小值后开始上升。取它**最小处**的$k$作为岭参数。\n",
    "#### （3）岭回归的应用\n",
    "**例** 求\"多重线性关系\"一节中法国经济问题的岭回归方程。\n",
    "**解** 画出的岭迹图如下图所示，从岭迹图可以看出选$k=0.4$较好。对应的标准化岭回归方程为\n",
    "$$\n",
    "\\hat{y}^{*}=0.2518 x_{1}^{*}+0.2262 x_{2}^{*}+0.6902 x_{3}^{*}\n",
    "$$\n",
    "将标准化回归方程还原后得\n",
    "$$\n",
    "\\hat{y}=-9.5320+0.0410 x_{1}+0.6231 x_{2}+0.1520 x_{3}\n",
    "$$\n",
    "拟合优度$R^2 = 0.9843$\n",
    "**注：** 在程序中使用了函数RidgeCV确定了最佳$k$值，但拟合出的$x_1$系数是负的，最终还是主观确定$k=0.4$."
   ]
  },
  {
   "cell_type": "code",
   "execution_count": null,
   "id": "55b3e72b",
   "metadata": {
    "pycharm": {
     "name": "#%%\n"
    }
   },
   "outputs": [
    {
     "name": "stdout",
     "output_type": "stream",
     "text": [
      "数据标准化:\n",
      " [[-1.84174802  0.5723404  -1.6080184  -1.38287391]\n",
      " [-1.00747819  0.50874702 -1.26746968 -1.26745955]\n",
      " [-0.8571593  -0.12718675 -0.84051307 -0.66730486]\n",
      " [-0.65798677 -0.12718675 -0.65244885 -0.64422199]\n",
      " [-0.28594752 -1.3990543  -0.38814237 -0.71347061]\n",
      " [ 0.14246131 -0.69952715 -0.10350463 -0.34414465]\n",
      " [ 0.14246131 -0.76312053  0.31836916  0.18676142]\n",
      " [ 0.52953245  1.46264768  0.73007732  1.06391058]\n",
      " [ 1.04437464  1.08108742  1.1468683   1.43323655]\n",
      " [ 1.26233703  1.14468079  1.24852463  1.31782218]\n",
      " [ 1.52915306 -1.65342781  1.41625759  1.01774484]] \n",
      " ------------------------------------------------------------\n",
      "kk:\n",
      " [1.00000000e-04 1.09749877e-04 1.20450354e-04 1.32194115e-04\n",
      " 1.45082878e-04 1.59228279e-04 1.74752840e-04 1.91791026e-04\n",
      " 2.10490414e-04 2.31012970e-04 2.53536449e-04 2.78255940e-04\n",
      " 3.05385551e-04 3.35160265e-04 3.67837977e-04 4.03701726e-04\n",
      " 4.43062146e-04 4.86260158e-04 5.33669923e-04 5.85702082e-04\n",
      " 6.42807312e-04 7.05480231e-04 7.74263683e-04 8.49753436e-04\n",
      " 9.32603347e-04 1.02353102e-03 1.12332403e-03 1.23284674e-03\n",
      " 1.35304777e-03 1.48496826e-03 1.62975083e-03 1.78864953e-03\n",
      " 1.96304065e-03 2.15443469e-03 2.36448941e-03 2.59502421e-03\n",
      " 2.84803587e-03 3.12571585e-03 3.43046929e-03 3.76493581e-03\n",
      " 4.13201240e-03 4.53487851e-03 4.97702356e-03 5.46227722e-03\n",
      " 5.99484250e-03 6.57933225e-03 7.22080902e-03 7.92482898e-03\n",
      " 8.69749003e-03 9.54548457e-03 1.04761575e-02 1.14975700e-02\n",
      " 1.26185688e-02 1.38488637e-02 1.51991108e-02 1.66810054e-02\n",
      " 1.83073828e-02 2.00923300e-02 2.20513074e-02 2.42012826e-02\n",
      " 2.65608778e-02 2.91505306e-02 3.19926714e-02 3.51119173e-02\n",
      " 3.85352859e-02 4.22924287e-02 4.64158883e-02 5.09413801e-02\n",
      " 5.59081018e-02 6.13590727e-02 6.73415066e-02 7.39072203e-02\n",
      " 8.11130831e-02 8.90215085e-02 9.77009957e-02 1.07226722e-01\n",
      " 1.17681195e-01 1.29154967e-01 1.41747416e-01 1.55567614e-01\n",
      " 1.70735265e-01 1.87381742e-01 2.05651231e-01 2.25701972e-01\n",
      " 2.47707636e-01 2.71858824e-01 2.98364724e-01 3.27454916e-01\n",
      " 3.59381366e-01 3.94420606e-01 4.32876128e-01 4.75081016e-01\n",
      " 5.21400829e-01 5.72236766e-01 6.28029144e-01 6.89261210e-01\n",
      " 7.56463328e-01 8.30217568e-01 9.11162756e-01 1.00000000e+00] \n",
      " ------------------------------------------------------------\n",
      "b:\n",
      " [array([-0.45480229,  0.18533065,  1.41409126]), array([-0.454726  ,  0.18533574,  1.41401453]), array([-0.45464228,  0.18534131,  1.41393034]), array([-0.45455043,  0.18534743,  1.41383796]), array([-0.45444963,  0.18535415,  1.41373659]), array([-0.45433904,  0.18536152,  1.41362536]), array([-0.45421769,  0.18536961,  1.41350332]), array([-0.45408455,  0.18537848,  1.41336942]), array([-0.45393847,  0.18538821,  1.41322251]), array([-0.4537782 ,  0.18539889,  1.41306133]), array([-0.45360238,  0.18541061,  1.41288449]), array([-0.45340948,  0.18542346,  1.4126905 ]), array([-0.45319787,  0.18543756,  1.41247768]), array([-0.45296574,  0.18545302,  1.41224422]), array([-0.45271112,  0.18546999,  1.41198814]), array([-0.45243183,  0.1854886 ,  1.41170725]), array([-0.45212551,  0.185509  ,  1.41139917]), array([-0.45178955,  0.18553139,  1.41106129]), array([-0.45142113,  0.18555593,  1.41069075]), array([-0.45101712,  0.18558284,  1.41028442]), array([-0.45057413,  0.18561235,  1.40983888]), array([-0.45008844,  0.18564471,  1.4093504 ]), array([-0.44955599,  0.18568017,  1.40881488]), array([-0.44897234,  0.18571904,  1.40822787]), array([-0.44833264,  0.18576165,  1.40758447]), array([-0.4476316 ,  0.18580834,  1.40687938]), array([-0.44686345,  0.18585949,  1.40610677]), array([-0.44602189,  0.18591553,  1.40526032]), array([-0.44510006,  0.18597691,  1.40433313]), array([-0.44409049,  0.18604412,  1.40331769]), array([-0.44298507,  0.18611771,  1.40220581]), array([-0.44177495,  0.18619826,  1.40098861]), array([-0.44045056,  0.18628641,  1.39965644]), array([-0.43900148,  0.18638284,  1.39819882]), array([-0.43741644,  0.18648831,  1.39660442]), array([-0.43568324,  0.18660361,  1.39486094]), array([-0.43378869,  0.18672963,  1.39295512]), array([-0.43171858,  0.18686731,  1.39087263]), array([-0.42945756,  0.18701764,  1.38859803]), array([-0.42698918,  0.18718173,  1.38611475]), array([-0.42429575,  0.18736074,  1.38340497]), array([-0.42135837,  0.1875559 ,  1.38044963]), array([-0.41815682,  0.18776856,  1.3772284 ]), array([-0.41466963,  0.18800011,  1.37371959]), array([-0.41087397,  0.18825205,  1.36990022]), array([-0.40674574,  0.18852596,  1.36574597]), array([-0.40225954,  0.18882348,  1.36123122]), array([-0.39738876,  0.18914636,  1.35632911]), array([-0.39210563,  0.18949638,  1.35101161]), array([-0.38638138,  0.1898754 ,  1.34524964]), array([-0.38018633,  0.19028532,  1.33901322]), array([-0.37349019,  0.19072808,  1.33227167]), array([-0.36626221,  0.19120563,  1.32499388]), array([-0.35847156,  0.19171989,  1.31714859]), array([-0.35008767,  0.19227276,  1.30870475]), array([-0.34108067,  0.19286607,  1.29963198]), array([-0.33142189,  0.19350154,  1.28990104]), array([-0.32108439,  0.19418075,  1.2794844 ]), array([-0.31004364,  0.19490507,  1.26835683]), array([-0.29827815,  0.19567565,  1.2564961 ]), array([-0.28577021,  0.19649331,  1.2438837 ]), array([-0.27250665,  0.19735856,  1.23050557]), array([-0.25847963,  0.19827148,  1.21635289]), array([-0.24368737,  0.19923167,  1.20142281]), array([-0.22813492,  0.20023824,  1.18571922]), array([-0.21183482,  0.2012897 ,  1.16925336]), array([-0.19480766,  0.20238396,  1.15204444]), array([-0.17708257,  0.20351828,  1.13412003]), array([-0.15869747,  0.20468922,  1.11551638]), array([-0.13969917,  0.20589267,  1.09627845]), array([-0.12014331,  0.20712382,  1.07645985]), array([-0.10009393,  0.20837718,  1.05612241]), array([-0.07962292,  0.20964664,  1.03533562]), array([-0.05880923,  0.21092548,  1.01417574]), array([-0.03773771,  0.21220645,  0.99272475]), array([-0.01649799,  0.21348187,  0.97106907]), array([0.00481705, 0.21474369, 0.94929813]), array([0.02611271, 0.21598358, 0.92750282]), array([0.04729411, 0.21719306, 0.90577386]), array([0.06826774, 0.21836356, 0.88420022]), array([0.088943  , 0.21948655, 0.86286754]), array([0.10923358, 0.2205536 , 0.84185671]), array([0.12905876, 0.22155645, 0.82124254]), array([0.14834442, 0.22248709, 0.80109271]), array([0.16702385, 0.22333778, 0.78146688]), array([0.18503841, 0.2241011 , 0.76241605]), array([0.2023378 , 0.22476996, 0.74398219]), array([0.2188802 , 0.22533754, 0.72619806]), array([0.23463214, 0.22579736, 0.70908729]), array([0.24956822, 0.22614317, 0.69266459]), array([0.26367063, 0.22636895, 0.67693621]), array([0.27692855, 0.22646885, 0.66190044]), array([0.28933745, 0.22643714, 0.64754827]), array([0.30089835, 0.22626814, 0.63386404]), array([0.31161701, 0.22595621, 0.62082626]), array([0.32150315, 0.22549566, 0.60840826]), array([0.33056964, 0.22488074, 0.59657898]), array([0.33883177, 0.2241056 , 0.58530366]), array([0.34630658, 0.2231643 , 0.57454448]), array([0.35301215, 0.22205077, 0.5642612 ])] \n",
      " ------------------------------------------------------------\n"
     ]
    },
    {
     "data": {
      "image/png": "[encoded data removed]",
      "text/plain": [
       "<Figure size 864x576 with 1 Axes>"
      ]
     },
     "metadata": {
      "needs_background": "light"
     },
     "output_type": "display_data"
    },
    {
     "name": "stdout",
     "output_type": "stream",
     "text": [
      "最优岭参数= 0.001788649529057435\n",
      "标准化数据的所有回归系数为： [0.25175125 0.2261851  0.6902453 ]\n",
      "Mean:\n",
      " [198.30909091   3.3        139.73636364  21.89090909] \n",
      " ------------------------------------------------------------\n",
      "Std:\n",
      " [27.90890376  1.64924225 20.63440199  4.54366692] \n",
      " ------------------------------------------------------------\n",
      "原数据的回归系数为： [-9.532026187037488, array([0.04098598, 0.62314057, 0.15199106])]\n",
      "拟合优度： 0.9843368597895964\n"
     ]
    }
   ],
   "source": [
    "import numpy as np\n",
    "import matplotlib.pyplot as plt\n",
    "from sklearn.linear_model import Ridge, RidgeCV # Ridge求解岭回归\n",
    "from scipy.stats import zscore\n",
    "\n",
    "plt.rc('text', usetex=True) # 需要安装LaTeX宏包\n",
    "plt.rc('axes',unicode_minus=False)\n",
    "\n",
    "a = np.array([[149.3, 4.2, 108.1, 15.9],\n",
    "              [171.5, 4.1, 114.8, 16.4],\n",
    "              [175.5, 3.1, 123.2, 19.0],\n",
    "              [180.8, 3.1, 126.9, 19.1],\n",
    "              [190.7, 1.1, 132.1, 18.8],\n",
    "              [202.1, 2.2, 137.7, 20.4],\n",
    "              [202.1, 2.1, 146.0, 22.7],\n",
    "              [212.4, 5.6, 154.1, 26.5],\n",
    "              [226.1, 5.0, 162.3, 28.1],\n",
    "              [231.9, 5.1, 164.3, 27.6],\n",
    "              [239.0, 0.7, 167.6, 26.3]\n",
    "])\n",
    "\n",
    "n = a.shape[1] - 1 # 自变量的总个数\n",
    "aa = zscore(a) # 数据标准化\n",
    "print(\"数据标准化:\\n\", aa, '\\n', '-'*60)\n",
    "\n",
    "x = aa[:, :n] # 标准化后的自变量观测值\n",
    "y = aa[:, n] # 标准化后的因变量观测值\n",
    "\n",
    "b = [] # 用于存储回归系数的空列表\n",
    "kk = np.logspace(-4, 0, 100) # 循环迭代的不同k值，k即岭参数\n",
    "print('kk:\\n', kk, '\\n', '-'*60)\n",
    "for k in kk:\n",
    "    model = Ridge(alpha=k).fit(x, y)\n",
    "    b.append(model.coef_)\n",
    "print('b:\\n', b, '\\n', '-'*60)\n",
    "\n",
    "st = ['s-r', '*-k', 'p-b'] # 下面画图的控制字符串\n",
    "plt.figure(figsize=(12,8))\n",
    "for i in range(3):\n",
    "    plt.plot(kk, np.array(b)[:, i], st[i])\n",
    "plt.legend(['$x_1$', '$x_2$', '$x_3$'], fontsize=15)\n",
    "plt.xlabel(r\"$\\alpha$\")\n",
    "plt.ylabel(r\"$coef$\")\n",
    "plt.grid(axis='x', linestyle='-.', linewidth=1, color='black', alpha=0.3)\n",
    "plt.grid(axis='y', linestyle='-.', linewidth=1, color='black', alpha=0.3)\n",
    "plt.show()\n",
    "\n",
    "modelCV = RidgeCV(alphas=np.logspace(-4, 0, 100)).fit(x, y)\n",
    "print('最优岭参数=', modelCV.alpha_)\n",
    "# model0 = Ridge(modelCV.alpha_).fit(x, y) # 构建并拟合模型，通过RidgeCV函数求出的最优岭参数拟合出的x_1系数为负，最终主观确定k=0.4\n",
    "model0 = Ridge(0.4).fit(x, y) # 构建并拟合模型\n",
    "cs0 = model0.coef_ # 提出标准化数据的回归系数b1,b2,b3\n",
    "print('标准化数据的所有回归系数为：', cs0)\n",
    "\n",
    "# 计算所有指标的均值和标准差\n",
    "Mean = np.mean(a, axis=0)\n",
    "print('Mean:\\n', Mean, '\\n', '-'*60)\n",
    "Std = np.std(a, axis=0, ddof=1)\n",
    "print('Std:\\n', Std, '\\n', '-'*60)\n",
    "\n",
    "params = [Mean[-1] - Std[-1]*sum(cs0*Mean[:-1]/Std[:-1]), Std[-1]*cs0/Std[:-1]]\n",
    "print('原数据的回归系数为：', params)\n",
    "print('拟合优度：', model0.score(x, y))"
   ]
  },
  {
   "cell_type": "markdown",
   "id": "f67111bf",
   "metadata": {
    "pycharm": {
     "name": "#%% md\n"
    }
   },
   "source": [
    "### 3.LASSO回归\n",
    "**本质：** 选择合适的参数$k \\geqslant 0$，拟合参数向量$\\boldsymbol{\\beta}$，使得$J(\\boldsymbol{\\beta})=\\|\\boldsymbol{X} \\boldsymbol{\\beta}-\\boldsymbol{Y}\\|_{2}^{2}+k\\|\\boldsymbol{\\beta}\\|_{1}$达到最小值"
   ]
  },
  {
   "cell_type": "markdown",
   "id": "f74fc468",
   "metadata": {
    "pycharm": {
     "name": "#%% md\n"
    }
   },
   "source": [
    "#### （1）数学原理简介\n",
    "多元回归中的普通最小二乘法是拟合参数向量$\\boldsymbol{\\beta}$，使得$\\|\\boldsymbol{X} \\boldsymbol{\\beta}-\\boldsymbol{Y}\\|_{2}^{2}$达到最小值。岭回归是选择合适的参数$k \\geqslant 0$，拟合参数向量$\\boldsymbol{\\beta}$，使得$\\|\\boldsymbol{X} \\boldsymbol{\\beta}-\\boldsymbol{Y}\\|_{2}^{2}+k\\|\\boldsymbol{\\beta}\\|_{2}^{2}$达到最小值，解决了$\\boldsymbol{X}^{\\mathrm{T}} \\boldsymbol{X}$不可逆的问题。LASSO回归，是选择合适的参数$k \\geqslant 0$，拟合参数向量$\\boldsymbol{\\beta}$，使得\n",
    "\\begin{equation}\n",
    "J(\\boldsymbol{\\beta})=\\|\\boldsymbol{X} \\boldsymbol{\\beta}-\\boldsymbol{Y}\\|_{2}^{2}+k\\|\\boldsymbol{\\beta}\\|_{1}\n",
    "\\tag{(7)}\n",
    "\\end{equation}\n",
    "达到最小值，其中$k\\|\\boldsymbol{\\beta}\\|_{1}$为目标函数的**惩罚项**，$k$为**惩罚系数**。\n",
    "由于式(7)中的惩罚项是关于回归系数$\\beta$的绝对值之和，因此惩罚项在零点处是不可导的，那么应用在岭回归上的最小二乘法在此失效，不仅如此，梯度下降法、牛顿法与拟牛顿法都无法计算出LASSO回归的拟合系数。**坐标下降法**可以求得LASSO回归系数，坐标下降法与梯度下降法类似，都属于迭代算法，所不同的是坐标轴下降法是沿着坐标轴下降，而梯度下降法则是沿着梯度的负方向下降，具体的数学原理这里就不介绍了。\n",
    "由于拟合LASSO回归模型参数时，使用的损失函数(机器学习中的用语)式(7)中包含惩罚系数$k$，因此在计算模型回归系数之前，仍然需要得到最理想的$k$值。与岭回归模型类似，$k$值的确定可以通过**定性的可视化方法**。"
   ]
  },
  {
   "cell_type": "markdown",
   "id": "a2b61f0a",
   "metadata": {
    "pycharm": {
     "name": "#%% md\n"
    }
   },
   "source": [
    "#### （2）例题\n",
    "**例** 求\"多重线性关系\"一节中法国经济问题的LASSO回归方程.\n",
    "**解** 画出的$k$与LASSO回归系数的关系图如下图所示，从图中可以看出选$k=0.21$较好。对应的标准化LASSO回归方程为\n",
    "$$\n",
    "\\hat{y}^{*}=0.0136 x_{2}^{*}+0.7614 x_{3}^{*}\n",
    "$$\n",
    "将标准化回归方程还原后得\n",
    "$$\n",
    "\\hat{y}=-1.6602+0.0374 x_{2}+0.1677 x_{3}\n",
    "$$"
   ]
  },
  {
   "cell_type": "code",
   "execution_count": null,
   "id": "f721a8d8",
   "metadata": {
    "pycharm": {
     "name": "#%%\n"
    }
   },
   "outputs": [
    {
     "name": "stdout",
     "output_type": "stream",
     "text": [
      "数据标准化:\n",
      " [[-1.84174802  0.5723404  -1.6080184  -1.38287391]\n",
      " [-1.00747819  0.50874702 -1.26746968 -1.26745955]\n",
      " [-0.8571593  -0.12718675 -0.84051307 -0.66730486]\n",
      " [-0.65798677 -0.12718675 -0.65244885 -0.64422199]\n",
      " [-0.28594752 -1.3990543  -0.38814237 -0.71347061]\n",
      " [ 0.14246131 -0.69952715 -0.10350463 -0.34414465]\n",
      " [ 0.14246131 -0.76312053  0.31836916  0.18676142]\n",
      " [ 0.52953245  1.46264768  0.73007732  1.06391058]\n",
      " [ 1.04437464  1.08108742  1.1468683   1.43323655]\n",
      " [ 1.26233703  1.14468079  1.24852463  1.31782218]\n",
      " [ 1.52915306 -1.65342781  1.41625759  1.01774484]] \n",
      " ------------------------------------------------------------\n",
      "kk:\n",
      " [1.00000000e-04 1.09749877e-04 1.20450354e-04 1.32194115e-04\n",
      " 1.45082878e-04 1.59228279e-04 1.74752840e-04 1.91791026e-04\n",
      " 2.10490414e-04 2.31012970e-04 2.53536449e-04 2.78255940e-04\n",
      " 3.05385551e-04 3.35160265e-04 3.67837977e-04 4.03701726e-04\n",
      " 4.43062146e-04 4.86260158e-04 5.33669923e-04 5.85702082e-04\n",
      " 6.42807312e-04 7.05480231e-04 7.74263683e-04 8.49753436e-04\n",
      " 9.32603347e-04 1.02353102e-03 1.12332403e-03 1.23284674e-03\n",
      " 1.35304777e-03 1.48496826e-03 1.62975083e-03 1.78864953e-03\n",
      " 1.96304065e-03 2.15443469e-03 2.36448941e-03 2.59502421e-03\n",
      " 2.84803587e-03 3.12571585e-03 3.43046929e-03 3.76493581e-03\n",
      " 4.13201240e-03 4.53487851e-03 4.97702356e-03 5.46227722e-03\n",
      " 5.99484250e-03 6.57933225e-03 7.22080902e-03 7.92482898e-03\n",
      " 8.69749003e-03 9.54548457e-03 1.04761575e-02 1.14975700e-02\n",
      " 1.26185688e-02 1.38488637e-02 1.51991108e-02 1.66810054e-02\n",
      " 1.83073828e-02 2.00923300e-02 2.20513074e-02 2.42012826e-02\n",
      " 2.65608778e-02 2.91505306e-02 3.19926714e-02 3.51119173e-02\n",
      " 3.85352859e-02 4.22924287e-02 4.64158883e-02 5.09413801e-02\n",
      " 5.59081018e-02 6.13590727e-02 6.73415066e-02 7.39072203e-02\n",
      " 8.11130831e-02 8.90215085e-02 9.77009957e-02 1.07226722e-01\n",
      " 1.17681195e-01 1.29154967e-01 1.41747416e-01 1.55567614e-01\n",
      " 1.70735265e-01 1.87381742e-01 2.05651231e-01 2.25701972e-01\n",
      " 2.47707636e-01 2.71858824e-01 2.98364724e-01 3.27454916e-01\n",
      " 3.59381366e-01 3.94420606e-01 4.32876128e-01 4.75081016e-01\n",
      " 5.21400829e-01 5.72236766e-01 6.28029144e-01 6.89261210e-01\n",
      " 7.56463328e-01 8.30217568e-01 9.11162756e-01 1.00000000e+00] \n",
      " ------------------------------------------------------------\n",
      "b:\n",
      " [array([-0.44555416,  0.18586692,  1.40485795]), array([-0.44461033,  0.18592193,  1.40391477]), array([-0.44357693,  0.18598214,  1.40288206]), array([-0.44241804,  0.18604992,  1.40172418]), array([-0.4411773 ,  0.18612217,  1.40048422]), array([-0.43981873,  0.18620124,  1.39912647]), array([-0.4383311 ,  0.18628779,  1.39763971]), array([-0.43670211,  0.18638252,  1.39601163]), array([-0.43491827,  0.18648622,  1.39422875]), array([-0.43296484,  0.18659972,  1.39227633]), array([-0.43086762,  0.18672108,  1.39017971]), array([-0.42852754,  0.18685691,  1.38784071]), array([-0.42601099,  0.18700242,  1.3853248 ]), array([-0.42320707,  0.18716502,  1.38252202]), array([-0.42018694,  0.18733953,  1.37950253]), array([-0.41687916,  0.18753058,  1.37619539]), array([-0.41325612,  0.18773975,  1.37257297]), array([-0.40928752,  0.1879688 ,  1.36860496]), array([-0.40499712,  0.18821568,  1.36431453]), array([-0.40023643,  0.18849022,  1.35955435]), array([-0.39502067,  0.18879089,  1.35433905]), array([-0.3893671 ,  0.18911601,  1.34868524]), array([-0.38310743,  0.18947661,  1.3424259 ]), array([-0.37631127,  0.18986727,  1.3356293 ]), array([-0.36879666,  0.19029988,  1.32811481]), array([-0.36056174,  0.19077381,  1.31987989]), array([-0.35160268,  0.19128852,  1.31091999]), array([-0.34171366,  0.19185731,  1.30103065]), array([-0.33087574,  0.1924805 ,  1.29019222]), array([-0.31893019,  0.19316796,  1.27824664]), array([-0.30591197,  0.1939161 ,  1.26522742]), array([-0.29157586,  0.19474055,  1.25089072]), array([-0.27587083,  0.19564338,  1.23518474]), array([-0.25859658,  0.19663686,  1.21790986]), array([-0.23968249,  0.19772414,  1.19899459]), array([-0.2189044 ,  0.19891881,  1.17821543]), array([-0.19616707,  0.20022536,  1.15547621]), array([-0.1711464 ,  0.20166388,  1.13045418]), array([-0.14366961,  0.2032438 ,  1.10297607]), array([-0.11349495,  0.20497907,  1.07280016]), array([-0.08044587,  0.20687886,  1.039749  ]), array([-0.04407737,  0.20897059,  1.00337923]), array([-0.00424603,  0.21126053,  0.96354563]), array([-0.        ,  0.21107868,  0.95887644]), array([-0.        ,  0.21056439,  0.95836222]), array([-0.        ,  0.20999999,  0.95779786]), array([-0.        ,  0.2093806 ,  0.95717848]), array([-0.        ,  0.20870083,  0.95649871]), array([-0.        ,  0.20795479,  0.95575266]), array([-0.        ,  0.20713608,  0.95493387]), array([-0.        ,  0.20623739,  0.95403526]), array([0.        , 0.20525115, 0.95304903]), array([0.        , 0.20416877, 0.95196664]), array([0.        , 0.20298088, 0.95077872]), array([0.        , 0.20167711, 0.94947499]), array([0.        , 0.20024626, 0.94804414]), array([0.        , 0.1986759 , 0.94647378]), array([0.        , 0.19695244, 0.94475031]), array([0.        , 0.19506098, 0.94285881]), array([0.        , 0.19298501, 0.94078289]), array([0.        , 0.19070672, 0.93850457]), array([0.        , 0.18820624, 0.93600412]), array([0.        , 0.185462  , 0.93325987]), array([0.        , 0.18245019, 0.93024807]), array([0.        , 0.17914474, 0.92694261]), array([0.        , 0.17551701, 0.92331488]), array([0.        , 0.17153558, 0.91933345]), array([0.        , 0.16716603, 0.91496384]), array([0.        , 0.16237032, 0.9101682 ]), array([0.        , 0.15710711, 0.90490498]), array([0.        , 0.15133073, 0.89912861]), array([0.        , 0.14499117, 0.89278905]), array([0.        , 0.13803359, 0.88583138]), array([0.        , 0.13039749, 0.87819536]), array([0.        , 0.12201696, 0.86981484]), array([0.        , 0.11281934, 0.86061722]), array([0.        , 0.10272497, 0.85052284]), array([0.        , 0.09164641, 0.83944428]), array([0.        , 0.0794877 , 0.82728557]), array([0.        , 0.06614353, 0.8139414 ]), array([0.        , 0.05149832, 0.79929619]), array([0.        , 0.03542522, 0.7832231 ]), array([0.        , 0.01778502, 0.76558289]), array([0.       , 0.       , 0.7461666]), array([0.        , 0.        , 0.72416093]), array([0.        , 0.        , 0.70000975]), array([0.        , 0.        , 0.67350385]), array([0.        , 0.        , 0.64441365]), array([0.       , 0.       , 0.6124872]), array([0.        , 0.        , 0.57744796]), array([0.        , 0.        , 0.53899244]), array([0.        , 0.        , 0.49678755]), array([0.        , 0.        , 0.45046774]), array([0.       , 0.       , 0.3996318]), array([0.        , 0.        , 0.34383943]), array([0.        , 0.        , 0.28260736]), array([0.        , 0.        , 0.21540524]), array([0.      , 0.      , 0.141651]), array([0.        , 0.        , 0.06070581]), array([0., 0., 0.])] \n",
      " ------------------------------------------------------------\n"
     ]
    },
    {
     "data": {
      "image/png": "[encoded data removed]",
      "text/plain": [
       "<Figure size 864x576 with 1 Axes>"
      ]
     },
     "metadata": {
      "needs_background": "light"
     },
     "output_type": "display_data"
    },
    {
     "name": "stdout",
     "output_type": "stream",
     "text": [
      "标准化数据的所有回归系数为： [0.13344616 0.22177235 0.81666756]\n",
      "Mean:\n",
      " [198.30909091   3.3        139.73636364  21.89090909] \n",
      " ------------------------------------------------------------\n",
      "Std:\n",
      " [27.90890376  1.64924225 20.63440199  4.54366692] \n",
      " ------------------------------------------------------------\n",
      "原数据的回归系数为： [-9.562361191275148, array([0.0217255 , 0.61098343, 0.17982907])]\n",
      "拟合优度： 0.9880416699415154\n"
     ]
    }
   ],
   "source": [
    "import numpy as np; import matplotlib.pyplot as plt\n",
    "from sklearn.linear_model import Lasso, LassoCV\n",
    "from scipy.stats import zscore\n",
    "\n",
    "plt.rc('font',size=16)\n",
    "plt.rc('text', usetex=True)  # 需要安装LaTeX宏包\n",
    "\n",
    "a = np.array([[149.3, 4.2, 108.1, 15.9],\n",
    "              [171.5, 4.1, 114.8, 16.4],\n",
    "              [175.5, 3.1, 123.2, 19.0],\n",
    "              [180.8, 3.1, 126.9, 19.1],\n",
    "              [190.7, 1.1, 132.1, 18.8],\n",
    "              [202.1, 2.2, 137.7, 20.4],\n",
    "              [202.1, 2.1, 146.0, 22.7],\n",
    "              [212.4, 5.6, 154.1, 26.5],\n",
    "              [226.1, 5.0, 162.3, 28.1],\n",
    "              [231.9, 5.1, 164.3, 27.6],\n",
    "              [239.0, 0.7, 167.6, 26.3]\n",
    "])\n",
    "\n",
    "n = a.shape[1] - 1 # 自变量的总个数\n",
    "aa = zscore(a) # 数据标准化\n",
    "print(\"数据标准化:\\n\", aa, '\\n', '-'*60)\n",
    "\n",
    "x = aa[:, :n] # 标准化后的自变量观测值\n",
    "y = aa[:, n] # 标准化后的因变量观测值\n",
    "\n",
    "b = [] # 用于存储回归系数的空列表\n",
    "kk = np.logspace(-4, 0, 100) # 循环迭代的不同k值，k即惩罚系数\n",
    "print('kk:\\n', kk, '\\n', '-'*60)\n",
    "for k in kk:\n",
    "    model = Lasso(alpha=k).fit(x, y)\n",
    "    b.append(model.coef_)\n",
    "print('b:\\n', b, '\\n', '-'*60)\n",
    "\n",
    "st = ['s-r', '*-k', 'p-b'] # 下面画图的控制字符串\n",
    "plt.figure(figsize=(12,8))\n",
    "for i in range(3):\n",
    "    plt.plot(kk, np.array(b)[:, i], st[i])\n",
    "plt.legend(['$x_1$', '$x_2$', '$x_3$'], fontsize=15)\n",
    "plt.xlabel(r\"$\\alpha$\")\n",
    "plt.ylabel(r\"$coef$\")\n",
    "plt.grid(axis='x', linestyle='-.', linewidth=1, color='black', alpha=0.3)\n",
    "plt.grid(axis='y', linestyle='-.', linewidth=1, color='black', alpha=0.3)\n",
    "plt.show()\n",
    "\n",
    "# model0 = Ridge(modelCV.alpha_).fit(x, y) # 构建并拟合模型，通过LassoCV函数求出的最优岭参数拟合出的系数可能不合适\n",
    "model0 = Ridge(0.21).fit(x, y) # 构建并拟合模型\n",
    "cs0 = model0.coef_ # 提出标准化数据的回归系数b1,b2,b3\n",
    "print('标准化数据的所有回归系数为：', cs0)\n",
    "\n",
    "# 计算所有指标的均值和标准差\n",
    "Mean = np.mean(a, axis=0) # Mean = a.mean(axis=0)\n",
    "print('Mean:\\n', Mean, '\\n', '-'*60)\n",
    "Std = np.std(a, axis=0, ddof=1) # Std = a.std(axis=0, ddof=1)\n",
    "print('Std:\\n', Std, '\\n', '-'*60)\n",
    "\n",
    "params = [Mean[-1] - Std[-1]*sum(cs0*Mean[:-1]/Std[:-1]), Std[-1]*cs0/Std[:-1]]\n",
    "print('原数据的回归系数为：', params)\n",
    "print('拟合优度：', model0.score(x, y))"
   ]
  },
  {
   "cell_type": "markdown",
   "id": "06650b1b",
   "metadata": {
    "pycharm": {
     "name": "#%% md\n"
    }
   },
   "source": [
    "**例** 在建立中国私人轿车拥有量模型时，主要考虑以下因素: (1)城镇居民家庭人均可支配收入$x_{1}$(元)，(2)全国城镇人口$x_{2}$(亿人)，(3)全国汽车产量$x_{3}$(万辆)，(4)全国公路长度 $x_{4}$(万千米)。具体数据见下表，其中$y$表示中国私人轿车拥有量(万辆)。试建立$y$的经验公式。\n",
    "对于上述问题，可以直接用普通的最小二乘法建立$y$关于四个解释变量$x_{1}, x_{2}$, $x_{3}$和$x_{4}$的回归方程为\n",
    "$$\n",
    "\\hat{y}=-1028.4134-0.0159 x_{1}+245.6120 x_{2}+1.6316 x_{3}+2.0294 x_{4}\n",
    "$$\n",
    "模型的检验见下面程序运行结果，这里就不具体给出了。\n",
    "\n",
    "表 $1994 \\sim 2002$年中国私人轿车拥有量及相关变量数据\n",
    "\n",
    "\\begin{array}{cccclc}\n",
    "\\hline 年份 & x_{1} & x_{2} & x_{3} & x_{4} & y \\\\\n",
    "\\hline 1994 & 3496.2 & 3.43 & 136.69 & 111.78 & 205.42 \\\\\n",
    "1995 & 4283 & 3.52 & 145.27 & 115.7 & 249.96 \\\\\n",
    "1996 & 4838.9 & 3.73 & 147.52 & 118.58 & 289.67 \\\\\n",
    "1997 & 5160.3 & 3.94 & 158.25 & 122.64 & 358.36 \\\\\n",
    "1998 & 5425.1 & 4.16 & 163 & 127.85 & 423.65 \\\\\n",
    "1999 & 5854 & 4.37 & 183.2 & 135.17 & 533.88 \\\\\n",
    "2000 & 6280 & 4.59 & 207 & 140.27 & 625.33 \\\\\n",
    "2001 & 6859.6 & 4.81 & 234.17 & 169.8 & 770.78 \\\\\n",
    "2002 & 7702.8 & 5.02 & 325.1 & 176.52 & 968.98 \\\\\n",
    "\\hline\n",
    "\\end{array}\n",
    "在$\\alpha=0.05$的水平下，以上的回归方程是显著的。但变量$x_{1}$对$y$是不显著的，且回归方程中$x_{1}$前面的系数为负值也不合理。\n",
    "选择$k=0.05$，建立的LASSO回归方程为\n",
    "$$\n",
    "\\hat{y}=-908.2059+203.0938 x_{2}+1.4562 x_{3}+2.0469 x_{4}\n",
    "$$"
   ]
  },
  {
   "cell_type": "code",
   "execution_count": null,
   "id": "b10d7378",
   "metadata": {
    "pycharm": {
     "name": "#%%\n"
    }
   },
   "outputs": [
    {
     "name": "stdout",
     "output_type": "stream",
     "text": [
      "                            OLS Regression Results                            \n",
      "==============================================================================\n",
      "Dep. Variable:                      y   R-squared:                       0.999\n",
      "Model:                            OLS   Adj. R-squared:                  0.999\n",
      "Method:                 Least Squares   F-statistic:                     1623.\n",
      "Date:                Wed, 09 Aug 2023   Prob (F-statistic):           1.14e-06\n",
      "Time:                        13:45:33   Log-Likelihood:                -28.919\n",
      "No. Observations:                   9   AIC:                             67.84\n",
      "Df Residuals:                       4   BIC:                             68.82\n",
      "Df Model:                           4                                         \n",
      "Covariance Type:            nonrobust                                         \n",
      "==============================================================================\n",
      "                 coef    std err          t      P>|t|      [0.025      0.975]\n",
      "------------------------------------------------------------------------------\n",
      "const      -1028.4134     58.305    -17.638      0.000   -1190.294    -866.532\n",
      "x1            -0.0159      0.015     -1.043      0.356      -0.058       0.026\n",
      "x2           245.6120     34.213      7.179      0.002     150.622     340.602\n",
      "x3             1.6316      0.178      9.148      0.001       1.136       2.127\n",
      "x4             2.0294      0.580      3.500      0.025       0.420       3.639\n",
      "==============================================================================\n",
      "Omnibus:                        0.575   Durbin-Watson:                   2.151\n",
      "Prob(Omnibus):                  0.750   Jarque-Bera (JB):                0.560\n",
      "Skew:                           0.368   Prob(JB):                        0.756\n",
      "Kurtosis:                       2.025   Cond. No.                     1.24e+05\n",
      "==============================================================================\n",
      "\n",
      "Notes:\n",
      "[1] Standard Errors assume that the covariance matrix of the errors is correctly specified.\n",
      "[2] The condition number is large, 1.24e+05. This might indicate that there are\n",
      "strong multicollinearity or other numerical problems.\n"
     ]
    },
    {
     "name": "stderr",
     "output_type": "stream",
     "text": [
      "d:\\programme\\python\\lib\\site-packages\\scipy\\stats\\stats.py:1542: UserWarning: kurtosistest only valid for n>=20 ... continuing anyway, n=9\n",
      "  \"anyway, n=%i\" % int(n))\n"
     ]
    },
    {
     "data": {
      "image/png": "[encoded data removed]",
      "text/plain": [
       "<Figure size 864x576 with 1 Axes>"
      ]
     },
     "metadata": {
      "needs_background": "light"
     },
     "output_type": "display_data"
    },
    {
     "name": "stdout",
     "output_type": "stream",
     "text": [
      "标准化数据的所有回归系数为： [0.         0.44723893 0.34045523 0.18555833]\n",
      "Mean:\n",
      " [5.54443333e+03 4.17444444e+00 1.88911111e+02 1.35367778e+02\n",
      " 4.91781111e+02] \n",
      " ------------------------------------------------------------\n",
      "Std:\n",
      " [1.29764931e+03 5.66240035e-01 6.01164596e+01 2.33096057e+01\n",
      " 2.57132957e+02] \n",
      " ------------------------------------------------------------\n",
      "原数据的回归系数为： [-908.2058953990941, array([  0.        , 203.09384921,   1.45621116,   2.04693134])]\n",
      "拟合优度： 0.9965807211503689\n"
     ]
    }
   ],
   "source": [
    "import numpy as np; import matplotlib.pyplot as plt\n",
    "import statsmodels.api as sm\n",
    "from sklearn.linear_model import Lasso\n",
    "from scipy.stats import zscore\n",
    "\n",
    "plt.rc('font',size=16)\n",
    "plt.rc('text', usetex=True)  # 需要安装LaTeX宏包\n",
    "\n",
    "a = np.array([[3496.2, 3.43, 136.69, 111.78, 205.42],\n",
    "              [4283,   3.52, 145.27, 115.7,  249.96],\n",
    "              [4838.9, 3.73, 147.52, 118.58, 289.67],\n",
    "              [5160.3, 3.94, 158.25, 122.64, 358.36],\n",
    "              [5425.1, 4.16, 163,    127.85, 423.65],\n",
    "              [5854,   4.37, 183.2,  135.17, 533.88],\n",
    "              [6280,   4.59, 207,    140.27, 625.33],\n",
    "              [6859.6, 4.81, 234.17, 169.8,  770.78],\n",
    "              [7702.8, 5.02, 325.1,  176.52, 968.98]\n",
    "])\n",
    "\n",
    "n = a.shape[1] - 1 # 自变量的总个数\n",
    "\n",
    "x = a[:, :n]  # 提出自变量观测值矩阵\n",
    "X = sm.add_constant(x)\n",
    "md = sm.OLS(a[:, n],X).fit() # 构建并拟合模型\n",
    "print(md.summary())  #输出模型的所有结果\n",
    "\n",
    "aa = zscore(a)  #数据标准化\n",
    "x = aa[:, :n]\n",
    "y = aa[:, n]  # 提出自变量和因变量观测值矩阵\n",
    "b=[]  # 用于存储回归系数的空列表\n",
    "kk = np.logspace(-4,0,100)  # 循环迭代的不同k值\n",
    "for k in kk:\n",
    "    md = Lasso(alpha=k).fit(x, y)\n",
    "    b.append(md.coef_)\n",
    "\n",
    "st = ['s-r','*-k','p-b','^-y'] # 下面画图的控制字符串\n",
    "plt.figure(figsize=(12,8))\n",
    "for i in range(n):\n",
    "    plt.plot(kk, np.array(b)[:, i], st[i])\n",
    "plt.legend(['$x_1$', '$x_2$', '$x_3$', '$x_4$'], fontsize=15)\n",
    "plt.xlabel(r\"$\\alpha$\")\n",
    "plt.ylabel(r\"$coef$\")\n",
    "plt.grid(axis='x', linestyle='-.', linewidth=1, color='black', alpha=0.3)\n",
    "plt.grid(axis='y', linestyle='-.', linewidth=1, color='black', alpha=0.3)\n",
    "plt.show()\n",
    "\n",
    "# model0 = Lasso(modelCV.alpha_).fit(x, y) # 构建并拟合模型，通过LassoCV函数求出的最优岭参数拟合出的系数可能不合适\n",
    "model0 = Lasso(0.05).fit(x, y) # 构建并拟合模型\n",
    "cs0 = model0.coef_ # 提出标准化数据的回归系数b1,b2,b3\n",
    "print('标准化数据的所有回归系数为：', cs0)\n",
    "\n",
    "# 计算所有指标的均值和标准差\n",
    "Mean = a.mean(axis=0)\n",
    "print('Mean:\\n', Mean, '\\n', '-'*60)\n",
    "Std = a.std(axis=0, ddof=1)\n",
    "print('Std:\\n', Std, '\\n', '-'*60)\n",
    "\n",
    "params = [Mean[-1] - Std[-1]*sum(cs0*Mean[:-1]/Std[:-1]), Std[-1]*cs0/Std[:-1]]\n",
    "print('原数据的回归系数为：', params)\n",
    "print('拟合优度：', model0.score(x, y))"
   ]
  },
  {
   "cell_type": "markdown",
   "id": "778450f3",
   "metadata": {
    "pycharm": {
     "name": "#%% md\n"
    }
   },
   "source": [
    "#### （3）推广"
   ]
  },
  {
   "cell_type": "markdown",
   "id": "355f2b0f",
   "metadata": {
    "pycharm": {
     "name": "#%% md\n"
    }
   },
   "source": [
    "从上面的讨论可以看到，线性回归模型使用简便，在很多领域都得到了有效的应用。但在实际应用中还会碰到很多**非线性回归模型**，一般的非线性回归模型我们就不介绍了，把非线性回归模型看成拟合一个**非线性函数**就可以了。\n",
    "前面的多元线性回归模型是假设因变量$y$被建模为自变量$x_{1}, x_{2}, \\cdots, x_{m}$的线性组合。但是，我们可以放宽这个假设，拟合一个更为广义的线性模型；可以用一个链接(link)函数$G$来替换公式\n",
    "$$\n",
    "y=\\beta_{0}+\\beta_{1} x_{1}+\\cdots+\\beta_{m} x_{m}+\\varepsilon\n",
    "$$\n",
    "将非线性输出转换为一个线性的响应\n",
    "$$\n",
    "G(y)=\\beta_{0}+\\beta_{1} x_{1}+\\cdots+\\beta_{m} x_{m}+\\varepsilon\n",
    "$$\n",
    "链接函数$G(y)$有很多取法，例如:\n",
    "(1)$G(y)=\\ln \\frac{y}{1-y}$，把0到1范围之间的响应映射到一个线性坐标上，其中$y$通常是一个0到1之间的概率值。\n",
    "(2)$G(y)=\\ln (y)$，把计数值转换成线性输出，其中$y$为计数值。"
   ]
  },
  {
   "cell_type": "markdown",
   "id": "4d2502a4",
   "metadata": {
    "pycharm": {
     "name": "#%% md\n"
    }
   },
   "source": [
    "### 4.Tao\n",
    "**本质：** 选择合适的参数$k \\geqslant 0$，拟合参数向量$\\boldsymbol{\\beta}$，使得$J(\\boldsymbol{\\beta})=\\|\\boldsymbol{X} \\boldsymbol{\\beta}-\\boldsymbol{Y}\\|_{2}^{2}+k\\|\\boldsymbol{\\beta}\\|_{0}$达到最小值。\n",
    "实际问题用前几种回归模型即可。"
   ]
  },
  {
   "cell_type": "markdown",
   "id": "66c6afdb",
   "metadata": {
    "pycharm": {
     "name": "#%% md\n"
    }
   },
   "source": [
    "## （三）Logistic回归\n",
    "下面只介绍广义线性回归中的Logistic回归"
   ]
  },
  {
   "cell_type": "markdown",
   "id": "e2786bc7",
   "metadata": {
    "pycharm": {
     "name": "#%% md\n"
    }
   },
   "source": [
    "### 1.Logistic回归模型\n",
    "#### （1）模型的构建\n",
    "Logistic回归，与普通回归任务不同，分类的结果输出是**有限的离散值**。以二分类为例，结果输出要么为0，要么为1，即$y \\in\\{0,1\\}$。其基本思想是在空间中构造一个合理的超平面，把空间区域划分为两个子空间，每一种类别数据都在平面的某一侧。不能按照多元线性回归式\n",
    "\\begin{equation}\n",
    "f(\\boldsymbol{x})=\\beta_{0}+\\beta_{1} x_{1}+\\cdots+\\beta_{m} x_{m}\n",
    "\\tag{(8)}\n",
    "\\end{equation}\n",
    "来分类，因为直接使用式(8)得到的是实数值，需要将实数值规约为0或1，较理想的是**阶跃函数**\n",
    "\\begin{equation}\n",
    "f(\\boldsymbol{x})=\n",
    "\\begin{cases}\n",
    "0, & \\beta_{0}+\\beta_{1} x_{1}+\\cdots+\\beta_{m} x_{m} \\leqslant 0\\\\\n",
    "1, & \\beta_{0}+\\beta_{1} x_{1}+\\cdots+\\beta_{m} x_{m}>0\n",
    "\\end{cases}\n",
    "\\tag{(9)}\n",
    "\\end{equation}\n",
    "但阶跃函数在0点不连续、不可导。为此，可以通过**阶跃函数的平滑版本**，即**Sigmoid函数**来为我们实现：\n",
    "\\begin{equation}\n",
    "f_{\\boldsymbol{\\beta}}(\\boldsymbol{x})=\\frac{1}{1+e^{-\\left(\\beta_{0}+\\sum_{j=1}^{m} \\beta_{j} x_{j}\\right)}}\n",
    "\\tag{(10)}\n",
    "\\end{equation}\n",
    "其中，$\\boldsymbol{\\beta}=\\left[\\beta_{0}, \\beta_{1}, \\cdots, \\beta_{m}\\right]^{\\mathrm{T}}$。\n",
    "Sigmoid函数具有很多优秀的性质：它将输入数据压缩至0到1的范围内，得到的结果不是二值输出，而是一个概率值，通过这个数值，可以确定输入数据分别属于0类或属于1类的概率：\n",
    "\\begin{equation}\n",
    "P\\{y=1 \\mid \\boldsymbol{x}\\}=f_{\\boldsymbol{\\beta}}(\\boldsymbol{x})=\\frac{e^{\\beta_{0}+\\sum_{j=1}^{m} \\beta_{j} x_{j}}}{1+e^{\\beta_{0}+\\sum_{j=1}^{m} \\beta_{j} x_{j}}}=p\n",
    "\\tag{(11)}\n",
    "\\end{equation}\n",
    "\\begin{equation}\n",
    "P\\{y=0 \\mid \\boldsymbol{x}\\}=1-f_{\\boldsymbol{\\beta}}(\\boldsymbol{x})=\\frac{1}{1+e^{\\beta_{0}+\\sum_{j=1}^{m} \\beta_{j} x_{j}}}=1-p .\n",
    "\\tag{(12)}\n",
    "\\end{equation}\n",
    "由式(11)和(12)可以得到\n",
    "\\begin{equation}\n",
    "\\ln \\frac{p}{1-p}=\\ln \\frac{P\\{y=1 \\mid \\boldsymbol{x}\\}}{P\\{y=0 \\mid \\boldsymbol{x}\\}}=\\beta_{0}+\\sum_{j=1}^{m} \\beta_{j} x_{j}\n",
    "\\tag{(13)}\n",
    "\\end{equation}\n",
    "式(13)称为**Logistic回归模型**，式(13)的左边是与概率相关的对数值。因此，无法使用通常的最小二乘法拟合末知参数向量$\\beta$，而是采用**极大似然估计法**。\n",
    "式(13)也可以改写为\n",
    "\\begin{equation}\n",
    "p=\\frac{1}{1+e^{-\\left(\\beta_{0}+\\sum_{j=1}^{m} \\beta_{j} x_{j}\\right)}},\n",
    "\\tag{(14)}\n",
    "\\end{equation}\n",
    "其中，$p$为事件发生的概率。"
   ]
  },
  {
   "cell_type": "markdown",
   "id": "27da5d8c",
   "metadata": {
    "pycharm": {
     "name": "#%% md\n"
    }
   },
   "source": [
    "#### （2）Logistic模型的参数估计"
   ]
  },
  {
   "cell_type": "markdown",
   "id": "9e29e64b",
   "metadata": {
    "pycharm": {
     "name": "#%% md\n"
    }
   },
   "source": [
    "为了构造似然函数，把式(11)和(12)统一改写为\n",
    "\\begin{equation}\n",
    "P\\{y \\mid \\boldsymbol{x} ; \\boldsymbol{\\beta}\\}=f_{\\boldsymbol{\\beta}}(\\boldsymbol{x})^{y}\\left(1-f_{\\boldsymbol{\\beta}}(\\boldsymbol{x})\\right)^{1-y}, \\quad y=0 \\text { 或 } 1 .\n",
    "\\tag{(15)}\n",
    "\\end{equation}\n",
    "为了拟合模型中的末知参数向量$\\beta$，使用**极大似然估计法**，需要构造似然函数。似然函数的统计背景是，如果数据集$\\left\\{\\left(\\boldsymbol{x}_{i}, y_{i}\\right), i=1,2, \\cdots, n\\right\\}$中每个样本点都是相互独立的，则$n$个样本点发生的联合概率就是各样本点事件发生的概率乘积，故似然函数可以表示为\n",
    "$$\n",
    "L(\\boldsymbol{\\beta})=\\prod_{i=1}^{n} P\\left\\{y_{i} \\mid \\boldsymbol{x}_{i} ; \\boldsymbol{\\beta}\\right\\}=\\prod_{i=1}^{n}\\left[f_{\\boldsymbol{\\beta}}\\left(\\boldsymbol{x}_{i}\\right)^{y_{i}}\\left(1-f_{\\boldsymbol{\\beta}}\\left(\\boldsymbol{x}_{i}\\right)\\right)^{1-y_{i}}\\right]\n",
    "$$\n",
    "为了求解方便，将似然函数做对数处理，得到\n",
    "\\begin{equation}\n",
    "\\tilde{L}(\\boldsymbol{\\beta})=\\sum_{i=1}^{n}\\left[y_{i} \\ln f_{\\boldsymbol{\\beta}}\\left(\\boldsymbol{x}_{i}\\right)+\\left(1-y_{i}\\right) \\ln \\left(1-f_{\\boldsymbol{\\beta}}\\left(\\boldsymbol{x}_{i}\\right)\\right)\\right]\n",
    "\\tag{(16)}\n",
    "\\end{equation}\n",
    "拟合参数向量$\\boldsymbol{\\beta}$，转化为求函数$\\tilde{L}(\\boldsymbol{\\beta})$的最大值，无法求得其解析解，只能求**数值解**，可以使用经典的**梯度下降算法**求解参数向量 $\\boldsymbol{\\beta}$，具体算法这里就不给出了。下面给出在分组数据情形下参数向量$\\beta$的最小二乘估计。"
   ]
  },
  {
   "cell_type": "markdown",
   "id": "07ff2b2b",
   "metadata": {
    "pycharm": {
     "name": "#%% md\n"
    }
   },
   "source": [
    "#### （3）分组数据情形下参数的最小二乘估计"
   ]
  },
  {
   "cell_type": "markdown",
   "id": "6f85815d",
   "metadata": {
    "pycharm": {
     "name": "#%% md\n"
    }
   },
   "source": [
    "在对因变量进行的$n$次观测$y_{i}, i=1,2, \\cdots, n$中，如果在相同的$\\boldsymbol{x}_{(i)}=\\left[x_{i 1}\\right.$, $\\left.x_{i 2}, \\cdots, x_{i m}\\right]^{\\mathrm{T}}$处进行了多次重复观测，这种结构的数据称为**分组数据**，分组个数记为$c$，则在式(13)中可用样本比例对概率$p$进行估计，对应$\\boldsymbol{x}_{(i)}$的概率估计值记作 $\\hat{p}_{i}$，并记\n",
    "\\begin{equation}\n",
    "y_{i}^{*}=\\ln \\left(\\frac{\\hat{p}_{i}}{1-\\hat{p}_{i}}\\right), \\quad i=1,2, \\cdots, c\n",
    "\\tag{(17)}\n",
    "\\end{equation}\n",
    "则得\n",
    "$$\n",
    "y_{i}^{*}=\\beta_{0}+\\sum_{j=1}^{p} \\beta_{j} x_{i j}, \\quad i=1,2, \\cdots, c\n",
    "$$\n",
    "由线性回归模型的知识可知，参数$\\boldsymbol{\\beta}=\\left[\\beta_{0}, \\beta_{1}, \\cdots, \\beta_{m}\\right]^{\\mathrm{T}}$的最小二乘估计为\n",
    "\\begin{equation}\n",
    "\\hat{\\boldsymbol{\\beta}}=\\left(\\boldsymbol{X}^{\\mathrm{T}} \\boldsymbol{X}\\right)^{-1} \\boldsymbol{X}^{\\mathrm{T}} \\boldsymbol{y}^{*},\n",
    "\\tag{(18)}\n",
    "\\end{equation}\n",
    "其中\n",
    "$$\n",
    "\\boldsymbol{y}^{*}=\\left[\\begin{array}{c}\n",
    "y_{1}^{*} \\\\\n",
    "y_{2}^{*} \\\\\n",
    "\\vdots \\\\\n",
    "y_{c}^{*}\n",
    "\\end{array}\\right], \\quad \\boldsymbol{X}=\\left[\\begin{array}{cccc}\n",
    "1 & x_{11} & \\cdots & x_{1 m} \\\\\n",
    "1 & x_{21} & \\cdots & x_{2 m} \\\\\n",
    "\\vdots & \\vdots & & \\vdots \\\\\n",
    "1 & x_{c 1} & \\cdots & x_{c m}\n",
    "\\end{array}\\right] .\n",
    "$$"
   ]
  },
  {
   "cell_type": "markdown",
   "id": "f98fc379",
   "metadata": {
    "pycharm": {
     "name": "#%% md\n"
    }
   },
   "source": [
    "下面用一个例子来说明分组数据Logistic回归模型的参数估计。\n",
    "**例** 在一次住房展销会上，与房地产商签订初步购房意向书的共有$n=$325名顾客，在随后的3个月时间内，只有一部分顾客确实购买了房屋。购买了房屋的顾客记为1，没有购买房屋的顾客记为0。以顾客的家庭年收入为自变量$x$，家庭年收入按照高低不同分成了9组，数据列在下表中。下表还列出了在每个不同的家庭年收入组中签订意向书的人数$n_{i}$和相应的实际购房人数$m_{i}$。房地产商希望能建立签订意向的顾客最终真正买房的概率与家庭年收入间的关系式，以便能分析家庭年收入的不同对最终购买住房的影响。\n",
    "\n",
    "\\begin{array}{cccccc}\n",
    "\\hline 序号 & 家庭年收入 & 签订意向书人数 & 实际购房人数 & 实际购房比例 & 逻辑变换 \\\\\n",
    "& x / 万元 & n_{i} & m_{i} & \\hat{p}_{i}=\\frac{m_{i}}{n_{i}} & y_{i}^{*}=\\ln \\left(\\frac{\\hat{p}_{i}}{1-\\hat{p}_{i}}\\right) \\\\\n",
    "\\hline 1 & 1.5 & 25 & 8 & 0.32 & -0.7538 \\\\\n",
    "2 & 2.5 & 32 & 13 & 0.4063 & -0.3795 \\\\\n",
    "3 & 3.5 & 58 & 26 & 0.4483 & -0.2076 \\\\\n",
    "4 & 4.5 & 52 & 22 & 0.4231 & -0.3102 \\\\\n",
    "5 & 5.5 & 43 & 20 & 0.4651 & -0.1398 \\\\\n",
    "6 & 6.5 & 39 & 22 & 0.5641 & 0.2578 \\\\\n",
    "7 & 7.5 & 28 & 16 & 0.5714 & 0.2877 \\\\\n",
    "8 & 8.5 & 21 & 12 & 0.5714 & 0.2877 \\\\\n",
    "9 & 9.5 & 15 & 10 & 0.6667 & 0.6931 \\\\\n",
    "\\hline\n",
    "\\end{array}\n",
    "\n",
    "**解** 显然，这里的因变量是0-1型的伯努利随机变量，因此可通过Logistic回归来建立签订意向的顾客最终真正买房的概率与家庭年收入之间的关系。由于上表中，对应同一个家庭年收入组有多个重复观测值，因此可用样本比例来估计第$i$个家庭年收入组中客户最终购买住房的概率$p_{i}$，其估计值记为$\\hat{p}_{i}$。然后，对$\\hat{p}_{i}$进行逻辑变换。$\\hat{p}_{i}$的值及其经逻辑变换后的值$y_{i}^{*}$都列在上表中.\n",
    "本例中，自变量个数$m=1$，分组数$c=9$，由(18)式计算可得$\\beta_{0}, \\beta_{1}$的最小二乘估计分别为\n",
    "$$\n",
    "\\hat{\\beta}_{0}=-0.8863, \\quad \\hat{\\beta}_{1}=0.1558\n",
    "$$\n",
    "相应的线性回归方程为\n",
    "$$\n",
    "\\hat{y}^{*}=-0.8863+0.1558 x\n",
    "$$\n",
    "决定系数$R^{2}=0.924, F$统计量$=85.42$，显著性检验$p \\approx 0$，线性回归方程高度**显著**。最终所得的Logistic回归方程为\n",
    "\\begin{equation}\n",
    "\\hat{p}=\\frac{1}{1+e^{0.8863-0.1558 x}}\n",
    "\\tag{(19)}\n",
    "\\end{equation}\n",
    "由(19)式可知，$x$越大，即家庭年收入越高，$\\hat{p}$就越大，即签订意向后真正买房的概率就越大。对于一个家庭年收入为9万元的客户，将$x=x_{0}=9$代入回归方程(19)中，即可得其签订意向后真正买房的概率\n",
    "$$\n",
    "\\hat{p}_{0}=\\frac{1}{1+e^{0.8863-0.1558 x_{0}}}=0.6262\n",
    "$$\n",
    "这也可以说，约有$62.62 \\%$的家庭年收入为9万元的客户，其签订意向后会真正买房。\n",
    "\n",
    "\n"
   ]
  },
  {
   "cell_type": "code",
   "execution_count": null,
   "id": "ee48e6ea",
   "metadata": {
    "pycharm": {
     "name": "#%%\n"
    }
   },
   "outputs": [
    {
     "name": "stdout",
     "output_type": "stream",
     "text": [
      "                            OLS Regression Results                            \n",
      "==============================================================================\n",
      "Dep. Variable:                      y   R-squared:                       0.924\n",
      "Model:                            OLS   Adj. R-squared:                  0.913\n",
      "Method:                 Least Squares   F-statistic:                     85.42\n",
      "Date:                Wed, 09 Aug 2023   Prob (F-statistic):           3.59e-05\n",
      "Time:                        13:46:00   Log-Likelihood:                 6.6829\n",
      "No. Observations:                   9   AIC:                            -9.366\n",
      "Df Residuals:                       7   BIC:                            -8.971\n",
      "Df Model:                           1                                         \n",
      "Covariance Type:            nonrobust                                         \n",
      "==============================================================================\n",
      "                 coef    std err          t      P>|t|      [0.025      0.975]\n",
      "------------------------------------------------------------------------------\n",
      "const         -0.8863      0.102     -8.653      0.000      -1.128      -0.644\n",
      "x1             0.1558      0.017      9.242      0.000       0.116       0.196\n",
      "==============================================================================\n",
      "Omnibus:                        5.866   Durbin-Watson:                   2.311\n",
      "Prob(Omnibus):                  0.053   Jarque-Bera (JB):                1.209\n",
      "Skew:                          -0.036   Prob(JB):                        0.546\n",
      "Kurtosis:                       1.206   Cond. No.                         14.6\n",
      "==============================================================================\n",
      "\n",
      "Notes:\n",
      "[1] Standard Errors assume that the covariance matrix of the errors is correctly specified.\n",
      "年收入为9万元时确定购房所的概率为0.6262\n"
     ]
    },
    {
     "name": "stderr",
     "output_type": "stream",
     "text": [
      "d:\\programme\\python\\lib\\site-packages\\scipy\\stats\\stats.py:1542: UserWarning: kurtosistest only valid for n>=20 ... continuing anyway, n=9\n",
      "  \"anyway, n=%i\" % int(n))\n"
     ]
    }
   ],
   "source": [
    "import numpy as np\n",
    "import statsmodels.api as sm\n",
    "\n",
    "a = np.array([[1.5, 25, 8 ],\n",
    "              [2.5, 32, 13],\n",
    "              [3.5, 58, 26],\n",
    "              [4.5, 52, 22],\n",
    "              [5.5, 43, 20],\n",
    "              [6.5, 39, 22],\n",
    "              [7.5, 28, 16],\n",
    "              [8.5, 21, 12],\n",
    "              [9.5, 15, 10]\n",
    "])\n",
    "\n",
    "x = a[:, 0]\n",
    "pi = a[:,2]/a[:,1]\n",
    "X = sm.add_constant(x)\n",
    "yi = np.log(pi/(1 - pi))\n",
    "model = sm.OLS(yi,X).fit()  #构建并拟合模型\n",
    "print(model.summary())  #输出模型的所有结果\n",
    "b = model.params  #提出所有的回归系\n",
    "\n",
    "# 计算年收入对应概率\n",
    "money = 9\n",
    "p0 = 1/(1 + np.exp(-np.dot(b, [1, money])))\n",
    "print(\"年收入为{}万元时确定购房所的概率为{:.4f}\".format(money, p0))\n",
    "# np.savetxt(\"Pdata12_7_2.txt\", b)  #把回归系数保存到文本文件"
   ]
  },
  {
   "cell_type": "markdown",
   "id": "aa434344",
   "metadata": {
    "pycharm": {
     "name": "#%% md\n"
    }
   },
   "source": [
    "### 2.Logistic回归模型的应用"
   ]
  },
  {
   "cell_type": "markdown",
   "id": "f8111299",
   "metadata": {
    "pycharm": {
     "name": "#%% md\n"
    }
   },
   "source": [
    "#### （1）Logistic模型的参数解释\n",
    "在流行病学中，经常需要研究某一疾病发生与不发生的可能性大小，如一个人得流行性感冒相对于不得流行性感冒的可能性是多少，对此常用**赔率**来度量。赔率的具体定义如下：\n",
    "**定义** 一个随机事件$A$发生的概率与其不发生的概率之比值称为事件$A$的**赔率**，记为$\\operatorname{odds}(A)$，即$\\operatorname{odds}(A)=\\frac{P(A)}{P(\\bar{A})}=\\frac{P(A)}{1-P(A)}$.\n",
    "如果一个事件$A$发生的概率$P(A)=0.75$，则其不发生的概率$P(\\bar{A})=1-$ $P(A)=0.25$，所以事件$A$的赔率$\\operatorname{odds}(A)=\\frac{0.75}{0.25}=3$。这就是说，事件$A$发生与不发生的可能性是$3: 1$。粗略地讲，即在4次观测中有3次事件$A$发生而有一次$A$不发生。例如，事件$A$表示 “投资成功”，那么$\\operatorname{odds}(A)=3$即表示投资成功的可能性是投资不成功的3倍。又例如，事件$B$表示“客户理赔事件”，且已知$P(B)=0.25$，则$P(\\bar{B})=0.75$，从而事件$B$的赔率$\\operatorname{odds}(B)=\\frac{1}{3}$，这表明发生客户理赔事件的风险是不发生的$\\frac{1}{3}$。用赔率可很好地度量一些经济现象发生与否的可能性大小。\n",
    "仍以上述“客户理赔事件”为例，有时还需要研究某一群客户相对于另一群客户发生客户理赔事件的风险大小，如职业为司机的客户群相对于职业为教师的客户群发生客户理赔事件的风险大小，这需要用到赔率比的概念。\n",
    "**定义** 随机事件$A$的赔率与随机事件$B$的赔率之比值称为**事件$A$对事件$B$的赔率比**，记为$\\operatorname{OR}(A, B)$，即$\\operatorname{OR}(A, B)=\\operatorname{odds}(A) / \\operatorname{odds}(B)$。\n",
    "若记$A$是职业为司机的客户发生理赔事件，记$B$是职业为教师的客户发生理赔事件，又已知$\\operatorname{odds}(A)=\\frac{1}{20}, \\operatorname{odds}(B)=\\frac{1}{30}$，则事件$A$对事件$B$的赔率比$\\operatorname{OR}(A, B)=\\operatorname{odds}(A) / \\operatorname{odds}(B)=1.5$。这表明职业为司机的客户发生理赔的赔率是职业为教师的客户的$1.5$倍。\n",
    "应用Logistic回归可以方便地估计一些事件的赔率及多个事件的赔率比。下面仍以上例客户购房来说明Logistic回归在这方面的应用。"
   ]
  },
  {
   "cell_type": "markdown",
   "id": "f249d0bc",
   "metadata": {
    "pycharm": {
     "name": "#%% md\n"
    }
   },
   "source": [
    "**例** 房地产商希望能估计出一个家庭年收入为9万元的客户签订意向后最终买房与不买房的可能性大小之比值，以及一个家庭年收入为9万元的客户签订意向后最终买房的赔率是年收入为8万元客户的多少倍。\n",
    "**解** 由上例中所得的模型(19)得\n",
    "$$\n",
    "\\ln \\left(\\frac{\\hat{p}}{1-\\hat{p}}\\right)=-0.8863+0.1558 x\n",
    "$$\n",
    "因此\n",
    "\\begin{equation}\n",
    "\\frac{\\hat{p}}{1-\\hat{p}}=e^{-0.8863+0.1558 x}\n",
    "\\tag{(20)}\n",
    "\\end{equation}\n",
    "将$x=x_{0}=9$代入上式，得一个家庭年收入为9万元的客户签订意向后最终买房与不买房的可能性大小之比值为\n",
    "$$\n",
    "\\text { odds (年收入 } 9 \\text { 万) }=\\frac{\\hat{p}_{0}}{1-\\hat{p}_{0}}=e^{-0.8863+0.1558 \\times 9}=1.6752\n",
    "$$\n",
    "这说明一个家庭年收入为9万元的客户签订意向后最终买房的可能性是不买房的可能性的$1.6752$倍.\n",
    "另外，由(20)式还可得\n",
    "$$\n",
    "\\mathrm{OR}\\left(\\text {年收入} 9 \\text {万元，年收入 } 8 \\text {万元} \\right) = \\frac{e^{-0.8863+0.1558 \\times 9}}{e^{-0.8863+0.1558 \\times 8}}=1.1686\n",
    "$$\n",
    "所以一个家庭年收入为9万元的客户其签订意向后最终买房的赔率是年收入为8万元客户的$1.1686$倍。"
   ]
  },
  {
   "cell_type": "code",
   "execution_count": null,
   "id": "beddfc11",
   "metadata": {
    "pycharm": {
     "name": "#%%\n"
    }
   },
   "outputs": [
    {
     "name": "stdout",
     "output_type": "stream",
     "text": [
      "odds9=1.6752\n",
      "odds9vs8=1.1686\n"
     ]
    }
   ],
   "source": [
    "# 首先运行上例代码，将model参数导入python\n",
    "odds9 = np.exp(np.dot(b, [1, 9]))\n",
    "odds9vs8 = np.exp(np.dot([1, 9], b)) / np.exp(np.dot([1, 8], b))\n",
    "print(\"odds9={:.4f}\\nodds9vs8={:.4f}\".format(odds9, odds9vs8))"
   ]
  },
  {
   "cell_type": "markdown",
   "id": "b375e5d4",
   "metadata": {
    "pycharm": {
     "name": "#%% md\n"
    }
   },
   "source": [
    "一般地，如果Logistic模型(13)的参数估计为$\\hat{\\beta}_{0}, \\hat{\\beta}_{1}, \\cdots, \\hat{\\beta}_{m}$，则在$x_{1}=x_{01}$, $x_{2}=x_{02}, \\cdots, x_{m}=x_{0 m}$条件下事件赔率的估计值为\n",
    "$$\n",
    "\\frac{\\hat{p}_{0}}{1-\\hat{p}_{0}}=e^{\\hat{\\beta}_{0}+\\sum_{j=1}^{m} \\hat{\\beta}_{j} x_{0 j}}\n",
    "$$\n",
    "\n",
    "如果记$\\boldsymbol{X}_{A}=\\left[1, x_{A 1}, x_{A 2}, \\cdots, x_{A m}\\right]^{\\mathrm{T}}, \\boldsymbol{X}_{B}=\\left[1, x_{B 1}, x_{B 2}, \\cdots, x_{B m}\\right]^{\\mathrm{T}}$，并将相应条件下的事件仍分别记为$\\boldsymbol{X}_{A}$和$\\boldsymbol{X}_{B}$，则事件$\\boldsymbol{X}_{A}$对事件$\\boldsymbol{X}_{B}$的赔率比的估计可由下式获得\n",
    "$$\n",
    "\\operatorname{OR}\\left(\\boldsymbol{X}_{A}, \\boldsymbol{X}_{B}\\right)=e^{\\sum_{j=1}^{m} \\hat{\\beta}_{j}\\left(x_{A j}-x_{B j}\\right)}\n",
    "$$"
   ]
  },
  {
   "cell_type": "markdown",
   "id": "242024d6",
   "metadata": {
    "pycharm": {
     "name": "#%% md\n"
    }
   },
   "source": [
    "\n",
    "#### （2）用statsmodels库函数求解\n",
    "**例** 企业到金融商业机构贷款，金融商业机构需要对企业进行评估。评估结果为0,1两种形式，0表示企业两年后破产，将拒绝贷款；而1表示企业两年后具备还款能力，可以贷款。下表中，已知前20家企业的三项评价指标值和评估结果，试建立模型对其他两家企业(企业21, 22)进行评估。\n",
    "\n",
    "表 企业还款能力评价表\n",
    "\n",
    "\\begin{array}{crrrrr}\n",
    "\\hline\n",
    "企业编号 & x_{1} & x_{2} & x_{3} & y & y 的预溂值 \\\\\n",
    "\\hline\n",
    "1  & -62.3  & -89.5 & 1.7 & 0 & 0 \\\\\n",
    "2  & 3.3    & -3.5  & 1.1 & 0 & 0 \\\\\n",
    "3  & -120.8 & -103.2& 2.5 & 0 & 0 \\\\\n",
    "4  & -18.1  & -28.8 & 1.1 & 0 & 0 \\\\\n",
    "5  & -3.8   & -50.6 & 0.9 & 0 & 0 \\\\\n",
    "6  & -61.2  & -56.2 & 1.7 & 0 & 0 \\\\\n",
    "7  & -20.3  & -17.4 & 1   & 0 & 0 \\\\\n",
    "8  & -194.5 & -25.8 & 0.5 & 0 & 0 \\\\\n",
    "9  & 20.8   & -4.3  & 1   & 0 & 0 \\\\\n",
    "10 & -106.1 & -22.9 & 1.5 & 0 & 0 \\\\\n",
    "11 & 43     & 16.4  & 1.3 & 1 & 1 \\\\\n",
    "12 & 47     & 16    & 1.9 & 1 & 1 \\\\\n",
    "13 & -3.3   & 4     & 2.7 & 1 & 1 \\\\\n",
    "14 & 35     & 20.8  & 1.9 & 1 & 1 \\\\\n",
    "15 & 46.7   & 12.6  & 0.9 & 1 & 1 \\\\\n",
    "16 & 20.8   & 12.5  & 2.4 & 1 & 1 \\\\\n",
    "17 & 33     & 23.6  & 1.5 & 1 & 1 \\\\\n",
    "18 & 26.1   & 10.4  & 2.1 & 1 & 1 \\\\\n",
    "19 & 68.6   & 13.8  & 1.6 & 1 & 1 \\\\\n",
    "20 & 37.3   & 33.4  & 3.5 & 1 & 1 \\\\\n",
    "21 & -49.2  & -17.2 & 0.3 & & 0 \\\\\n",
    "22 & 40.6   & 26.4  & 1.8 & & 1 \\\\\n",
    "\\hline\n",
    "\\end{array}\n",
    "**解** 对于该问题，可以用Logistic模型来求解。建立如下的Logistic回归模型\n",
    "$$\n",
    "p=P\\{y=1\\}=\\frac{1}{1+e^{-\\left(\\beta_{0}+\\sum_{j=1}^{3} \\beta_{j} x_{j}\\right)}}\n",
    "$$\n",
    "记$x_{i j}(i=1,2, \\cdots, 20 ; j=1,2,3)$分别为变量$x_{j}(j=1,2,3)$的20个观测值，$y_{i}(i=1,2, \\cdots, 20)$是20个$y$的观测值。\n",
    "使用最大似然估计法，求模型中的参数$\\beta_{0}, \\beta_{1}, \\beta_{2}, \\beta_{3}$，即求参数$\\beta_{0}, \\beta_{1}, \\beta_{2}, \\beta_{3}$使得似然函数\n",
    "$$\n",
    "\\ln L(\\boldsymbol{\\beta})=\\sum_{i=1}^{20}\\left[y_{i}\\left(\\beta_{0}+\\sum_{j=1}^{3} \\beta_{j} x_{i j}\\right)-\\ln \\left(1+e^{\\beta_{0}+\\sum_{j=1}^{3} \\beta_{j} x_{i j}}\\right)\\right]\n",
    "$$\n",
    "达到最大值。\n",
    "利用Python的statsmodels库函数求得\n",
    "$$\n",
    "\\beta_{0}=0, \\quad \\beta_{1}=-0.3497, \\quad \\beta_{2}=3.2290, \\quad \\beta_{3}=2.2372\n",
    "$$\n",
    "因而得到的Logistic回归模型为\n",
    "$$\n",
    "\\left\\{\n",
    "\\begin{aligned}\n",
    "p &=\\frac{1}{1+e^{-\\left(-0.3497 x_{1}+3.2290 x_{2}+2.2372 x_{3}\\right)}}, \\\\\n",
    "y &=\n",
    "\\begin{cases}\n",
    "0, & p \\leqslant 0.5, \\\\\n",
    "1, & p>0.5\n",
    "\\end{cases}\n",
    "\\end{aligned}\n",
    "\\right.\n",
    "$$\n",
    "利用已知数据对上述Logistic模型进行检验，准确率达到100\\%，说明模型的准确率较高，可以用来预测新企业的还款能力。两个新企业的预测结果见上表的最后1列，即企业21拒绝贷款，企业22可以贷款。"
   ]
  },
  {
   "cell_type": "markdown",
   "id": "f4f34c8b",
   "metadata": {
    "pycharm": {
     "name": "#%% md\n"
    }
   },
   "source": [
    "**例** 使用sklearn库函数求解上例\n",
    "**解** 求得的Logistic回归模型为、\n",
    "$$\n",
    "\\left\\{\n",
    "\\begin{aligned}\n",
    "p &=\\frac{1}{1+e^{-\\left(-0.3906 - 0.0507 x_{1} + 0.6707 x_{2} + 0.1051 x_{3}\\right)}}, \\\\\n",
    "y &=\n",
    "\\begin{cases}\n",
    "0, & p \\leqslant 0.5, \\\\\n",
    "1, & p>0.5\n",
    "\\end{cases}\n",
    "\\end{aligned}\n",
    "\\right.\n",
    "$$\n",
    "利用已知数据对上述Logistic模型进行检验准确率达到100\\%，说明模型的准确率较高，可以用来预测新企业的还款能力。两个新企业的预测结果为：企业21拒绝贷款，企业22可以贷款。"
   ]
  },
  {
   "cell_type": "code",
   "execution_count": null,
   "id": "1139a3bb",
   "metadata": {
    "pycharm": {
     "name": "#%%\n"
    }
   },
   "outputs": [
    {
     "name": "stdout",
     "output_type": "stream",
     "text": [
      "拟合系数beta：\n",
      "beta0=-0.39060121488206745\n",
      "beta1=-0.05073412418520253\n",
      "beta2=0.6707101492837787\n",
      "beta3=0.10511888390427564\n",
      "[0. 0. 0. 0. 0. 0. 0. 0. 0. 0. 1. 1. 1. 1. 1. 1. 1. 1. 1. 1.]\n",
      "[0. 1.]\n"
     ]
    }
   ],
   "source": [
    "import numpy as np\n",
    "from sklearn.linear_model import LogisticRegression\n",
    "\n",
    "a=np.array([[-62.3,  -89.5,  1.7, 0],\n",
    "            [3.3,    -3.5,   1.1, 0],\n",
    "            [-120.8, -103.2, 2.5, 0],\n",
    "            [-18.1,  -28.8,  1.1, 0],\n",
    "            [-3.8,   -50.6,  0.9, 0],\n",
    "            [-61.2,  -56.2,  1.7, 0],\n",
    "            [-20.3,  -17.4,  1,   0],\n",
    "            [-194.5, -25.8,  0.5, 0],\n",
    "            [20.8,   -4.3,   1,   0],\n",
    "            [-106.1, -22.9,  1.5, 0],\n",
    "            [43,      16.4,  1.3, 1],\n",
    "            [47,      16,    1.9, 1],\n",
    "            [-3.3,     4,    2.7, 1],\n",
    "            [35,      20.8,  1.9, 1],\n",
    "            [46.7,    12.6,  0.9, 1],\n",
    "            [20.8,    12.5,  2.4, 1],\n",
    "            [33,      23.6,  1.5, 1],\n",
    "            [26.1,    10.4,  2.1, 1],\n",
    "            [68.6,    13.8,  1.6, 1],\n",
    "            [37.3,    33.4,  3.5, 1]\n",
    "])\n",
    "\n",
    "n = a.shape[1] # 提取矩阵的列数\n",
    "x = a[:, :n-1]\n",
    "y = a[:, n-1]\n",
    "model = LogisticRegression(solver='lbfgs').fit(x,y)\n",
    "print('拟合系数beta：\\nbeta0={}\\nbeta1={}\\nbeta2={}\\nbeta3={}'.format(model.intercept_[0], model.coef_[0, 0], model.coef_[0, 1], model.coef_[0, 2]))\n",
    "print(model.predict(x)) # 检验预测模型\n",
    "print(model.predict([[-49.2,-17.2,0.3],[40.6,26.4,1.8]]))  #求预测值\n"
   ]
  }
 ],
 "metadata": {
  "celltoolbar": "无",
  "kernelspec": {
   "display_name": "Python 3 (ipykernel)",
   "language": "python",
   "name": "python3"
  },
  "language_info": {
   "codemirror_mode": {
    "name": "ipython",
    "version": 3
   },
   "file_extension": ".py",
   "mimetype": "text/x-python",
   "name": "python",
   "nbconvert_exporter": "python",
   "pygments_lexer": "ipython3",
   "version": "3.7.9"
  },
  "toc": {
   "base_numbering": 1,
   "nav_menu": {},
   "number_sections": true,
   "sideBar": true,
   "skip_h1_title": false,
   "title_cell": "Table of Contents",
   "title_sidebar": "Contents",
   "toc_cell": false,
   "toc_position": {
    "height": "calc(100% - 180px)",
    "left": "10px",
    "top": "150px",
    "width": "224.02px"
   },
   "toc_section_display": true,
   "toc_window_display": true
  },
  "toc-autonumbering": false,
  "toc-showcode": false,
  "toc-showmarkdowntxt": false,
  "toc-showtags": false
 },
 "nbformat": 4,
 "nbformat_minor": 5
}
