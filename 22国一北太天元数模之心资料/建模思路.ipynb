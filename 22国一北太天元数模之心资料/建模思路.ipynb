{
 "cells": [
  {
   "cell_type": "markdown",
   "id": "95efd0d3",
   "metadata": {
    "pycharm": {
     "name": "#%% md\n"
    }
   },
   "source": [
    "# 十六、2022年暑期培训"
   ]
  },
  {
   "cell_type": "markdown",
   "id": "4f2e5deb",
   "metadata": {
    "pycharm": {
     "name": "#%% md\n"
    }
   },
   "source": [
    "## （〇）“数学建模大讲堂——师哥师姐说建模”"
   ]
  },
  {
   "cell_type": "markdown",
   "id": "8964670d",
   "metadata": {
    "pycharm": {
     "name": "#%% md\n"
    }
   },
   "source": [
    "优秀团队的备考及比赛经验往往大同小异，下面上交团队的经验我觉得非常全面，所以没再写我们团队的经验。**补充一点是，三名队友不能各司其职，备赛中每人模型、编程、写作都要学习，否则交流中容易产生障碍。**\n",
    "### 上海交通大学获奖团队经验分享\n",
    "\n",
    "#### 论文\n",
    "1. 摘要：总背景与模型概括+每一小问：题目极简概括+建模基本流程+（可选：创新）+实验结果。其中，背景不必多说，评委比我们懂。\n",
    "2. 问题重述：问题背景+问题提出。这一部分传达的是对题目的理解。用自己话表述，切记不可copy\n",
    "3. 问题分析：要与后面一致，因为写论文的过程中可能会更改。不要前后矛盾。论文完成之后，记得复合一遍。\n",
    "4. 模型建立：说明模型的合理性（为什么这么建立）。\n",
    "5. 评价：不避讳缺点，大胆说即可。\n",
    "\n",
    "#### 可视化\n",
    "信息丰富、层次清晰、图例注明。\n",
    "\n",
    "#### 总结\n",
    "1. 每一步有理有据：假设要给出理由，模型指标为什么这么设置，选择算法的理由，命题成立的证明，优点缺点原因。\n",
    "2. 创新和炫技应当稳住底盘。\n",
    "3. 过程不理想没问题，建模不完美没问题---给出解决方案，或者可行方向；比赛四天不是尽善尽美的。\n",
    "\n",
    "#### 竞赛时间安排\n",
    "\n",
    "![](./images/上海交通大学优秀团队竞赛时间安排.jpg)\n",
    "\n",
    "#### 注意事项\n",
    "1. 提前确定良好的竞赛环境。\n",
    "2. 理想的选题应当使各位组员有想法及其脉络\n",
    "3. 初始的试错与整体状态的把握。\n",
    "4. 赛前预制时间表，以便赛中保证进度的推进。\n",
    "5. 分工，空白期。\n",
    "6. 文件交互：代码的版本管理，各个文件命名区分保存。"
   ]
  },
  {
   "cell_type": "markdown",
   "id": "c3c23bdc",
   "metadata": {
    "pycharm": {
     "name": "#%% md\n"
    }
   },
   "source": [
    "## （一）数学建模竞赛论文写作与注意 烟台大学 陈传军 2022.7.18"
   ]
  },
  {
   "cell_type": "markdown",
   "id": "8989b16a",
   "metadata": {
    "pycharm": {
     "name": "#%% md\n"
    }
   },
   "source": [
    "### 一、如何建立数学模型\n",
    "#### 1. 问题的识题与分析\n",
    "通过对问题的分析，明确问题所给的信息：（小心谨慎，步步为营）\n",
    "- 建模的目的是什么？\n",
    "- 需要解决的问题是什么？核心问题是什么？\n",
    "- 问题的关键词是什么？\n",
    "- 解决问题的思路是什么？\n",
    "- 需要做哪些工作？可以用什么知识和方法？\n",
    "- 问题有什么特点、限制条件？\n",
    "- 从条件和数据可以得到什么信息？\n",
    "- 数据的来源是否可靠？\n",
    "- 所给条件和数据有什么意义和作用？\n",
    "- 哪些条件是**本质**的？\n",
    "- 哪些条件中**可变动**的？\n",
    "- 是否需要适当**补充**一些条件和数据？\n",
    "#### 2. 数学模型的建立方法\n",
    "##### （1）给出合理的假设（一定要问下自己：自己的假设必要吗？合理吗？）\n",
    "- 关于是否包含某些因素的假设。\n",
    "- 关于条件相对强弱的假设。\n",
    "- 关于各因素影响相对大小的假设。\n",
    "- 关于模型使用范围的假设。\n",
    "##### （2）抓住核心问题和关键词，明确建模目的，针对实际问题，选择适用的建模方法，研究解决真实的问题。\n",
    "##### （3）注意**说明**方法的适用性和正确性（一定要说明）\n",
    "##### （4）避免建模三板斧：层次分析/模糊评价/遗传算法（三板斧不易得分。除非迫不得已才用）\n",
    "#### 3. 模型的求解方法\n",
    "- 尽量利用自己熟悉知识和方法，针对问题求解模型。\n",
    "- 用解析方法，或数值方法，必要时学习一些新方法和算法。\n",
    "- 使用工具软件要说明应用的原理或算法和程序，避免**黑箱操作**。（黑箱操作容易扣分）\n",
    "- 注意问题的针对性和适用性。\n",
    "#### 4. 模型解的分析和检验方法\n",
    "##### （1）误差分析：\n",
    "- 建模假设产生的误差\n",
    "- 近似求解方法产生的误差\n",
    "- 计算机产生的舍入误差\n",
    "- 测量或实验数据产生的误差等\n",
    "##### （2）模型结果分析\n",
    "- 分析求解结果是否满足实际问题的需求，能否完全反映实际问题？\n",
    "- 如有**偏差**，分析其原因，假设、模型，还是求解方法？\n",
    "##### （3）灵敏度分析\n",
    "- 某些参数的扰动对模型和结果产生什么样的影响？\n",
    "- 从工程研究的角度是**必须要做**的工作。\n",
    "##### （4）模型的模拟检验或仿真\n",
    "- 利用已有的模型进行模拟检验，或仿真。\n",
    "- 利用已有的算法思想进行模拟或仿真。\n",
    "\n",
    "\n",
    "### 二、建模竞赛论文写作规范\n",
    "#### 1.整体上\n",
    "##### （1）论文题目\n",
    "黑体3号，居中。最好不要直接使用题目，应该体现研究内容和方法。例如：**基于最小二乘法的**太阳影子定位技术研究；**基于多目标规划的**系泊系统设计问题研究.\n",
    "##### （2）摘要：\n",
    "黑体4号，居中；摘要内容：宋体，小4号。\n",
    "##### （3）关键词\n",
    "黑体，小4号。\n",
    "#### 2. 细节上\n",
    "##### （1）摘要内容（非常非常重要）\n",
    "- 背景和问题：应**简要**（简要即可，因为评委老师更懂）叙述研究的对象和研究内容、研究目的；\n",
    "- 问题分析：依据题目给出的数据或自行收集了哪些数据或信息；\n",
    "- 关键假设：对所研究的问题、数据做了哪些**机理分析**或**数据观察**，据此做出了什么样的关键假设；\n",
    "- 模型结构：采用了何种建模方法，建立了何种数学模型；\n",
    "- 结果、检验、结论：主要结果或结论是什么，同时对假设、模型或结果做了何种验证或假设检验，结果如何？等等；\n",
    "- 在摘要中一定要突出**方法，算法，结论，创新点，特色**，给出**结果**；不要有**废话**，一定要突出重点，让人一看就知道这篇论文是关于什么的，做了什么工作，用的什么方法，得到了什么结果/结论，达到了什么效果，有什么创新和特色。一定要短小精悍，字字珠玑。\n",
    "- 语言精简，用词精确，阐述细致具体的方法。\n",
    "- 关键词：3-5个\n",
    "- 篇幅：2/3页~1页\n",
    "##### （2）正文内容（语言与逻辑）\n",
    "###### 语言\n",
    "- 用科技语言描述你的问题，不得口语化。\n",
    "- 熟练掌握和使用数字语言描述、分析、推理推导。\n",
    "###### 逻辑\n",
    "- 论文写作前后描述应逻辑清晰、论证充分、严谨。\n",
    "- 假设应该是在充分的数据分析或机理分析基础上做出的，应说明其合理性。\n",
    "- 模型是在假设基础上建立的。\n",
    "- 算法是针对模型的个性、特殊性进行设计的，应该有针对性、可行性、正确性描述。\n",
    "- 结果是模型利用算法计算出来的，应有正确性的检验。\n",
    "- 模型、结果是否可信，应进行检验。\n",
    "###### 符号、公式规范\n",
    "- 独占一行的公式，居中排版\n",
    "- 带编号的公式，编号方式与排版靠右排版\n",
    "- 正文中的字母等符号，用公式编辑器。\n",
    "- 每个队员的电脑软件一致，避免冲突。\n",
    "###### 图形、表格规范\n",
    "- 所有图形应有标题与编号，**严禁出现上图、下图等问题。**\n",
    "- 图形应以文件存储，已插入或复制方式插入文档。\n",
    "- 避免截图、拍照形式---不规范，visio画图。\n",
    "- 图形标题应在图形下方，建议5号黑体排版。\n",
    "- 所有表格应有标题和编号，严谨出现上表、下表等问题。\n",
    "- 表格标题列在表格的上方，建议采用5号黑体。\n",
    "- 表格制作最好采用国际通用的流行方式（三线格）。\n",
    "###### 算法流程图或伪代码\n",
    "###### 参考文献撰写规范\n",
    "- 正文引用：用**方括号**标示参考文献的编号，如文献陈述式描述引用[1][3]等；建模方法等引用采用上表形式，如质量守恒定律$^{[4]}$.\n",
    "- 参考文献列表：按正文中引用**次序**列出。\n",
    "   - 图书类：[编号]作者，书名，出版地：出版社，出版年.\n",
    "   - 期刊、杂志类：[编号]作者，论文名，杂志名，卷期号：起止页码，出版年.\n",
    "   - 网络资源：[编号]作者，资源标题，网址，访问时间（年月日）\n",
    "- 参考文献类型：专著[M]，会议论文集[C]，报纸文章[N]，期刊文章[J]，学位论文[D]，报告[R]，标准[S]，专利[P]\n",
    "###### 附录撰写规范\n",
    "- 至少应包括参赛论文的所有源程序代码（如源程序代码过多，应至少附主程序代码，并标注其他程序目录，且声明在支撑材料中）\n",
    "- 中间计算结果、推理公式、全部计算结果等不宜放在论文正文中的内容，但对支持论文有帮助的，也应该放在附录中。\n",
    "- 自主查阅使用的数据等资料（赛题中提供的数据不要放在附录）\n",
    "- 如果确实没有源程序，也应在论文附录中明确说明“本论文没有源程序”；\n",
    "- 备注：参赛作品中的支撑材料是指除研究论文外的其他一切辅助支撑材料，包括：全部源程序代码及其程序调用说明；用于求解的全部源程序。\n",
    "\n",
    "\n",
    "### 三、论文评阅规则\n",
    "#### 1. 假设的合理性\n",
    "关键假设，并对假设的合理性进行解释，文中引用。\n",
    "#### 2. 建模的创造性\n",
    "鼓励创新，但要切实，成功的论文不能没有创新。\n",
    "#### 3. 结果的正确性\n",
    "一般没有标准答案，但要自圆其说；好模型的结果一般比较好，但不一定最好。\n",
    "#### 4. 表述的清晰性\n",
    "简洁规范，逻辑严密，清晰明理，体系完整。\n",
    "#### 5. 建模的创造性\n",
    "- 创造性是灵魂，文章要有闪光点。\n",
    "- 好创意、好想法应当既在人意料之外，又在意料之中。\n",
    "- 新颖性（独特性）与合理性皆备。\n",
    "- 误区\n",
    "  - 误区一：数学用得越高深，越有创造性。解决问题是第一原则，最适用的方法才是最好的方法。\n",
    "  - 误区二：创造性主要体现在建模与求解上。创造性可以体现在建模的各个环节上，并且可以有多种表现形式。\n",
    "  - 误区三：好创意来自于灵感，可遇不可求。好创意来自于对数学方法的掌握程度与对问题理解的透彻程度。\n",
    "#### 6. 结果的正确性\n",
    "- 最终数值结果的正确性或合理性是第一位的。\n",
    "- 对数值结果或模拟结果进行必要的检验。正确不正确、不合理或误差大时，分析原因，对算法、计算方法或模型进行修正、改进。\n",
    "- 题目中要求回答的问题，数值结果，结论，须一一列出。\n",
    "- 模型的普适性。\n",
    "#### 7. 表达的清晰程度\n",
    "- 写好摘要，包括：建模的主要方法、主要结果，模型主要优缺点。\n",
    "- 专人负责写作，及早动手。考虑写作的过程也是构思框架、理清思路的过程，有利于从总体上把握建模的思路反过来促进建模。\n",
    "- 适当采用图表，增加可读性，一图胜千言。\n",
    "#### 8. 论文评阅标准参考\n",
    "##### (1)评分采用百分制\n",
    "$$\n",
    "\\begin{array}{|c|c|c|c|c|c|}\n",
    "\\hline\n",
    "摘要+总体 & 模型 & 算法 & 结果 & 检验 & 其他 \\\\\n",
    "\\hline\n",
    "10-15 & 40 & 20 & 10 & 10 & 10\\\\\n",
    "\\hline\n",
    "\\end{array}\n",
    "$$\n",
    "##### (2)问题分值分布\n",
    "i) 重视每一问，简单的问题分值不一定低。\n",
    "ii)能得的分一定要拿到，不能得的分尽量得。\n",
    "iii)每个题目分值分布都不同。\n",
    "iv)2020年评分标准\n",
    "\n",
    "2020A炉温曲线\n",
    "$$\n",
    "\\begin{array}{|c|c|c|c|c|}\n",
    "\\hline\n",
    "摘要+总体 & 问题一 & 问题二 & 问题三 & 问题四\\\\\n",
    "\\hline\n",
    "15 & 35 & 25 & 15 & 10 \\\\\n",
    "\\hline\n",
    "\\end{array}\n",
    "$$\n",
    "2020B穿越沙漠\n",
    "$$\n",
    "\\begin{array}{|c|c|c|c|}\n",
    "\\hline\n",
    "摘要+总体 & 问题一 & 问题二 & 问题三 \\\\\n",
    "\\hline\n",
    "10 & 40 & 30 & 20 \\\\\n",
    "\\hline\n",
    "\\end{array}\n",
    "$$\n",
    "\n",
    "2020C中小微企业得信贷决策\n",
    "$$\n",
    "\\begin{array}{|c|c|c|c|}\n",
    "\\hline\n",
    "摘要+总体 & 问题一 & 问题二 & 问题三 \\\\\n",
    "\\hline\n",
    "10 & 40 & 30 & 20 \\\\\n",
    "\\hline\n",
    "\\end{array}\n",
    "$$\n",
    "\n",
    "### 四、从论文评阅看学生参加竞赛中的问题\n",
    "1. 套模型的现象严重，机理分析的意识和能力欠缺，对所用方法一知半解，不管具体条件，套用现成的方法，导致错误。\n",
    "2. 对结果的分析不够，**检验不足**。\n",
    "3. 队员之间合作精神差，孤军奋战。\n",
    "4. 依赖心理重（指导老师、网络）。\n",
    "\n",
    "\n",
    "### 五、几点注意\n",
    "- 注意存盘，以防意外。\n",
    "- 写作与建模工作同步。\n",
    "- 注意休息与饮食卫生。\n",
    "- 注意保密，以防抄袭。"
   ]
  },
  {
   "cell_type": "markdown",
   "id": "3b79427a",
   "metadata": {
    "pycharm": {
     "name": "#%% md\n"
    }
   },
   "source": [
    "## （二）优化建模 天津工业大学 汪晓银 2022.7.19"
   ]
  },
  {
   "cell_type": "markdown",
   "id": "3d00cabb",
   "metadata": {
    "pycharm": {
     "name": "#%% md\n"
    }
   },
   "source": [
    "1. 数模竞赛的题目一般是层层递进的，第一问是关键，要做好。\n",
    "2. 确定决策变量。设置决策变量尽量多，能多设就多设。\n",
    "3. 多**做题**，而**非看题**。\n"
   ]
  },
  {
   "cell_type": "markdown",
   "id": "be443e0f",
   "metadata": {
    "pycharm": {
     "name": "#%% md\n"
    }
   },
   "source": [
    "## （三）数学建模竞赛的参赛准备和注意事项 清华大学 谢金星 2022.7.20"
   ]
  },
  {
   "cell_type": "markdown",
   "id": "6c9cd77f",
   "metadata": {
    "pycharm": {
     "name": "#%% md\n"
    }
   },
   "source": [
    "谢金星Email: xiejx@tsinghua.com\n",
    "\n",
    "### 建模竞赛特点\n",
    "- 广无边，深无底。只有更好，没有最好，更没有**标准答案**。\n",
    "- 注重创新意识\n",
    "\n",
    "### 常用模型（含软件实现）\n",
    "- 数学基础：微积分、线性代数、概率论与随机过程...\n",
    "- 微分方程模型：ODE、PDE、差分方程、数值解法...\n",
    "- 优化：（非）线性规划，整数规划，（多）目标规划，动态规划，网络优化，智能优化算法...\n",
    "- 统计：数据预处理，参数估计、假设检验，回归，主成分分析，方差分析，判别分析，...\n",
    "- 其他：综合评价，图与网络，博弈，仿真，神经网络，机器学习...\n",
    "\n",
    "### 备战建议\n",
    "模拟参赛，举一反三（2周左右）\n",
    "\n",
    "### 选题\n",
    "1.选题多长时间，根据自己情况而定\n",
    "2.尽量不换题\n",
    "3.扬长避短\n",
    "a.知己知彼：团队优势何在、擅长什么\n",
    "b.赛前预选：聚焦某几类赛题。\n",
    "c.C题选的多，得奖难。选连续或离散。\n",
    "d.尽量选本团队能深刻理解的问题\n",
    "\n",
    "### 时间安排：并行推进\n",
    "1. 举例\n",
    "\\begin{array}{ccccccc}\n",
    "\\hline         & D1A           & D1P            & D2A               & D2P           & D3A          & ...\\\\\n",
    "\\hline 队员1建模 & 选题：背景、文献 & 问题1：精读、初模 & 问题1：模型         & 问题2：精读、初模 & 问题2：模型    & ...\\\\\n",
    "\\hline 队员2编程 & 选题：背景、软件 & 问题1：编程、准备 & 问题1：编程         & 问题2：编程、准备 & 问题2：编程    & ...\\\\\n",
    "\\hline 队员3写作 & 选题：背景、文献 & 问题1：写作、框架 & 问题1：模型、写作跟进 & 问题2：写作、跟进 & 问题2：写作跟进 & ...\\\\\n",
    "\\hline\n",
    "\\end{array}\n",
    "\n",
    "2. 文献查阅，适可而止\n",
    "3. 创新源泉：独立思考，不复制文献。\n",
    "\n",
    "### 评阅标准及注意事项\n",
    "\n",
    "1. 假设的合理性，建模的创造性。\n",
    "2. 结果的正确性，表述的清晰性。\n",
    "\n",
    "合理性：关键假设（不欣赏罗列大量无关紧要的假设）；要对假设的合理性进行解释，正文中引用。\n",
    "创造性：特别欣赏独树一帜、标新立异，但要合理。\n",
    "正确性：不强调与”评阅要点“一致和结果的精度；好方法的结果一般比较好，但不一定是最好的\n",
    "清晰性：摘要应理解为详细摘要，提纲挈领。引用规范，严禁抄袭。（含网络资料）\n",
    "\n",
    "### 解题建议\n",
    "1. 从问题出发，而不是从方法出发。具体问题具体分析。\n",
    "2. 模型建立一般化。\n",
    "\n",
    "### 常见问题\n",
    "套路化\n",
    "- ”n板斧“：浮夸，盲目追求所谓的”高大上“\n",
    "- 不从问题出发，乱套方法\n",
    "- 评价类：AHP（实际中应用场合少，能不用就不用）；模糊；熵权法；。。。\n",
    "- 数据类：回归；主成分；聚类；灰色；。。。\n",
    "- 遗传算法：神经网络/深度学习；。。。\n",
    "- 一知半解（甚至不知不解）、牵强附会\n",
    "- 到处抄袭（甚至不表明处处）\n",
    "- 拒绝套路，大胆创新，模不惊人死不休。\n",
    "\n",
    "### 不断提高写作能力（很重要）\n",
    "问题重述与分析：不是抄题，写自己的理解\n",
    "模型假设及其合理化：说明理由模型建立及其应用：模型尽量一般化\n",
    "模型检验与敏感性分析：可以成为亮点。\n",
    "模型有点与不足：实事求是，说到点子\n",
    "文献、附录和支撑材料：严守科学规范\n",
    "\n",
    "### 优秀作品的基本特征\n",
    "- 类型1：创新明显，独树一帜（可以不拘小节）\n",
    "- 类型2：解答完整，逻辑清晰，表达流畅，滴水不漏\n",
    "\n",
    "### 几个观点\n",
    "数学建模没有最好，只有更好。\n",
    "模型评判不在于方法”高大上“、”包医百病“，而在于对症下药。\n",
    "数学建模没有专家，最多只有领域专家。\n",
    "\n",
    "### 关于算法的意见\n",
    "问：谢老师，建模竞赛建议用智能算法解题吗？更宽泛的，建议用算法结题吗？\n",
    "答：智能算法能不用就不用，其不能保证精度。解题优先找其他方法；建模竞赛最重要的是模型，要先给出模型，用什么方法解决模型，都可；但是（迫不得已）如果没有模型，算法必须写清楚，伪代码、框图等，为什么这样设计，为什么能解决题目，目的，为什么没有模型仅有算法。\n",
    "\n",
    "### 总的来说\n",
    "- 广度诚可贵，深度价更高。\n",
    "- 享受竞赛，尽力而为。"
   ]
  },
  {
   "cell_type": "markdown",
   "id": "565b56de",
   "metadata": {
    "pycharm": {
     "name": "#%% md\n"
    }
   },
   "source": [
    "### 扑克牌游戏案例\n",
    "一副扑克牌，牌面朝上摊在桌上。不断从这一副扑克牌中抽取三张，满足三张扑克牌点数之和为9或19或29。问最后桌子上还剩哪张或哪些扑克牌。"
   ]
  },
  {
   "cell_type": "markdown",
   "id": "d1e6ea29",
   "metadata": {
    "pycharm": {
     "name": "#%% md\n"
    }
   },
   "source": [
    "#### 模型假设\n",
    "The \"standard\" deck of 52 cards(without Jokers):\n",
    "- Four suits: clubs, diaminds, hearts and spades\n",
    "- Each suit includes numbers two through ten, and an ace(1), a king(13), a queen(12) and a jack(11)."
   ]
  },
  {
   "cell_type": "markdown",
   "id": "7e220910",
   "metadata": {
    "pycharm": {
     "name": "#%% md\n"
    }
   },
   "source": [
    "#### 法一：数论\n",
    "考虑到9/19/29各位数字相同，从每次抽取后桌子上扑克牌点数和的个位数入手。\n",
    "记$T_n$为第$k$次抽取后桌子上扑克牌点数之和，则有\n",
    "\\begin{align*}\n",
    "T_0 &= 4*(1+2+\\dots+13) = 364 \\equiv 4 (mod 10)\\\\\n",
    "T_1 &\\equiv 4+1 =5 (mod 10)\\\\\n",
    "\\vdots \\\\\n",
    "T_{17} &\\equiv 1\n",
    "\\end{align*}\n",
    "从而剩余的最后一张牌为$1$或者是$J$。\n",
    "\n",
    "**不合理性：** 默认剩余一张牌，实际上不一定只剩一张牌。"
   ]
  },
  {
   "cell_type": "markdown",
   "id": "617e4c5f",
   "metadata": {
    "pycharm": {
     "name": "#%% md\n"
    }
   },
   "source": [
    "#### 法二：方程\n",
    "决策变量：若第$j$次选择扑克牌$i$，则$x_{ij}=1$，否则$x_{ij}=0$。\n",
    "容易得到线性规划模型如下：\n",
    "$$\n",
    "\\begin{align}\n",
    "    &\\max (\\text{or} \\min) \\ f = 364 - \\sum_{i=1}^{13} \\sum_{j=1}^{17} (i*x_{ij})\\\\\n",
    "    &\\text{s.t.}\n",
    "        \\begin{cases}\n",
    "            \\sum_{j=1}^{17} x_{ij} \\leqslant 4, i=1,2,\\dots,13\\\\\n",
    "            \\sum_{i=1}^{13} x_{ij} = 3, j=1,2,\\dots,17\\\\\n",
    "            \\sum_{i=1}^{13} (i*x_{ij}) = 9+10y_j+10z_j, j=1,2,\\dots,17\\\\\n",
    "            y_j \\geqslant z_j, j=1,2,\\dots,17\\\\\n",
    "            x_{ij},y_j,z_j \\in \\{0,1\\}\n",
    "        \\end{cases}\n",
    "\\end{align}\n",
    "$$\n",
    "注意：9/19/29的处理。"
   ]
  },
  {
   "cell_type": "code",
   "execution_count": null,
   "id": "6c45582a",
   "metadata": {
    "pycharm": {
     "name": "#%%\n"
    }
   },
   "outputs": [
    {
     "name": "stdout",
     "output_type": "stream",
     "text": [
      "Set parameter Username\n",
      "Gurobi Optimizer version 9.5.2 build v9.5.2rc0 (win64)\n",
      "Thread count: 8 physical cores, 16 logical processors, using up to 16 threads\n",
      "Optimize a model with 64 rows, 255 columns and 731 nonzeros\n",
      "Model fingerprint: 0x2ba06223\n",
      "Variable types: 0 continuous, 255 integer (255 binary)\n",
      "Coefficient statistics:\n",
      "  Matrix range     [1e+00, 1e+01]\n",
      "  Objective range  [1e+00, 1e+01]\n",
      "  Bounds range     [1e+00, 1e+00]\n",
      "  RHS range        [3e+00, 9e+00]\n",
      "Presolve time: 0.00s\n",
      "Presolved: 64 rows, 255 columns, 714 nonzeros\n",
      "Variable types: 0 continuous, 255 integer (255 binary)\n",
      "\n",
      "Root relaxation: objective 1.300000e+01, 162 iterations, 0.00 seconds (0.00 work units)\n",
      "\n",
      "    Nodes    |    Current Node    |     Objective Bounds      |     Work\n",
      " Expl Unexpl |  Obj  Depth IntInf | Incumbent    BestBd   Gap | It/Node Time\n",
      "\n",
      "     0     0   13.00000    0   13          -   13.00000      -     -    0s\n",
      "     0     0   13.00000    0   23          -   13.00000      -     -    0s\n",
      "     0     0   13.00000    0   27          -   13.00000      -     -    0s\n",
      "     0     0   13.00000    0   12          -   13.00000      -     -    0s\n",
      "     0     0   13.00000    0   21          -   13.00000      -     -    0s\n",
      "     0     0   13.00000    0   17          -   13.00000      -     -    0s\n",
      "     0     0   13.00000    0   17          -   13.00000      -     -    0s\n",
      "     0     2   13.00000    0   17          -   13.00000      -     -    0s\n",
      "*  851   334              37      11.0000000   11.00000  0.00%  17.7    0s\n",
      "\n",
      "Cutting planes:\n",
      "  Gomory: 2\n",
      "  Cover: 168\n",
      "  Clique: 2\n",
      "  MIR: 4\n",
      "  StrongCG: 3\n",
      "  GUB cover: 8\n",
      "  Inf proof: 4\n",
      "  Zero half: 3\n",
      "  RLT: 10\n",
      "\n",
      "Explored 1049 nodes (19193 simplex iterations) in 0.16 seconds (0.11 work units)\n",
      "Thread count was 16 (of 16 available processors)\n",
      "\n",
      "Solution count 1: 11 \n",
      "\n",
      "Optimal solution found (tolerance 1.00e-04)\n",
      "Best objective 1.100000000000e+01, best bound 1.100000000000e+01, gap 0.0000%\n",
      "第1次抽取扑克牌5\n",
      "第1次抽取扑克牌11\n",
      "第1次抽取扑克牌13\n",
      "第2次抽取扑克牌6\n",
      "第2次抽取扑克牌10\n",
      "第2次抽取扑克牌13\n",
      "第3次抽取扑克牌1\n",
      "第3次抽取扑克牌6\n",
      "第3次抽取扑克牌12\n",
      "第4次抽取扑克牌2\n",
      "第4次抽取扑克牌7\n",
      "第4次抽取扑克牌10\n",
      "第5次抽取扑克牌2\n",
      "第5次抽取扑克牌8\n",
      "第5次抽取扑克牌9\n",
      "第6次抽取扑克牌2\n",
      "第6次抽取扑克牌8\n",
      "第6次抽取扑克牌9\n",
      "第7次抽取扑克牌1\n",
      "第7次抽取扑克牌5\n",
      "第7次抽取扑克牌13\n",
      "第8次抽取扑克牌4\n",
      "第8次抽取扑克牌7\n",
      "第8次抽取扑克牌8\n",
      "第9次抽取扑克牌3\n",
      "第9次抽取扑克牌5\n",
      "第9次抽取扑克牌11\n",
      "第10次抽取扑克牌3\n",
      "第10次抽取扑克牌7\n",
      "第10次抽取扑克牌9\n",
      "第11次抽取扑克牌4\n",
      "第11次抽取扑克牌6\n",
      "第11次抽取扑克牌9\n",
      "第12次抽取扑克牌1\n",
      "第12次抽取扑克牌8\n",
      "第12次抽取扑克牌10\n",
      "第13次抽取扑克牌3\n",
      "第13次抽取扑克牌4\n",
      "第13次抽取扑克牌12\n",
      "第14次抽取扑克牌3\n",
      "第14次抽取扑克牌4\n",
      "第14次抽取扑克牌12\n",
      "第15次抽取扑克牌2\n",
      "第15次抽取扑克牌5\n",
      "第15次抽取扑克牌12\n",
      "第16次抽取扑克牌1\n",
      "第16次抽取扑克牌7\n",
      "第16次抽取扑克牌11\n",
      "第17次抽取扑克牌6\n",
      "第17次抽取扑克牌10\n",
      "第17次抽取扑克牌13\n",
      "最后剩余扑克牌11\n",
      "Freeing default Gurobi environment\n"
     ]
    },
    {
     "name": "stderr",
     "output_type": "stream",
     "text": [
      "d:\\programme\\python\\lib\\site-packages\\ipykernel_launcher.py:34: DeprecationWarning: Calling np.sum(generator) is deprecated, and in the future will give a different result. Use np.sum(np.fromiter(generator)) or the python sum builtin instead.\n"
     ]
    }
   ],
   "source": [
    "import gurobipy as gp\n",
    "from gurobipy import GRB\n",
    "import numpy as np\n",
    "\n",
    "model = gp.Model()\n",
    "\n",
    "lst1 = [(i, j) for i in range(1, 13+1) for j in range(1, 17+1)]\n",
    "lst2 = [j for j in range(1, 17+1)]\n",
    "x = model.addVars(lst1, vtype=GRB.BINARY, name='x')\n",
    "y = model.addVars(lst2, vtype=GRB.BINARY, name='y')\n",
    "z = model.addVars(lst2, vtype=GRB.BINARY, name='z')\n",
    "\n",
    "obj = [[i for j in range(1, 17+1)] for i in range(1, 13+1)]\n",
    "model.setObjective(364 - gp.quicksum(i*x[i, j] for j in range(1, 17+1) for i in range(1, 13+1)), GRB.MAXIMIZE)\n",
    "\n",
    "model.addConstrs(x.sum(i, '*') <= 4 for i in range(1, 13+1))\n",
    "model.addConstrs(x.sum('*', j) == 3 for j in range(1, 17+1))\n",
    "for j in range(1, 17+1):\n",
    "    SUM = 0\n",
    "    for i in range(1, 13+1):\n",
    "        SUM += i*x[i, j]\n",
    "    model.addConstr(SUM == 9 + 10*y[j] + 10*z[j])\n",
    "model.addConstrs(y[j] >= z[j] for j in range(1, 17+1))\n",
    "\n",
    "model.optimize()\n",
    "\n",
    "for j in range(1, 17+1):\n",
    "    for i in range(1, 13+1):\n",
    "        if x[i, j].x != 0:\n",
    "            print(\"第{}次抽取扑克牌{}\".format(j, i))\n",
    "\n",
    "# print(type(x.sum[1, '*']))\n",
    "for i in range(1, 13+1):\n",
    "    if np.sum(x[i, j].x for j in range(1, 17+1)) < 4:\n",
    "        print(\"最后剩余扑克牌{}\".format(i))\n",
    "gp.disposeDefaultEnv()\n"
   ]
  },
  {
   "cell_type": "markdown",
   "id": "4943a9b5",
   "metadata": {
    "pycharm": {
     "name": "#%% md\n"
    }
   },
   "source": [
    "## （四）图算法介绍 山东大学 李龙龙 2022.7.20\n",
    "详见\"赠\"文件夹内的\"图算法 山东大学 李龙龙\""
   ]
  },
  {
   "cell_type": "markdown",
   "id": "38bdef1c",
   "metadata": {
    "pycharm": {
     "name": "#%% md\n"
    }
   },
   "source": [
    "## （五）复杂网络 复旦大学 李聪 2022.7.21\n",
    "当时摸鱼了，这个没听...crying"
   ]
  },
  {
   "cell_type": "markdown",
   "id": "619f0d60",
   "metadata": {
    "pycharm": {
     "name": "#%% md\n"
    }
   },
   "source": [
    "## （六）离散优化-模型、理论、算法 中科院 胡旭东 2022.7.21"
   ]
  },
  {
   "cell_type": "markdown",
   "id": "38d5b39a",
   "metadata": {
    "pycharm": {
     "name": "#%% md\n"
    }
   },
   "source": [
    "### 1.离散优化的方法与框架\n",
    "#### （1）建立实际问题的数学模型\n",
    "#### （2）分析求解该数学问题的难易程度\n",
    "#### （3）设计求解该数学问题的算法\n",
    "#### （4）对算法进行性能分析\n",
    "性能分析包括两方面：①该算法能否求出最优解。②该算法需要多长时间求出最优解。\n",
    "#### （5）对算法进行编程和实现\n",
    "#### （6）对数值结果进行分析\n",
    "#### （7）给出原始实际问题的解决方案\n",
    "### 2.计算复杂性\n",
    "我们总是认为，多项式时间是快速算法的尺度。\n",
    "### 3.最小顶点覆盖问题（NP-难问题）\n",
    "#### （1）算法\n",
    "- 贪婪算法并不总能给出最优解。\n",
    "- 近似算法可以给出一个较好的近似解。\n",
    "#### （2）现状\n",
    "- 至今人们还没有找到这样一个算法，也没有证明不存在这样的算法。该问题是千禧年问题之一。\n",
    "- 如果我们能找到求解最小顶点覆盖问题的多项式算法，那么我们就证明了$P=NP$；如果我们能证明不存在求解最小顶点覆盖问题的多项式算法，那么我们就证明了$P \\neq NP$。\n"
   ]
  },
  {
   "cell_type": "markdown",
   "id": "976caed1",
   "metadata": {
    "pycharm": {
     "name": "#%% md\n"
    }
   },
   "source": [
    "### 4.近似算法\n",
    "#### 4.1定义\n",
    "考虑一个（目标函数）最小化问题，$I$是问题输入的实例(instance)，设$A$是求解该问题的一个**多项式时间算法**，用$c_A(I)$记算法$A$求得解$I$所得解的目标函数值，用$c_{opt}(I)$记最优解的目标函数值。若存在一个常数$\\alpha$，对于任意的$I$，都有$c_A(I) \\leqslant \\alpha c_{opt}(I)$，则称在线算法$A$是一个$\\alpha-$近似算法。(R.L.Graham, 1966)\n",
    "#### 4.2极大匹配\n",
    "##### 4.2.1定义\n",
    "给定一个图$G=(V,E)$，设$M$是边集$E$的一个子集。如果$M$中任意两条边都没有公共的端点，则称$M$是一个匹配。若E\\M中任意一条边添加进$M$，他都不再是匹配，则称$M$是极大匹配。显然，最大匹配一定是极大匹配。反之则不然。\n",
    "##### 4.2.2基于极大匹配算法的顶点覆盖\n",
    "首先构造一个极大匹配$M$；然后把$M$中所包含的边的两个端点都放入$C$中；则$C$是一个顶点覆盖（显然不一定是最小的）。\n",
    "##### 4.2.3定理1\n",
    "任意给定一个图$G=(V,E)$，基于极大匹配的算法所得到的顶点覆盖所包含的顶点个数$|C_M|$不会超过最少顶点覆盖所含有的顶点个数$|C_{opt}|$的两倍，亦即该算法是一个**2-近似算法**。\n",
    "#### 4.3随机算法\n",
    "求解最少顶点覆盖问题的一个简单的随机算法即是，将每条边的两个端点中的一个以（相同的）概率1/2放入顶点覆盖中。随机算法产生的顶点覆盖可能是最优顶点覆盖的“任意大”，所以从期望角度考虑才有意义。\n",
    "##### 4.3.1定理2\n",
    "任给一个图$G=(V,E)$，简单随机算法输出的图$G$的顶点覆盖所含顶点个数的期望值不超过图$G$的最优顶点覆盖所含顶点个数的2倍，随机算法是期望意义下的**2-近似算法**。"
   ]
  },
  {
   "cell_type": "markdown",
   "id": "37ff67d3",
   "metadata": {
    "pycharm": {
     "name": "#%% md\n"
    }
   },
   "source": [
    "### 5.最小权顶点覆盖\n",
    "#### 5.1整数规划方法\n",
    "##### 5.1.1介绍\n",
    "在前面我们已经证明了，基于最大匹配的算法是求解最少顶点覆盖问题的一个2-近似算法，然而它无法处理该问题的一般情形。下面我们就来说明如何用整数规划方法求解最小权顶点覆盖问题。为此，我们先将该问题化成一个整数（线性）规划问题(integer linear programming, ILP)。不过，ILP是NP-hard。\n",
    "\\begin{array}{|r|r|}\n",
    "\\hline\n",
    "\\left(\\right. \\mathbf{ILP}) \\min \\sum_{v_{i} \\in V} w_{i} x_{i} & (\\mathbf{LP}) \\min \\sum_{v_{i} \\in V} w_{i} x_{i} \\\\\n",
    "s.t. x_{i}+x_{j} \\geqslant 1,\\left(v_{i}, v_{j}\\right) \\in E, & s.t. x_{i}+x_{j} \\geqslant 1,\\left(v_{i}, v_{j}\\right) \\in E \\\\\n",
    "x_{i}=0 或者 1, v_{i} \\in V . & x_i \\geqslant 0\\\\\n",
    "\\hline\n",
    "\\end{array}\n",
    "如果将上面（左侧）的整数约束用简单的约束$x_{i} \\geqslant 0$，对所有$v_{i} \\in V$替换掉，我们就可以得到上面（右侧）的线性规划(linear programming, LP)。存在求解LP的多项式时间算法。\n",
    "应用求解线性规划的算法，我们即可得到上述松弛线性规划问题的一个最优解 $x_{\\mathrm{LP}}^{*}(\\boldsymbol{G})$。注意，$\\boldsymbol{x}_{\\mathrm{LP}}^{*}(\\boldsymbol{G})$ 的某些分量可能不是整数，因而它不一定是整数规划的一个可行解；但是它的目标函数值不会超过整数规划问题的最优解的目标函数值。\n",
    "要得到一个整数规划的可行解，一个非常简单的方法就是将$x_{\\mathrm{LP}}^{*}(G)$中足够大的分量都取整为1，而其他分量取整为0；亦即，如果一个顶点在$x_{\\mathrm{LP}}^{*}(G)$中相应的分量至少是$1/2$，则将该顶点包括在顶点覆盖中。\n",
    "注意，求解最小权顶点覆盖问题的这一方案（可能）需要求解带有很多约束的一个线性规划问题；实际上，松他线性规划问题的约束个数等于给定图的边的条数，因而这一方案可能比较费时（尽管仍然是多项式时间可完成的）。\n",
    "##### 5.1.2定理3\n",
    "任给最小权顶点覆盖问题的一个实例，基于取整方法的整数规划算法可以找到它的一个顶点覆盖，其权值不超过最优覆盖的权值的2倍，亦即该算法是一个**2-近似算法**。\n",
    "\n",
    "#### 5.2随机算法\n",
    "##### 5.2.1介绍\n",
    "下面我们讨论一下如何将前面那个非常简单的求最少顶点覆盖问题的随机算法进行推广，使得它可以处理最小权顶点覆盖问题。基本思想还是一样的，惟一的区别在于，我们每一次抛的都是有偏差硬币。我们选取每一条边的两个端点中的一个的概率是与其权值成反比的。\n",
    "##### 5.2.2算法过程\n",
    "$C:=\\varnothing$\\\n",
    "while $E \\neq \\varnothing$ do begin\\\n",
    "$\\quad$ pick $e=(u,v) \\in E$;\\\n",
    "$\\quad$ randomly choose $x$ from $\\{u,v\\}$ with $Prob[x=u]=\\frac{w(v)}{w(u)+w(v)}$;\\\n",
    "$\\quad C:=C \\cup \\{x\\}$;\\\n",
    "$\\quad E:=E \\backslash \\{e|e=(x,y)\\}$\\\n",
    "end-while\\\n",
    "return $C$\n",
    "\n",
    "注意，上述算法在利用了贪婪算法的优点的同时，也避免了在每一次都持续地选错端点。换言之，度数高的顶点被选入顶点覆盖的集合更大，在每一次拋硬币时，结果会偏向选取顶点权值小的端点。因而，一个顶点的权值与它当前的度数之比决定了该顶点被选入顶点覆盖的机会大小。\n",
    "##### 5.2.3定理4\n",
    "任给一个顶点赋权图$G$，推广的随机算法可输出图$G$的一个顶点覆盖，其权值的期望值最多不超过图$G$的最优顶点覆盖的权值的2倍，亦即它在期望意义下是**2-近似算法**。\n",
    "##### 5.2.4优点\n",
    "- 相比确定性算法，随机算法的最显著特征就是它们的结构简单，而且耗时少。\n",
    "- 随机算法的主要缺点是它们所输出解的好坏具有随机性。不过，可以通过去随机化克服这个缺点。"
   ]
  },
  {
   "cell_type": "markdown",
   "id": "6adffce6",
   "metadata": {
    "pycharm": {
     "name": "#%% md\n"
    }
   },
   "source": [
    "## （七）数学建模竞赛相关问题解析 山东大学 刘保东 2022.7.29"
   ]
  },
  {
   "cell_type": "markdown",
   "id": "af2c695a",
   "metadata": {
    "pycharm": {
     "name": "#%% md\n"
    }
   },
   "source": [
    "2021年C题近一半队伍选择。\n",
    "\n",
    "控制节奏\n",
    "两天两夜完成论文，拿出一天完善论文（存在的问题、模型检验等）\n",
    "星期四晚睡觉前，有一个建模大概的思路。\n",
    "没有检验的论文不可能拿到靠前的名次。\n",
    "\n",
    "三个人三方面都要会，模型建立三个人集中搞。\n",
    "\n",
    "附录代码主要放**自己编的**（借鉴的成熟算法放支撑材料），完整的代码放在支撑材料（无相似度检测）里。\n",
    "\n",
    "建模型该是什么就什么，例如，不刻意避免非线性规划，遇到非线性规划，想办法解。\n",
    "\n",
    "代码运行时间不重要，评委（省组委会、全国组委会）一般不跑代码。\n",
    "\n",
    "主要看模型主体（40%），模型结果（10%）占比小。\n",
    "\n",
    "整数规划转线性规划，得到近似解，然后在近似解附近暴力求解。"
   ]
  },
  {
   "cell_type": "markdown",
   "id": "86cd1e56",
   "metadata": {
    "pycharm": {
     "name": "#%% md\n"
    }
   },
   "source": [
    "# 十七、经典问题与算法"
   ]
  },
  {
   "cell_type": "markdown",
   "id": "509c62fd",
   "metadata": {
    "pycharm": {
     "name": "#%% md\n"
    }
   },
   "source": [
    "## 1.牛顿下降算法\n",
    "\n",
    "(1) $x^{(0)}, k =0$\n",
    "\n",
    "(2) 计算当前的梯度和Hessian矩阵，$\\nabla f(x^{(k)}), H(x^{(k)})$\n",
    "\n",
    "(3) 计算当前步长$\\alpha$\n",
    "\n",
    "(4) $x^{(k+1)} = x^{(k)} -\\alpha  H(x^{(k)})^{-1}\\nabla f(x^{(k)}), k = k+1$。一元情形，$d = -\\dfrac{f'\\left(x^{(k)}\\right)}{f''\\left(x^{(k)}\\right)}$\n",
    "\n",
    "(5) 是否满足终止条件? 是，终止，否跳转(2)\n",
    "\n",
    "**Note:**(4)的推导\n",
    "\n",
    "$$f\\left(x^{(1)}\\right) = f\\left(x^{(0)}+d \\right) = f\\left(x^{(0)}\\right) + \\nabla f\\left(x^{(0)}\\right)^T d + \\frac{1}{2}d^THd =: m(x)$$\n",
    "令$$\\dfrac{\\partial m(x)}{\\partial d} = \\nabla f\\left(x^{(0)}\\right) = Hd = 0$$\n",
    "则有$$d=-H^{-1} \\nabla f\\left(x^{(0)}\\right)$$"
   ]
  },
  {
   "cell_type": "markdown",
   "id": "9069534f",
   "metadata": {
    "pycharm": {
     "name": "#%% md\n"
    }
   },
   "source": [
    "### 梯度下降算法与牛顿下降算法比较\n",
    "（1）牛顿下降法是用二次曲面去拟合当前的局部曲面，而梯度下降法是用平面去拟合当前的局部曲面，一般用二次曲面拟合的更好，所以一般牛顿算法收敛快。\n",
    "\n",
    "（2）当数据规模比较大时，牛顿下降算法中的$H^{-1}$不好算，这种情况下，一般用梯度下降法。"
   ]
  },
  {
   "cell_type": "markdown",
   "id": "ee60fcde",
   "metadata": {
    "pycharm": {
     "name": "#%% md\n"
    }
   },
   "source": [
    "## 2.拟牛顿算法\n",
    "不需要知道二阶导信息，通过某种方式近似牛顿算法中的$H^{-1}$。常见的算法：DFS、BFGS、L-BFGS。"
   ]
  },
  {
   "cell_type": "markdown",
   "id": "14051f42",
   "metadata": {
    "pycharm": {
     "name": "#%% md\n"
    }
   },
   "source": [
    "## 3.非线性优化两个常见问题的解决方式\n",
    "### (A)非线性优化如何选取初值？\n",
    "（1）线性化：简化非线性优化（可以通过删除某些条件），将其简化后的线性模型的解作为初值。\n",
    "\n",
    "（2）利用Mente Carlo方法。\n",
    "### (B)非线性离散优化中的NP难问题如何处理？\n",
    "记住，建模比赛中我们不好做的，其他人肯定也不好做，这个对自己实力的自信。那么怎么做呢？\n",
    "\n",
    "（1）想办法拿到一个初值、\n",
    "\n",
    "（2）应用启发式算法。**特别注意：**只有确定为NP难问题或者是非线性优化不好做时，才可以用启发式算法，并且要给出使用理由，否则，用启发式算法本身就是丢分项，就像平面几何用坐标法一样。\n",
    "\n",
    "三大启发式算法：遗传算法、模拟退火算法、人工蚁群算法。其中，遗传算法难点：**解的基因编码如何设计要讲清楚！**"
   ]
  },
  {
   "cell_type": "markdown",
   "id": "25b19203",
   "metadata": {
    "pycharm": {
     "name": "#%% md\n"
    }
   },
   "source": [
    "## 4.整数规划基础和经典问题\n",
    "\n",
    "（1）一般的整数规划问题没有特别有效算法。\n",
    "\n",
    "（2）若软件长时间得不到结果,可采用如下方式：\n",
    "\n",
    "   (i) Mente Carlo方法，随机生成多个解，取最优。\n",
    "\n",
    "   (ii) relaxation,整数约束去掉求解,搜索附近的整数解\n",
    "    x1= 3.5,....,x10 = 5.7\n",
    "    [3,4]，   。。。。。[5,6]\n",
    "\n",
    "   (iii)启发式算法，遗传算法，模拟退火。。"
   ]
  },
  {
   "cell_type": "markdown",
   "id": "f9d7ae8f",
   "metadata": {
    "pycharm": {
     "name": "#%% md\n"
    }
   },
   "source": [
    "#### 例 2005B DVD租赁\n",
    "\n",
    "随着信息时代的到来，网络成为人们生活中越来越不可或缺的元素之一。许多网站利用其强大的资源和知名度，面向其会员群提供日益专业化和便捷化的服务。例如，音像制品的在线租赁就是一种可行的服务。这项服务充分发挥了网络的诸多优势，包括传播范围广泛、直达核心消费群、强烈的互动性、感官性强、成本相对低廉等，为顾客提供更为周到的服务。\n",
    "\n",
    "考虑如下的在线DVD租赁问题。顾客缴纳一定数量的月费成为会员，订购DVD租赁服务。会员对哪些DVD有兴趣，只要在线提交订单，网站就会通过快递的方式尽可能满足要求。会员提交的订单包括多张DVD，这些DVD是基于其偏爱程度排序的。网站会根据手头现有的DVD数量和会员的订单进行分发。每个会员每个月租赁次数不得超过2次，每次获得3张DVD。会员看完3张DVD之后，只需要将DVD放进网站提供的信封里寄回（邮费由网站承担），就可以继续下次租赁。请考虑以下问题：\n",
    "\n",
    "(1)  表2中列出了网站手上100种DVD的现有张数和当前需要处理的1000位会员的在线订单（表2的数据格式示例如下表2，具体数据请从http://mcm.edu.cn/mcm05/problems2005c.asp下载），如何对这些DVD进行分配，才能使会员获得最大的满意度？请具体列出前30位会员（即C0001~C0030）分别获得哪些DVD。\n",
    "\n",
    "(2) 继续考虑表2，并假设表2中DVD的现有数量全部为0。如果你是网站经营管理人员，你如何决定每种DVD的购买量，以及如何对这些DVD进行分配，才能使一个月内95%的会员得到他想看的DVD，并且满意度最大？\n",
    "\n",
    "#### 模型分析：\n",
    "$i = 1..1000$ 表示i用户，$f_i$ 表示i用户是否分配了DVD, $j = 1..100$表示j DVD, $v_j$表示j DVD的数量, $p_{i,j}$表示偏爱程度, $s_{i,j} = 2^{11- p_{i,j}},p_{i,j} \\ne 0$ 满意度，越大越好, $x_{i,j} = 1$,表示用户i被分配j DVD, $ x_{i,j} = 0$表示用户i没有被分配j DVD\n",
    "\n",
    "目标函数：满意度最大$max = \\sum_{i=1..1000}\\sum_{j=1..100} s_{i,j}x_{i,j}$\n",
    "\n",
    "约束条件：\n",
    "(1) 分配出去的DVD数量不能超过库存: $\\sum_{i=1..1000} x_{i,j} \\le v_j, j = 1..100$\\\n",
    "(2) 客户的需求，3张DVD，必须满足: $\\sum_{j=1..100} x_{i,j} = 3, i = 1..1000$\\\n",
    "(3) $0,1$约束: $x_{i,j} = 0,1$\n",
    "\n",
    "综上，我们得到数学模型如下：\n",
    "$$\n",
    "\\begin{array}{ll}\n",
    "\\max & \\sum_{i=1}^{1000}\\sum_{j=1}^{100} s_{i,j}x_{i,j} \\\\\n",
    "\\text { s.t. } & \\left\\{\\begin{array}{l}\n",
    "\\sum_{i=1..1000} x_{i,j} \\le v_j, j = 1..100\\\\\n",
    "\\sum_{j=1..100} x_{i,j} = 3f_{i}, i = 1..1000\\\\\n",
    "x_{i,j} = 0,1\\\\\n",
    "f_{i} = 0,1\n",
    "\\end{array}\\right.\n",
    "\\end{array}\n",
    "$$"
   ]
  },
  {
   "cell_type": "markdown",
   "id": "fa35d18a",
   "metadata": {
    "pycharm": {
     "name": "#%% md\n"
    }
   },
   "source": [
    "\n",
    "\n"
   ]
  },
  {
   "cell_type": "markdown",
   "id": "9b3bd23f",
   "metadata": {
    "pycharm": {
     "name": "#%% md\n"
    }
   },
   "source": [
    "## 5.算法复杂性\n"
   ]
  },
  {
   "cell_type": "markdown",
   "id": "2db3544d",
   "metadata": {
    "pycharm": {
     "name": "#%% md\n"
    }
   },
   "source": [
    "什么问题是实际上是可解的？\n",
    "\n",
    "通俗来说，多项式时间是好的，指数时间是不好的。\n",
    "\n",
    "但是多项式时间次数高也不好。以对n个数进行排序的算法为例，目前最好的效果是O(nlogn), 而O($n^2$)效果要差一些。\n",
    "\n",
    "Problem X polynomial-time (Cook) reduces to problem Y if\n",
    "\n",
    "Problem X polynomial-time arbitrary instances of problem X can be solved using:\n",
    "・Polynomial number of standard computational steps, plus\n",
    "・Polynomial number of calls to oracle that solves problem Y.\n"
   ]
  },
  {
   "cell_type": "markdown",
   "id": "9f042e62",
   "metadata": {
    "pycharm": {
     "name": "#%% md\n"
    }
   },
   "source": [
    "## 6. P、NP、NP-complete、NP-hard\n",
    "\n",
    "(P) – Deterministic Polynomial time algorithm\n",
    "(NP) – Non-deterministic Polynomial time algorithm,\n",
    "Feasibility can be determined in polynomial time\n",
    "(NP-complete) – NP and at least as hard as any known NP problem\n",
    "(NP-hard) – not provably NP and at least as hard as any NP problem,\n",
    "Optimization over an NP-complete feasibility problem"
   ]
  },
  {
   "cell_type": "markdown",
   "id": "c0e2ab1e",
   "metadata": {
    "pycharm": {
     "name": "#%% md\n"
    }
   },
   "source": [
    "## 7.代数方程的应用-插值\n"
   ]
  },
  {
   "cell_type": "markdown",
   "id": "0049b3e6",
   "metadata": {
    "pycharm": {
     "name": "#%% md\n"
    }
   },
   "source": [
    "### 拉格朗日插值\n"
   ]
  },
  {
   "cell_type": "markdown",
   "id": "d3e68fed",
   "metadata": {
    "pycharm": {
     "name": "#%% md\n"
    }
   },
   "source": [
    "给定n+1不同的点：$(x_0,y_0),(x_1,y_1),\\ldots, (x_n,y_n)$，其中$a = x_0 < x_1 < \\ldots < x_n=b$,\n",
    "如何求过所有点的n次多项式？\n",
    "**方法1（特定系数法）**：\n",
    "\n",
    "设$f(x) = c_nx^n + c_{n-1}x^{n-1} + \\ldots + c_1x + c_0 $，将n+1个点的数据代入，得到方程组：\n",
    "$$\n",
    "\\left\\{\n",
    "\\begin{array}{c}\n",
    "c_nx_0^n + c_{n-1}x_0^{n-1} + \\ldots + c_1x_0 + c_0 = y_0\\\\\n",
    "c_nx_1^n + c_{n-1}x_1^{n-1} + \\ldots + c_1x_1 + c_0 = y_1\\\\\n",
    "\\vdots\\\\\n",
    "c_nx_n^n + c_{n-1}x_n^{n-1} + \\ldots + c_1x_n + c_0 = y_n\n",
    "\\end{array}\n",
    "\\right.\n",
    "$$\n",
    "\n",
    "将上述方程组写成矩阵形式 $Ac = \\mathbf{y}$, 其中\n",
    "\n",
    "$\\mathbf{c} = (c_n,c_{n-1},\\cdots, c_1,c_0)^T, \\mathbf{y} = (y_0,y_1,\\cdots, y_n)^T,$\n",
    "$$\n",
    "A = \\begin{pmatrix}\n",
    "x_0^n & x_0^{n-1} & \\ldots & x_0^2 & x_0 & 1 \\\\\n",
    "x_1^n & x_1^{n-1} & \\ldots & x_1^2 & x_1 & 1 \\\\\n",
    "\\vdots & \\vdots & \\ddots & \\vdots & \\vdots & \\vdots \\\\\n",
    "x_n^n & x_n^{n-1} & \\ldots & x_n^2 & x_n & 1\n",
    "\\end{pmatrix}\n",
    "$$\n",
    "\n",
    "考虑到矩阵A的行列式是范德蒙德行列式，而且$x_i \\ne x_j, 0\\le i,j \\le n$，故$det(A) \\ne 0$。\n",
    "\n",
    "从而A可逆, 我们可以得到方程的唯一解$c = A^{-1}\\mathbf{y}$。\n",
    "\n",
    "**方法2（拉格朗日多项式）**：\n",
    "\n",
    "考虑基函数$l_i(x) = \\prod_{j=0}^{n,j\\ne i} \\frac{x-x_j}{x_i-x_j}$\n",
    "\n",
    "当$ i\\ne j, l_i(x_j) = 0$, 当$i=j时, l_i(x_i) = 1$\n",
    "\n",
    "$ f(x) = \\sum_{i=0}^{n} l_i(x)y_i $\n",
    "\n",
    "很容易验证， $(x_i, y_i)$ 满足 $f(x_i)=y_i, i = 0,1,\\cdots n$\n",
    "\n",
    "\n"
   ]
  },
  {
   "cell_type": "markdown",
   "id": "1b470ff0",
   "metadata": {
    "pycharm": {
     "name": "#%% md\n"
    }
   },
   "source": [
    "## 8.最优化的应用-拟合"
   ]
  },
  {
   "cell_type": "markdown",
   "id": "a51d7d42",
   "metadata": {
    "pycharm": {
     "name": "#%% md\n"
    }
   },
   "source": [
    "### 线性最小二乘法"
   ]
  },
  {
   "cell_type": "markdown",
   "id": "97195383",
   "metadata": {
    "pycharm": {
     "name": "#%% md\n"
    }
   },
   "source": [
    "**向量微积分公式**：\n",
    "\n",
    "假设 $x \\in R^n, y\\in R^n, A\\in R^{n\\times n}$\n",
    "\n",
    "$\\frac{\\partial x^Ty}{\\partial x} = \\frac{\\partial y^Tx}{\\partial x} = y$,\n",
    "\n",
    "$\\frac{\\partial x^TAx}{\\partial x} = (A^T + A)x$\n",
    "\n",
    "如果$A^T = A$, $\\frac{\\partial x^TAx}{\\partial x} =2Ax$"
   ]
  },
  {
   "cell_type": "markdown",
   "id": "c9006eea",
   "metadata": {
    "pycharm": {
     "name": "#%% md\n"
    }
   },
   "source": [
    "**拟合问题**：\n",
    "\n",
    "给定n个点：$(x_1,y_1),\\ldots, (x_n,y_n)$，和基函数$\\phi_1(x),\\phi_2(x),\\ldots, \\phi_m(x)$,\n",
    "\n",
    "待拟合函数$f(x) = c_1\\phi_1(x)+c_2\\phi_2(x)+\\ldots +c_m\\phi_m(x)$, 如何拟合参数$c_1,c_2,\\cdots, c_m$，\n",
    "\n",
    "使得拟合的曲线与各个数据点的距离总体达到最小?\n",
    "\n",
    "**线性最小二乘法推导**：\n",
    "\n",
    "\n",
    "设定对应的向量，$x = (x_1,x_2,\\cdots, x_n)^T, y = (y_1,y_2,\\cdots, y_n)^T, c = (c_1,c_2,\\cdots, c_m)^T$\n",
    "\n",
    "将$x_i, i = 1,2,\\cdots,n$ 代入到基函数$f(x)$中，我们得到方程组：\n",
    "\n",
    "$$\n",
    "\\left\\{\n",
    "\\begin{array}{c}\n",
    "    c_1\\phi_1(x_1)+c_2\\phi_2(x_1)+\\cdots+c_m\\phi_m(x_1)=f(x_1) \\\\\n",
    "    c_1\\phi_1(x_2)+c_2\\phi_2(x_2)+\\cdots+c_m\\phi_m(x_2)=f(x_2) \\\\\n",
    "    \\cdots \\\\\n",
    "    c_1\\phi_1(x_n)+c_2\\phi_2(x_n)+\\cdots+c_m\\phi_m(x_n)=f(x_n) \\\\\n",
    "\\end{array}\n",
    "\\right.\n",
    "$$\n",
    "\n",
    "将上述方程组写成矩阵形式 $\\Phi c = \\mathbf{g}$, 其中\n",
    "\n",
    "$$\\mathbf{c} = (c_1,c_2,\\cdots, c_n)^T, \\mathbf{g} = (f(x_1), f(x_2),\\cdots, f(x_n))^T,$$\n",
    "$$\n",
    "\\Phi = \\begin{pmatrix}\n",
    "\\phi_1(x_1) & \\phi_2(x_1) & \\ldots & \\phi_m(x_1) \\\\\n",
    "\\phi_1(x_2) & \\phi_2(x_2) & \\ldots & \\phi_m(x_2) \\\\\n",
    "\\vdots & \\vdots & \\ddots & \\vdots \\\\\n",
    "\\phi_1(x_n) & \\phi_2(x_n) & \\ldots & \\phi_m(x_n)\n",
    "\\end{pmatrix}\n",
    "$$\n",
    "\n",
    "如何刻画f(x)和数据点之间的距离？我们这个地方采用欧氏距离。\n",
    "\n",
    "目标函数 $\\min J(c) = \\sum_{i=1}^n (f(x_i)-y_i)^2=||g-y||_2^2 $\n",
    "\n",
    "$J(c)=||\\Phi c-y||_2^2 = (\\Phi c-y)^T(\\Phi c-y) = c^T\\Phi^T\\Phi c- c^T\\Phi^Ty - y^T\\Phi c + y^Ty$\n",
    "\n",
    "$= c^T\\Phi^T\\Phi c- 2c^T\\Phi^Ty  + y^Ty$\n",
    "\n",
    "$\\frac{\\partial J(c)}{\\partial c} =  2\\Phi^T\\Phi c- 2\\Phi^Ty =0$\n",
    "\n",
    "$\\Phi^T\\Phi c = \\Phi^Ty$\n",
    "\n",
    "满足一定条件，$\\Phi^T\\Phi$可逆， 故$ c = (\\Phi^T\\Phi)^{-1}\\Phi^Ty$"
   ]
  },
  {
   "cell_type": "markdown",
   "id": "fa98f8a1",
   "metadata": {
    "pycharm": {
     "name": "#%% md\n"
    }
   },
   "source": [
    "## 9.过拟合问题\n"
   ]
  },
  {
   "cell_type": "code",
   "execution_count": null,
   "id": "9b8c8377",
   "metadata": {
    "pycharm": {
     "name": "#%%\n"
    }
   },
   "outputs": [
    {
     "name": "stdout",
     "output_type": "stream",
     "text": [
      "[1 2 3 4 5 6]\n",
      "真实值: 23\n",
      "预测值: 24.542384543409437 -9.808024643868155\n"
     ]
    },
    {
     "data": {
      "text/plain": [
       "[<matplotlib.lines.Line2D at 0x1d8184b7708>]"
      ]
     },
     "execution_count": 82,
     "metadata": {},
     "output_type": "execute_result"
    },
    {
     "data": {
      "image/png": "[encoded data removed]",
      "text/plain": [
       "<Figure size 432x288 with 1 Axes>"
      ]
     },
     "metadata": {
      "needs_background": "light"
     },
     "output_type": "display_data"
    }
   ],
   "source": [
    "import numpy as np\n",
    "import matplotlib.pyplot as plt\n",
    "%matplotlib inline\n",
    "\n",
    "x = np.arange(1,7)\n",
    "print(x)\n",
    "y = 3*x +2 + 3*np.random.rand(6)\n",
    "plt.figure()\n",
    "plt.plot(x,y,'bo')\n",
    "\n",
    "p1 = np.polyfit(x,y,1)\n",
    "p2 = np.polyfit(x,y,5)\n",
    "\n",
    "f1 = np.polyval(p1,7)\n",
    "f2 = np.polyval(p2,7)\n",
    "\n",
    "real= 3*7+2\n",
    "print('真实值:',real)\n",
    "print('预测值:', f1,f2)\n",
    "\n",
    "xnew = np.arange(1,8)\n",
    "y1 = np.polyval(p1,xnew)\n",
    "y2 = np.polyval(p2,xnew)\n",
    "plt.plot(xnew,y1,'r')\n",
    "plt.plot(xnew,y2,'m')"
   ]
  },
  {
   "cell_type": "markdown",
   "id": "5e5dfb08",
   "metadata": {
    "pycharm": {
     "name": "#%% md\n"
    }
   },
   "source": [
    "## 10.反问题的最小二乘法"
   ]
  },
  {
   "cell_type": "markdown",
   "id": "a3565983",
   "metadata": {
    "pycharm": {
     "name": "#%% md\n"
    }
   },
   "source": [
    "### CT图像成像原理\n"
   ]
  },
  {
   "cell_type": "markdown",
   "id": "f1b57926",
   "metadata": {
    "pycharm": {
     "name": "#%% md\n"
    }
   },
   "source": [
    "**模型建立**：\n",
    "\n",
    "(1) 射线穿过均匀物质时候的衰减规律：\n",
    "\n",
    "均匀物质对X射线的吸收规律满足关系$I=I_{0} e^{-\\mu_{X}}$， 通过变换可以得到 $\\mu=\\frac{1}{x} \\ln \\frac{I_{0}}{I}$，其中$\\mu$是X射线在物质中的衰减系数，$I_{0}$是初始的辐射量，$I$是衰减后的辐射量，$x$是辐射穿过物质的长度。在考虑X射线束通过非均匀物质时，我们通常将非均匀物质划分成多个小块，并假设每一个小块都是均匀的物质。\n",
    "\n",
    "\n",
    "\n",
    "根据前面均匀物质的吸收规律，我们有：$I_{1}=I_{0}e^{\\left(-\\mu_{1} x\\right)}$, $I_{2}=I_{1}{e}^{\\left(-\\mu_{2} x\\right)}$, $I_{n}=I_{0} e^{\\left[-\\left(\\mu_{1}+ \\mu_{2}+\\ldots+ \\mu_{n}\\right)\\right]x}$。 最后这个关系式，我们可以得到方程\n",
    "\\begin{equation}\n",
    "\\left(\\mu_{1}+\\mu_{2}+\\cdots+\\mu_{n}\\right)x=\\ln \\frac{I_{0}}{I_{n}}.\n",
    "\\end{equation}\n",
    "\n",
    "\n",
    "\n",
    " 旋转射线的方向，我们都能得到类似公式。这里面有细微的差别：当射线平行于水平线或者垂直时，X射线穿过每一个小方块的长度相同，所以有一个共同参数$x$；不同方向的X射线穿过不同的小方块的长度不一定相同，不妨设$L_i, i = 1\\ldots m$ 通过$j,j=1\\ldots n$个方块的长度是$a_{i,j}$。 在特定的系统中，给点射线的方向角度和特检查物体的位置，这些长度是已知的。 而我们需要估计的n个小块的衰减系数是$\\mu_j, j=1\\ldots n$。类似的,我们有\n",
    "$$a_{11}\\mu_{1}+a_{12}\\mu_{2}+\\cdots+a_{19}\\mu_{n}=\\ln \\frac{I_{0}}{I_{n,1}}$$\n",
    "$$a_{21}\\mu_{1}+a_{22}\\mu_{2}+\\cdots+a_{29}\\mu_{n}=\\ln \\frac{I_{0}}{I_{n,2}}$$\n",
    "$$\\cdots$$\n",
    "$$a_{m1}\\mu_{1}+a_{n2}\\mu_{2}+\\cdots+a_{n9}\\mu_{n}=\\ln \\frac{I_{0}}{I_{n,m}}$$\n",
    "其中，$I_{n,j},j = 1\\cdots m$是第$j$条射线穿过物体后的辐射量。这个关系式写成矩阵形式就是\n",
    "\\begin{equation}\n",
    "A\\mathbf{\\mu}=\\mathbf{b}\n",
    " \\end{equation}\n",
    "\n",
    "\n",
    "其中$A=(a_{ij})_{m\\times9}$, $\\mathbf{\\mu}={(\\mu_{1},\\mu_{2},\\cdots,\\mu_{9})}^{T}$, $\\mathbf{b}=(\\frac{I_{0}}{I_{9,1}},\\frac{I_{0}}{I_{9,2}},\\cdots,\\frac{I_{0}}{I_{9,1}})^{T}$。\n",
    "通过方程组\\ref{eq_ct2}可以求解出衰减系数$\\mu$。人体的不同器官组织的衰减系数差别比较大，通过所求的衰减系数的可视化，能够非常好观察人体的真实状况。\n",
    "\n",
    "实际CT图像重建要比上面的模型复杂，我们只是抽取了最本质的内容进行描述。医学图像重建包括CT图像重建和MRI图像重建依然是前言的研究领域。CT和MRI的发明及其应用所获的诺贝尔奖次数非常多，我们粗略统计有6次。\n",
    "\n",
    "对于超定方程，我们希望如下目标函数达到最小：\n",
    "\\begin{equation}\n",
    "min =||A\\mathbf{\\mu}-\\mathbf{b}||_{2}^{2}\n",
    "\\end{equation}\n",
    "\n",
    "对其求关于$\\mu$求偏导，得到最小二乘解：\n",
    "\\begin{equation}\n",
    "\\mathbf{\\mu}=(A^{T} A)^{-1}A^{T}\\mathbf{b}\n",
    "\\end{equation}\n",
    "\n",
    "2004年，陶哲轩，Donoho 和Candes三人分别了一项新的研究成果：压缩感知。 该方法考虑如下优化问题：\n",
    "\\begin{equation}\n",
    "min =||A\\mathbf{\\mu}-\\mathbf{b}||_{1}^{2}\n",
    "\\end{equation}\n",
    "\n",
    "\n",
    "基于压缩感知的重建方法能够用较少的次数采样得到更高精度的重建，在图像重建领域里面取得了重大突破。\n",
    "\n"
   ]
  },
  {
   "cell_type": "markdown",
   "id": "2c248b8f",
   "metadata": {
    "pycharm": {
     "name": "#%% md\n"
    }
   },
   "source": [
    "## 11.PDE差分\n",
    "\n",
    "\\begin{array}{l}\n",
    "u_{t}=D u_{x x}\\\\\n",
    "D \\text { diffusion constant }>0\\\\\n",
    "\\text { IC: } u(x, 0)=u_{0}(x)\\\\\n",
    "\\text { BC: } u(0, t)=g(t), u(1, t)=f(t)\n",
    "\\end{array}\n",
    "\n",
    "\n",
    "差分方法：\n",
    "\\begin{array}{l}\n",
    "\\frac{u_{i}^{n+1}-u_{i}^{n}}{k}=D \\frac{\\left(u_{i-1}^{n}-2 u_{i}^{n}+u_{i+1}^{n}\\right)}{h^{2}} \\\\\n",
    "u_{i}^{n+1}=u_{i}^{n}+\\frac{D k}{h^{2}}\\left(u_{i-1}^{n}-2 u_{i}^{n}+u_{i+1}^{n}\\right) \\\\\n",
    "u_{i}^{n+1}=\\frac{D k}{h^{2}} u_{i-1}^{n}+\\left(1-2 \\frac{D k}{h^{2}}\\right) u_{i}^{n}+\\frac{D k}{h^{2}} u_{i+1}^{n} \\\\\n",
    "\\text { Let } r=\\frac{D k}{h^{2}} \\\\\n",
    "u_{i}^{n+1}=r u_{i-1}^{n}+(1-2 r) u_{i}^{n}+r u_{i+1}^{n}\n",
    "\\end{array}\n",
    "\n",
    "\n",
    "\\begin{array}{l}\n",
    "\\frac{u_{i}^{n+1}-u_{i}^{n}}{k}=\\frac{D}{2}\\left(\\frac{\\left(u_{i-1}^{n}-2 u_{i}^{n}+u_{i+1}^{n}\\right)}{h^{2}}+\\frac{\\left(u_{i-1}^{n+1}-2 u_{i}^{n+1}+u_{i+1}^{n+1}\\right)}{h^{2}}\\right) \\\\\n",
    "u_{i}^{n+1}-\\frac{D k}{2 h^{2}}\\left(u_{i-1}^{n+1}-2 u_{i}^{n+1}+u_{i+1}^{n+1}\\right)=u_{i}^{n}+\\frac{D k}{2 h^{2}}\\left(u_{i-1}^{n}-2 u_{i}^{n}+u_{i+1}^{n}\\right) \\\\\n",
    "-\\frac{D k}{2 h^{2}} u_{i-1}^{n+1}+\\left(1-\\frac{D k}{h^{2}}\\right) u_{i}^{n+1}-\\frac{D k}{2 h^{2}} u_{i+1}^{n+1}=\\frac{D k}{2 h^{2}} u_{i-1}^{n}+\\left(1-\\frac{D k}{h^{2}}\\right) u_{i}^{n}+\\frac{D k}{2 h^{2}} u_{i+1}^{n} \\\\\n",
    "\\text { Let } r=\\frac{D k}{2 h^{2}} \\\\\n",
    "-r u_{i-1}^{n+1}+(1-2 r) u_{i}^{n+1}-r u_{i+1}^{n+1}=r u_{i-1}^{n}+(1-2 r) u_{i}^{n}+r u_{i+1}^{n}\n",
    "\\end{array}\n",
    "\n",
    "$$ \\left[\\begin{array}{cccc}\n",
    "(1-2 r) & -r & & \\\\\n",
    "-r & (1-2 r) & -r & \\\\\n",
    "& -r & \\ddots & -r \\\\\n",
    "& & -r & (1-2 r)\n",
    "\\end{array}\\right]\\left[\\begin{array}{c}\n",
    "u_{2}^{n+1} \\\\\n",
    "u_{3}^{n+1} \\\\\n",
    "\\vdots \\\\\n",
    "u_{N-1}^{n+1}\n",
    "\\end{array}\\right]=\\left[\\begin{array}{cccc}\n",
    "(1-2 r) & r & & \\\\\n",
    "r & (1-2 r) & r & \\\\\n",
    "& r & \\ddots & r \\\\\n",
    "& & r & (1-2 r)\n",
    "\\end{array}\\right]\\left[\\begin{array}{c}\n",
    "u_{2}^{n} \\\\\n",
    "u_{3}^{n} \\\\\n",
    "\\vdots \\\\\n",
    "u_{N-1}^{n}\n",
    "\\end{array}\\right] $$\n",
    "\n",
    "$$\n",
    "A \\mathbf{u}^{n+1}=B \\mathbf{u}^{n}\n",
    "$$\n",
    "\n",
    "\n",
    "\n"
   ]
  },
  {
   "cell_type": "markdown",
   "id": "68408cfb",
   "metadata": {
    "pycharm": {
     "name": "#%% md\n"
    }
   },
   "source": [
    "# 十八、九个常用的优化技巧"
   ]
  },
  {
   "cell_type": "markdown",
   "id": "cc5fc3ee",
   "metadata": {
    "pycharm": {
     "name": "#%% md\n"
    }
   },
   "source": [
    "## 1.如何将绝对值约束变为线性约束？\n",
    "如何将$\\sum_{i=1}^n |x_i|$变成线性？\n",
    "引入变量$u_i, v_i, i=1,2,\\dots,n$\n",
    "$$\n",
    "u_i = \\frac{|x_i| + x_i}{2} \\geqslant 0, v_i = \\frac{|x_i| - x_i}{2} \\geqslant 0\n",
    "$$\n",
    "$\\sum_{i=1}^n |x_i|$变为$\\sum_{i=1}^n (u_i + v_i)$"
   ]
  },
  {
   "cell_type": "markdown",
   "id": "fa810528",
   "metadata": {
    "pycharm": {
     "name": "#%% md\n"
    }
   },
   "source": [
    "## 2.如何将$\\min \\max z_i$变为线性约束？\n",
    "如何将目标函数$\\min \\max z_i$变为线性？\n",
    "添加变量！\n",
    "记$\\max z_i = v$, 则目标函数变为$\\min v$, 并增加$n$个约束条件: $z_i \\leqslant v, i=1,2,\\dots,n$."
   ]
  },
  {
   "cell_type": "markdown",
   "id": "1e91e7ad",
   "metadata": {
    "pycharm": {
     "name": "#%% md\n"
    }
   },
   "source": [
    "## 3. 如何将互斥约束(0-3问题)变为线性约束？\n",
    "如何将下面约束条件变为线性？（0-3问题）\n",
    "$$\n",
    "f(x_1, x_2, \\dots, x_n) = 0 \\text{ or } 3\n",
    "$$\n",
    "引入0-1变量$y$, 满足\n",
    "$$\n",
    "f(x_1, x_2, \\dots, x_n) = 3y\n",
    "$$\n",
    "\n",
    "$$\n",
    "y \\in \\{0, 1\\}\n",
    "$$"
   ]
  },
  {
   "cell_type": "markdown",
   "id": "7af9a240",
   "metadata": {
    "pycharm": {
     "name": "#%% md\n"
    }
   },
   "source": [
    "## 4.如何将不等式约束变为等式约束？\n",
    "如何将不等式约束变为等式约束？\n",
    "添加变量！\n",
    "例如，不等式约束$x_1 + x_2 + x_3 \\leqslant 1, x_i \\geqslant 0$，可以多设一个变量$x_0 \\geqslant 0$，使不等式约束变为等式约束$x_1 + x_2 + x_3 = 1, x_i \\geqslant 0$."
   ]
  },
  {
   "cell_type": "markdown",
   "id": "ba11afe2",
   "metadata": {
    "pycharm": {
     "name": "#%% md\n"
    }
   },
   "source": [
    "## 5.如何将多目标规划问题变为单目标规划问题？\n",
    "### 5.1目标函数为两个\n",
    "如果是两个目标的规划问题，通常采用的是\"控制变量法\"。\n",
    "在投资收益与风险问题(见司守奎老师的\"Python数学实验与建模\"187页)中，目标函数为\n",
    "$$\n",
    "\\begin{cases}\n",
    "\t\\max  \\sum_{i=0}^n{\\left( r_i-p_i \\right)}x_i \\text{  (盈利)}\\\\\n",
    "\t\\min  \\underset{1\\leqslant i\\leqslant n}{\\max}q_ix_i \\text{  (风险)}\\\\\n",
    "\\end{cases}\n",
    "$$\n",
    "\n",
    "**处理方式1：**\n",
    "通过固定盈利水平，极小化风险使多目标规划问题变为单目标问题:\n",
    "$$\n",
    "\\min \\underset{1\\leqslant i\\leqslant n}{\\max}q_ix_i\n",
    "$$\n",
    ", 增加约束条件$\\sum_{i=0}^n{\\left( r_i-p_i \\right)}x_i = N$.\n",
    "\n",
    "**处理方式2：**\n",
    "通过给定风险一个界限 ，使最大的一个风险$q_ix_i/M\\leqslant a$，此时也可使多目标规划问题变为单目标问题:\n",
    "$$\n",
    "\\max \\sum_{i=0}^n{\\left( r_i-p_i \\right)}x_i\n",
    "$$\n",
    ", 增加约束条件$q_ix_i/M\\leqslant a$.\n",
    "### 5.2目标函数多于两个\n",
    "通常采取的方式是对多个目标函数进行加权处理，即\n",
    "设由$n$个目标，不妨均设为$\\max$型，$\\max f_1(x), \\max f_2(x), \\dots, \\max f_n(x)$, 添加$n$个权重$\\omega_1, \\omega_2, \\dots, \\omega_n$,满足$\\sum_{i=1}^n \\omega_i = 1$，此时可通过对$n$个目标函数加权求和变为单目标规划问题：\n",
    "$$\n",
    "\\max \\sum_{i=1}^n \\omega_i f_i(x)\n",
    "$$"
   ]
  },
  {
   "cell_type": "markdown",
   "id": "a92391e8",
   "metadata": {
    "pycharm": {
     "name": "#%% md\n"
    }
   },
   "source": [
    "## 6.如何处理\"尽可能\"约束条件？\n",
    "当遇到\"尽可能\"这一约束条件时，常考虑引入**正负偏差**。例如，姜启源老师\"数学模型（第五版）\"4.7一节例2\"升级调薪问题\"，要求年工资总额\n",
    "$$\n",
    "510+5x_1+5x_2+10x_3\n",
    "$$\n",
    "尽可能不超过$600$。引入正负偏差$d^{+}, d^{-}$满足\n",
    "$$\n",
    "510+5x_1+5x_2+10x_3-d^++d^-=600\n",
    "$$\n",
    "\"尽可能\"这一约束条件就转化为使非负正偏差$d^{+}$尽可能小。\n"
   ]
  },
  {
   "cell_type": "markdown",
   "id": "c94f7059",
   "metadata": {
    "pycharm": {
     "name": "#%% md\n"
    }
   },
   "source": [
    "## 7.如何处理多个0-1变量关系？\n",
    "设有A, B两个0, 1变量. 要求A不成立($A=0$)推出B($B=0$)也不成立,可增加约束条件$A \\geqslant B$.\n"
   ]
  },
  {
   "cell_type": "markdown",
   "id": "19fa69e8",
   "metadata": {
    "pycharm": {
     "name": "#%% md\n"
    }
   },
   "source": [
    "## 8.如何处理对象内部的先后关系？\n",
    "面试问题(见该笔记的第一章1.4.1), 同一阶段不同同学面试的先后关系如何表示？这一关系是通过**充分大数$\\mathrm{M}$实现的**(注意$\\mathrm{M}$不能设为np.inf, 印象里会出bug, 具体记不太清了)。\n",
    "考察第$i$位同学与第$j$位同学, 设$s_i, s_j$分别为两位同学面试的开始时间, $e_i, e_j$分别为两位同学面试的结束时间.\n",
    "添加0-1变量$x_{i j}$: $x_{i j}=1$表示$i$前$j$后, 反之$i$后$j$前.\n",
    "则两个约束条件\n",
    "$$e_i \\leqslant s_j+\\left(1-x_{i j}\\right) M$$\n",
    "$$e_j \\leqslant s_i+x_{i j} M$$\n",
    "即可满足两位同学面试前后关系要求, 即不论$i$前$j$后, 还是$i$后$j$前, 两个条件均成立, 并且仅有之一起真正约束。"
   ]
  },
  {
   "cell_type": "markdown",
   "id": "0c0bb743",
   "metadata": {
    "pycharm": {
     "name": "#%% md\n"
    }
   },
   "source": [
    "## 9.如何处理分段线性函数？\n",
    "### 9.1理论方法\n",
    "设一个$n$段线性函数$f(x)$的分点为$b_1\\leqslant ...\\leqslant b_n\\leqslant b_{n+1}$, 引入$z_k$, 将$x$和$f(x)$表示为\n",
    "$$\n",
    "x=\\sum_{k=1}^{n+1}{z_k}b_k\n",
    "$$\n",
    "$$\n",
    "f\\left( x \\right) =\\sum_{k=1}^{n+1}{z_k}f\\left( b_k \\right)\n",
    "$$\n",
    "$z_k$和0-1变量$y_k$满足\n",
    "$$\n",
    "z_1\\leqslant y_1,z_2\\leqslant y_1+y_2,\\dots ,z_n\\leqslant y_{n-1}+y_n,z_{n+1}\\leqslant y_n\n",
    "$$\n",
    "$$\n",
    "\\sum_{i=1}^n{y_i}=1, y_k=0\\text{或}1\n",
    "$$\n",
    "$$\n",
    "\\sum_{i=1}^{n+1}{z_i}=1,z_k\\geqslant 0\\left( k=1,2,\\dots ,n+1 \\right)\n",
    "$$\n",
    "### 9.2实例\n",
    "姜启源老师\"数学模型（第五版）\"4.3一节例2原油采购与加工问题。该题的分段函数有实际意义，即只有当以10千元/t的价格购买时才能以8千元/t的价格购买 。\n",
    "上述实际意义符号化即为\n",
    "$$\n",
    "\\left( x_1-500 \\right) x_2=0\n",
    "$$\n",
    "$$\n",
    "\\left( x_2-500 \\right) x_3=0\n",
    "$$\n",
    "$$\n",
    "0\\leqslant x_1,x_2,x_3\\leqslant 500\n",
    "$$\n",
    "这也可以通过另一种技巧处理，通过引入0-1变量$y_1,y_2,y_3$转化为线性模型：\n",
    "$$\n",
    "500y_2\\leqslant x_1\\leqslant 500y_1\n",
    "$$\n",
    "$$\n",
    "500y_3\\leqslant x_2\\leqslant 500y_2\n",
    "$$\n",
    "$$\n",
    "x_3\\leqslant 500y_3\n",
    "$$\n",
    "$$\n",
    "y_1,y_2,y_3=0\\text{或}1\n",
    "$$\n",
    "\n"
   ]
  },
  {
   "cell_type": "markdown",
   "id": "1a27a635",
   "metadata": {
    "pycharm": {
     "name": "#%% md\n"
    }
   },
   "source": [
    "# 十九、参考资料\n",
    "[1]司守奎, 孙玺菁. Python数学实验与建模[M]. 北京: 科学出版社. 2020.\\\n",
    "[2]姜启源, 谢金星, 叶俊. 数学模型[M]. 第五版. 北京: 高等教育出版社. 2018.\\\n",
    "[3]J. VanderPlas, Python Data Science Handbook, 1st ed., O'Reilly  Media, 2016."
   ]
  }
 ],
 "metadata": {
  "celltoolbar": "无",
  "kernelspec": {
   "display_name": "Python 3 (ipykernel)",
   "language": "python",
   "name": "python3"
  },
  "language_info": {
   "codemirror_mode": {
    "name": "ipython",
    "version": 3
   },
   "file_extension": ".py",
   "mimetype": "text/x-python",
   "name": "python",
   "nbconvert_exporter": "python",
   "pygments_lexer": "ipython3",
   "version": "3.7.9"
  },
  "toc": {
   "base_numbering": 1,
   "nav_menu": {},
   "number_sections": true,
   "sideBar": true,
   "skip_h1_title": false,
   "title_cell": "Table of Contents",
   "title_sidebar": "Contents",
   "toc_cell": false,
   "toc_position": {
    "height": "calc(100% - 180px)",
    "left": "10px",
    "top": "150px",
    "width": "224.02px"
   },
   "toc_section_display": true,
   "toc_window_display": true
  },
  "toc-autonumbering": false,
  "toc-showcode": false,
  "toc-showmarkdowntxt": false,
  "toc-showtags": false
 },
 "nbformat": 4,
 "nbformat_minor": 5
}
