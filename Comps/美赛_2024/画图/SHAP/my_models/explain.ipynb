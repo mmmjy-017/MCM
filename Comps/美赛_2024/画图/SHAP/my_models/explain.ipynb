{
 "cells": [
  {
   "cell_type": "code",
   "execution_count": null,
   "metadata": {},
   "outputs": [],
   "source": [
    "import xgboost\n",
    "from sklearn.preprocessing import LabelEncoder\n",
    "import matplotlib.pyplot as plt\n",
    "import pandas as pd\n",
    "from xgboost import plot_importance\n",
    "from sklearn.model_selection import train_test_split\n",
    "from sklearn.metrics import confusion_matrix, classification_report, accuracy_score\n",
    "import numpy as np\n",
    "import matplotlib.pyplot as plt; plt.style.use('seaborn')\n",
    "import shap\n",
    "from train import model\n",
    "\n",
    "# model是在第1节中训练的模型\n",
    "explainer = shap.TreeExplainer(model)\n",
    "data = pd.read_csv('F:/Desktop/美赛_2024/train.csv')\n",
    "cols = ['server','winner','unf_err','net_pt_won',\t\n",
    "        'rec_score','overall_pt_diff','game_key_pt',\n",
    "        'set_key_pt','break_pt_won','ace','double_fault',\n",
    "        'serve_succ','point_victor']"
   ]
  },
  {
   "cell_type": "code",
   "execution_count": null,
   "metadata": {},
   "outputs": [],
   "source": [
    "# compute SHAP values\n",
    "explainer = shap.Explainer(model, X)\n",
    "shap_values = explainer(X)\n",
    "\n",
    "# model是在第1节中训练的模型\n",
    "explainer = shap.TreeExplainer(model)\n",
    "data = pd.read_csv('F:/Desktop/美赛_2024/train.csv')\n",
    "cols = ['server','winner','unf_err','net_pt_won',\t\n",
    "        'rec_score','overall_pt_diff','game_key_pt',\n",
    "        'set_key_pt','break_pt_won','ace','double_fault',\n",
    "        'serve_succ','point_victor']"
   ]
  },
  {
   "cell_type": "markdown",
   "metadata": {},
   "source": [
    "### SHAP计算"
   ]
  },
  {
   "cell_type": "code",
   "execution_count": null,
   "metadata": {},
   "outputs": [],
   "source": [
    "shap_values = explainer.shap_values(data[cols])\n",
    "print(shap_values.shape)\n",
    "y_base = explainer.expected_value\n",
    "print(y_base)\n",
    "\n",
    "data['pred'] = model.predict(data[cols])\n",
    "print(data['pred'].mean())"
   ]
  },
  {
   "cell_type": "markdown",
   "metadata": {},
   "source": [
    "##### 单个shap计算"
   ]
  },
  {
   "cell_type": "code",
   "execution_count": null,
   "metadata": {},
   "outputs": [],
   "source": [
    "# 比如我们挑选数据集中的第x行\n",
    "j = \n",
    "player_explainer = pd.DataFrame()\n",
    "player_explainer['feature'] = cols\n",
    "#某行\n",
    "player_explainer['feature_value'] = data[cols].iloc[j].values\n",
    "player_explainer['shap_value'] = shap_values[j]\n",
    "player_explainer"
   ]
  },
  {
   "cell_type": "code",
   "execution_count": null,
   "metadata": {},
   "outputs": [],
   "source": [
    "# 指定某行进行特征分析\n"
   ]
  },
  {
   "cell_type": "markdown",
   "metadata": {},
   "source": [
    "### 总体特征分析"
   ]
  },
  {
   "cell_type": "code",
   "execution_count": null,
   "metadata": {},
   "outputs": [],
   "source": [
    "shap.summary_plot(shap_values, data[cols])\n",
    "shap.initjs()\n",
    "shap.force_plot(explainer.expected_value, shap_values[j], data[cols].iloc[j])"
   ]
  },
  {
   "cell_type": "code",
   "execution_count": null,
   "metadata": {},
   "outputs": [],
   "source": [
    "shap.summary_plot(shap_values, data[cols], plot_type=\"bar\")"
   ]
  },
  {
   "cell_type": "markdown",
   "metadata": {},
   "source": [
    "### 部分依赖图"
   ]
  },
  {
   "cell_type": "code",
   "execution_count": null,
   "metadata": {},
   "outputs": [],
   "source": [
    "shap.dependence_plot('age', shap_values, data[cols]，interaction_index=None, show=False)"
   ]
  },
  {
   "cell_type": "markdown",
   "metadata": {},
   "source": [
    "### 多个变量交互分析"
   ]
  },
  {
   "cell_type": "code",
   "execution_count": null,
   "metadata": {},
   "outputs": [],
   "source": [
    "#两个列名  一个potential一个是 international——reputation\n",
    "shap.dependence_plot('potential', shap_values, data[cols], interaction_index='international_reputation', show=False)"
   ]
  }
 ],
 "metadata": {
  "kernelspec": {
   "display_name": "Python 3",
   "language": "python",
   "name": "python3"
  },
  "language_info": {
   "codemirror_mode": {
    "name": "ipython",
    "version": 3
   },
   "file_extension": ".py",
   "mimetype": "text/x-python",
   "name": "python",
   "nbconvert_exporter": "python",
   "pygments_lexer": "ipython3",
   "version": "3.11.5"
  }
 },
 "nbformat": 4,
 "nbformat_minor": 2
}
